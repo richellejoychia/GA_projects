{
 "cells": [
  {
   "cell_type": "markdown",
   "id": "a7a60133-a09c-4852-b165-42b81ea553f0",
   "metadata": {},
   "source": [
    "# Project 3(3): NLP - Preprocessing\n",
    "\n",
    "Done by: Richelle-Joy Chia, a Redditor-and-data-science enthusiast! \n",
    "\n",
    "Problem statement: Through natural language processing and classification models, how can we help Reddit and other interested parties classify posts based on the texts used by people who may be depressed or anxious? Furthermore, how can sentiment analysis be utilized to detect emotions associated with depression and anxiety?"
   ]
  },
  {
   "cell_type": "markdown",
   "id": "8499d2de-fa7b-481a-aae4-5be64897e3aa",
   "metadata": {},
   "source": [
    "## Pre-processing steps\n",
    "\n",
    "- Remove special characters\n",
    "- Tokenizing\n",
    "- Lemmatizing/Stemming\n",
    "- Stop word removal\n",
    "- Convert text data into a structured and numeric df "
   ]
  },
  {
   "cell_type": "code",
   "execution_count": 1,
   "id": "6d4b7be3-ddf1-42b4-a020-086813164e02",
   "metadata": {},
   "outputs": [],
   "source": [
    "#import libraries \n",
    "\n",
    "import matplotlib.pyplot as plt\n",
    "import pandas as pd\n",
    "import re\n",
    "import nltk\n",
    "import seaborn as sns\n",
    "import sys\n",
    "import tensorflow.keras\n",
    "import tensorflow as tf\n",
    "import numpy as np\n",
    "from sklearn.model_selection import train_test_split, GridSearchCV # split our data and run hyperparameter search\n",
    "from sklearn.pipeline import Pipeline # to compactly pack multiple modeling operations\n",
    "from sklearn.naive_bayes import BernoulliNB, MultinomialNB # to build our classification model\n",
    "from sklearn.metrics import confusion_matrix, ConfusionMatrixDisplay # to access results from binary classification task (you may also import other specific classification metrics)\n",
    "from nltk.stem import WordNetLemmatizer\n",
    "from nltk import word_tokenize\n",
    "from nltk.tokenize import RegexpTokenizer\n",
    "from sklearn.linear_model import LogisticRegression\n",
    "    \n",
    "# import CountVectorizer and TFIDFVectorizer from feature_extraction.text module in sklearn.\n",
    "from sklearn.feature_extraction.text import CountVectorizer, TfidfVectorizer\n",
    "\n",
    "# this setting widens how many characters pandas will display in a column\n",
    "pd.options.display.max_colwidth = 400"
   ]
  },
  {
   "cell_type": "code",
   "execution_count": 2,
   "id": "366557d3-bbfb-4406-bfcc-92de51c233ec",
   "metadata": {},
   "outputs": [],
   "source": [
    "# import data \n",
    "\n",
    "data = pd.read_csv('../joined.csv')"
   ]
  },
  {
   "cell_type": "code",
   "execution_count": 3,
   "id": "7fa40bfb-897c-4e62-8768-9f4b8be26f21",
   "metadata": {},
   "outputs": [],
   "source": [
    "# setting subreddit categories as target\n",
    "\n",
    "target = data['subreddit']"
   ]
  },
  {
   "cell_type": "markdown",
   "id": "f6c9ccd3-8fe3-41bc-a59e-499be25e9303",
   "metadata": {},
   "source": [
    "#### Convert data types and count number of characters and words"
   ]
  },
  {
   "cell_type": "code",
   "execution_count": 4,
   "id": "ecf452f0-48a2-4c3e-a20e-8b2b8091f324",
   "metadata": {},
   "outputs": [],
   "source": [
    "data['selftext'] = data['joined'].astype(str)"
   ]
  },
  {
   "cell_type": "code",
   "execution_count": 5,
   "id": "1b33a6b4-6b73-4c2d-a229-4e9a3d8206b2",
   "metadata": {},
   "outputs": [],
   "source": [
    "data['char_count'] = data['joined'].map(len)"
   ]
  },
  {
   "cell_type": "code",
   "execution_count": 6,
   "id": "91c98c31-6ac9-4048-a9d8-5c80a1b1d15d",
   "metadata": {},
   "outputs": [],
   "source": [
    "data['word_count'] = data['joined'].map(lambda x: len(x.split()))"
   ]
  },
  {
   "cell_type": "code",
   "execution_count": 7,
   "id": "1f5a23fc-6796-4252-826f-d6fe2e1b04ba",
   "metadata": {},
   "outputs": [
    {
     "data": {
      "text/html": [
       "<div>\n",
       "<style scoped>\n",
       "    .dataframe tbody tr th:only-of-type {\n",
       "        vertical-align: middle;\n",
       "    }\n",
       "\n",
       "    .dataframe tbody tr th {\n",
       "        vertical-align: top;\n",
       "    }\n",
       "\n",
       "    .dataframe thead th {\n",
       "        text-align: right;\n",
       "    }\n",
       "</style>\n",
       "<table border=\"1\" class=\"dataframe\">\n",
       "  <thead>\n",
       "    <tr style=\"text-align: right;\">\n",
       "      <th></th>\n",
       "      <th>date_time</th>\n",
       "      <th>subreddit</th>\n",
       "      <th>selftext</th>\n",
       "      <th>title</th>\n",
       "      <th>joined</th>\n",
       "      <th>char_count</th>\n",
       "      <th>word_count</th>\n",
       "    </tr>\n",
       "  </thead>\n",
       "  <tbody>\n",
       "    <tr>\n",
       "      <th>0</th>\n",
       "      <td>2022-10-03 07:50:04</td>\n",
       "      <td>0</td>\n",
       "      <td>Aching across chest and stomach and tiredness I seem to just be tired all the time at the moment, I also seem to get a fair few chest aches and pains up and down my abdomen that keep making me think oh god I’ve got that horrible illness starting with C, does anyone else experience anything similar to this in terms of the aches and pains and tiredness too ?</td>\n",
       "      <td>Aching across chest and stomach and tiredness</td>\n",
       "      <td>Aching across chest and stomach and tiredness I seem to just be tired all the time at the moment, I also seem to get a fair few chest aches and pains up and down my abdomen that keep making me think oh god I’ve got that horrible illness starting with C, does anyone else experience anything similar to this in terms of the aches and pains and tiredness too ?</td>\n",
       "      <td>358</td>\n",
       "      <td>70</td>\n",
       "    </tr>\n",
       "    <tr>\n",
       "      <th>1</th>\n",
       "      <td>2022-10-03 07:49:48</td>\n",
       "      <td>0</td>\n",
       "      <td>Very cold hands and feet while anxious Hey, so I have this problem for quite some time. It all started 3 years ago, somehow I just got more depressed, stressed out and tired, bored with my life, thinking about all existential things and such, half year ago I even had quite strong panic attacks and now I am already in a better circumstances I don't get them that much anymore, however I still ge...</td>\n",
       "      <td>Very cold hands and feet while anxious</td>\n",
       "      <td>Very cold hands and feet while anxious Hey, so I have this problem for quite some time. It all started 3 years ago, somehow I just got more depressed, stressed out and tired, bored with my life, thinking about all existential things and such, half year ago I even had quite strong panic attacks and now I am already in a better circumstances I don't get them that much anymore, however I still ge...</td>\n",
       "      <td>1819</td>\n",
       "      <td>341</td>\n",
       "    </tr>\n",
       "    <tr>\n",
       "      <th>2</th>\n",
       "      <td>2022-10-03 07:42:30</td>\n",
       "      <td>0</td>\n",
       "      <td>Feeling of lost sensation I keep feeling like I’m losing the sensation in my face, arms and body. I think it happens during or after an anxiety attack, but recently I keep getting it at night. It’s not just that wavering feeling when you’re scared or shocked, it’s full on heaviness like I can’t feel my arms. I’m still able to lift them but it really makes me freak out about paralysis and stuff</td>\n",
       "      <td>Feeling of lost sensation</td>\n",
       "      <td>Feeling of lost sensation I keep feeling like I’m losing the sensation in my face, arms and body. I think it happens during or after an anxiety attack, but recently I keep getting it at night. It’s not just that wavering feeling when you’re scared or shocked, it’s full on heaviness like I can’t feel my arms. I’m still able to lift them but it really makes me freak out about paralysis and stuff</td>\n",
       "      <td>396</td>\n",
       "      <td>74</td>\n",
       "    </tr>\n",
       "    <tr>\n",
       "      <th>3</th>\n",
       "      <td>2022-10-03 07:41:39</td>\n",
       "      <td>0</td>\n",
       "      <td>needs someone to talk to.. hi im dealing with intense anxiety and depression.. also a bit of family problems.. i have no one to talk to.. my mom and sister dont understand so anyones chats are open?</td>\n",
       "      <td>needs someone to talk to..</td>\n",
       "      <td>needs someone to talk to.. hi im dealing with intense anxiety and depression.. also a bit of family problems.. i have no one to talk to.. my mom and sister dont understand so anyones chats are open?</td>\n",
       "      <td>198</td>\n",
       "      <td>37</td>\n",
       "    </tr>\n",
       "    <tr>\n",
       "      <th>4</th>\n",
       "      <td>2022-10-03 07:38:55</td>\n",
       "      <td>0</td>\n",
       "      <td>Nothing helps my anxiety apart from benzodiazepines I’ve tried everything cbt therapy antipsychotics, antidepressants off label stuff like gabapentin etc nothing helps enough which is sad 😞 \\n\\nI’m from uk so can’t get benzodiazepines on prescription but I can get them there only thing that gets me out the house I know there Very addictive but can’t keep going on like this I’ve never went out ...</td>\n",
       "      <td>Nothing helps my anxiety apart from benzodiazepines</td>\n",
       "      <td>Nothing helps my anxiety apart from benzodiazepines I’ve tried everything cbt therapy antipsychotics, antidepressants off label stuff like gabapentin etc nothing helps enough which is sad 😞 \\n\\nI’m from uk so can’t get benzodiazepines on prescription but I can get them there only thing that gets me out the house I know there Very addictive but can’t keep going on like this I’ve never went out ...</td>\n",
       "      <td>493</td>\n",
       "      <td>87</td>\n",
       "    </tr>\n",
       "  </tbody>\n",
       "</table>\n",
       "</div>"
      ],
      "text/plain": [
       "             date_time  subreddit  \\\n",
       "0  2022-10-03 07:50:04          0   \n",
       "1  2022-10-03 07:49:48          0   \n",
       "2  2022-10-03 07:42:30          0   \n",
       "3  2022-10-03 07:41:39          0   \n",
       "4  2022-10-03 07:38:55          0   \n",
       "\n",
       "                                                                                                                                                                                                                                                                                                                                                                                                          selftext  \\\n",
       "0                                           Aching across chest and stomach and tiredness I seem to just be tired all the time at the moment, I also seem to get a fair few chest aches and pains up and down my abdomen that keep making me think oh god I’ve got that horrible illness starting with C, does anyone else experience anything similar to this in terms of the aches and pains and tiredness too ?   \n",
       "1  Very cold hands and feet while anxious Hey, so I have this problem for quite some time. It all started 3 years ago, somehow I just got more depressed, stressed out and tired, bored with my life, thinking about all existential things and such, half year ago I even had quite strong panic attacks and now I am already in a better circumstances I don't get them that much anymore, however I still ge...   \n",
       "2     Feeling of lost sensation I keep feeling like I’m losing the sensation in my face, arms and body. I think it happens during or after an anxiety attack, but recently I keep getting it at night. It’s not just that wavering feeling when you’re scared or shocked, it’s full on heaviness like I can’t feel my arms. I’m still able to lift them but it really makes me freak out about paralysis and stuff   \n",
       "3                                                                                                                                                                                                           needs someone to talk to.. hi im dealing with intense anxiety and depression.. also a bit of family problems.. i have no one to talk to.. my mom and sister dont understand so anyones chats are open?   \n",
       "4  Nothing helps my anxiety apart from benzodiazepines I’ve tried everything cbt therapy antipsychotics, antidepressants off label stuff like gabapentin etc nothing helps enough which is sad 😞 \\n\\nI’m from uk so can’t get benzodiazepines on prescription but I can get them there only thing that gets me out the house I know there Very addictive but can’t keep going on like this I’ve never went out ...   \n",
       "\n",
       "                                                 title  \\\n",
       "0        Aching across chest and stomach and tiredness   \n",
       "1               Very cold hands and feet while anxious   \n",
       "2                            Feeling of lost sensation   \n",
       "3                           needs someone to talk to..   \n",
       "4  Nothing helps my anxiety apart from benzodiazepines   \n",
       "\n",
       "                                                                                                                                                                                                                                                                                                                                                                                                            joined  \\\n",
       "0                                           Aching across chest and stomach and tiredness I seem to just be tired all the time at the moment, I also seem to get a fair few chest aches and pains up and down my abdomen that keep making me think oh god I’ve got that horrible illness starting with C, does anyone else experience anything similar to this in terms of the aches and pains and tiredness too ?   \n",
       "1  Very cold hands and feet while anxious Hey, so I have this problem for quite some time. It all started 3 years ago, somehow I just got more depressed, stressed out and tired, bored with my life, thinking about all existential things and such, half year ago I even had quite strong panic attacks and now I am already in a better circumstances I don't get them that much anymore, however I still ge...   \n",
       "2     Feeling of lost sensation I keep feeling like I’m losing the sensation in my face, arms and body. I think it happens during or after an anxiety attack, but recently I keep getting it at night. It’s not just that wavering feeling when you’re scared or shocked, it’s full on heaviness like I can’t feel my arms. I’m still able to lift them but it really makes me freak out about paralysis and stuff   \n",
       "3                                                                                                                                                                                                           needs someone to talk to.. hi im dealing with intense anxiety and depression.. also a bit of family problems.. i have no one to talk to.. my mom and sister dont understand so anyones chats are open?   \n",
       "4  Nothing helps my anxiety apart from benzodiazepines I’ve tried everything cbt therapy antipsychotics, antidepressants off label stuff like gabapentin etc nothing helps enough which is sad 😞 \\n\\nI’m from uk so can’t get benzodiazepines on prescription but I can get them there only thing that gets me out the house I know there Very addictive but can’t keep going on like this I’ve never went out ...   \n",
       "\n",
       "   char_count  word_count  \n",
       "0         358          70  \n",
       "1        1819         341  \n",
       "2         396          74  \n",
       "3         198          37  \n",
       "4         493          87  "
      ]
     },
     "execution_count": 7,
     "metadata": {},
     "output_type": "execute_result"
    }
   ],
   "source": [
    "# explore dataset\n",
    "\n",
    "data.head()"
   ]
  },
  {
   "cell_type": "code",
   "execution_count": 8,
   "id": "6e33c3af-b111-4ca2-9c87-be7682a4616d",
   "metadata": {},
   "outputs": [
    {
     "data": {
      "text/plain": [
       "0    0.500049\n",
       "1    0.499951\n",
       "Name: subreddit, dtype: float64"
      ]
     },
     "execution_count": 8,
     "metadata": {},
     "output_type": "execute_result"
    }
   ],
   "source": [
    "# see if data is balanced\n",
    "\n",
    "data['subreddit'].value_counts(normalize=True)"
   ]
  },
  {
   "cell_type": "code",
   "execution_count": 9,
   "id": "24f2d474-f730-4863-96c6-6a1ec12c6951",
   "metadata": {},
   "outputs": [
    {
     "data": {
      "text/plain": [
       "(30481, 7)"
      ]
     },
     "execution_count": 9,
     "metadata": {},
     "output_type": "execute_result"
    }
   ],
   "source": [
    "# explore data shape\n",
    "\n",
    "data.shape"
   ]
  },
  {
   "cell_type": "code",
   "execution_count": 10,
   "id": "6fc37109-0ba2-46fd-9ec7-40cd690dcf4f",
   "metadata": {
    "scrolled": true,
    "tags": []
   },
   "outputs": [],
   "source": [
    "# drop any duplicate rows that may have been pulled\n",
    "\n",
    "data = data.drop_duplicates(subset=['joined'], ignore_index=True)"
   ]
  },
  {
   "cell_type": "code",
   "execution_count": 11,
   "id": "c729e690-705e-4dda-a0cc-cc1fd6bcf13f",
   "metadata": {},
   "outputs": [
    {
     "data": {
      "text/plain": [
       "(29975, 7)"
      ]
     },
     "execution_count": 11,
     "metadata": {},
     "output_type": "execute_result"
    }
   ],
   "source": [
    "# explore data shape again \n",
    "\n",
    "data.shape"
   ]
  },
  {
   "cell_type": "code",
   "execution_count": 12,
   "id": "2992a99f-3727-485f-b654-fb4d7ef5741a",
   "metadata": {},
   "outputs": [],
   "source": [
    "# creating custom stop words in dataset after eyeballing dataset \n",
    "\n",
    "stop_words = frozenset(['[removed]', 'removed', '[deleted]', 'deleted', 'anxiety','depression','depressed'])\n",
    "custom_stop_words = stop_words.union(CountVectorizer(stop_words = 'english').get_stop_words())"
   ]
  },
  {
   "cell_type": "code",
   "execution_count": 13,
   "id": "ad776433-76dd-4613-84dd-1b37bdcdacde",
   "metadata": {},
   "outputs": [],
   "source": [
    "# storing stopwords\n",
    "\n",
    "stopwords = custom_stop_words"
   ]
  },
  {
   "cell_type": "code",
   "execution_count": 14,
   "id": "7f40e233-0adb-4594-8507-f9a6c1a628ce",
   "metadata": {},
   "outputs": [
    {
     "name": "stdout",
     "output_type": "stream",
     "text": [
      "(29975, 8)\n"
     ]
    }
   ],
   "source": [
    "# tokenization ,stopwords removal and Lemmatization\n",
    "\n",
    "tokenized_word = data['joined'].apply(lambda x: x.split())\n",
    "tokenized_word.head()\n",
    "tokenized_word = tokenized_word.apply(lambda x: [w for w in x if w not in stopwords])\n",
    "\n",
    "lemmatizer = nltk.stem.WordNetLemmatizer()\n",
    "tokenized_word = tokenized_word.apply(lambda x: [lemmatizer.lemmatize(i) for i in x]) #lemmatizer\n",
    "tokenized_word.head()\n",
    "for i in range(len(tokenized_word)):\n",
    "    tokenized_word[i] = ' '.join(tokenized_word[i])\n",
    "#title_pp - column after stopwords removal and lemmatization\n",
    "data['joined_new'] = tokenized_word\n",
    "print(data.shape)"
   ]
  },
  {
   "cell_type": "code",
   "execution_count": 15,
   "id": "6e5e6042-1190-4eb0-8334-ad7fbcd97463",
   "metadata": {},
   "outputs": [],
   "source": [
    "# reformat using regex\n",
    "\n",
    "def sub_preprocess(sub):\n",
    "    sub['joined_new'] = sub['joined_new'].apply(lambda x: re.sub(r\"\\d]+\", \"\", str(x).lower()))\n",
    "    sub['joined_new'] = sub['joined_new'].apply(lambda x: re.sub(r\"[@\\?\\.$%_\\[\\]()+-:*\\\"]\", ' ', x, flags=re.I))\n",
    "\n",
    "sub_preprocess(data)"
   ]
  },
  {
   "cell_type": "markdown",
   "id": "1f6aa795-3292-4fa3-b50d-4a251aded382",
   "metadata": {},
   "source": [
    "#### Convert data types and count number of characters and words after creating the new column 'joined_new'"
   ]
  },
  {
   "cell_type": "code",
   "execution_count": 16,
   "id": "a31c4cce-69e3-47af-b9ce-2b72b07ab832",
   "metadata": {},
   "outputs": [],
   "source": [
    "data['joined_new_char_count'] = data['joined_new'].map(len)"
   ]
  },
  {
   "cell_type": "code",
   "execution_count": 17,
   "id": "574d71af-5976-480c-b3e1-ad15c57c2693",
   "metadata": {},
   "outputs": [],
   "source": [
    "data['joined_new_word_count'] = data['joined_new'].map(lambda x: len(x.split()))"
   ]
  },
  {
   "cell_type": "code",
   "execution_count": 18,
   "id": "1064eb30-722a-468b-b939-7ea65fbe4e87",
   "metadata": {},
   "outputs": [
    {
     "data": {
      "text/html": [
       "<div>\n",
       "<style scoped>\n",
       "    .dataframe tbody tr th:only-of-type {\n",
       "        vertical-align: middle;\n",
       "    }\n",
       "\n",
       "    .dataframe tbody tr th {\n",
       "        vertical-align: top;\n",
       "    }\n",
       "\n",
       "    .dataframe thead th {\n",
       "        text-align: right;\n",
       "    }\n",
       "</style>\n",
       "<table border=\"1\" class=\"dataframe\">\n",
       "  <thead>\n",
       "    <tr style=\"text-align: right;\">\n",
       "      <th></th>\n",
       "      <th>date_time</th>\n",
       "      <th>subreddit</th>\n",
       "      <th>selftext</th>\n",
       "      <th>title</th>\n",
       "      <th>joined</th>\n",
       "      <th>char_count</th>\n",
       "      <th>word_count</th>\n",
       "      <th>joined_new</th>\n",
       "      <th>joined_new_char_count</th>\n",
       "      <th>joined_new_word_count</th>\n",
       "    </tr>\n",
       "  </thead>\n",
       "  <tbody>\n",
       "    <tr>\n",
       "      <th>0</th>\n",
       "      <td>2022-10-03 07:50:04</td>\n",
       "      <td>0</td>\n",
       "      <td>Aching across chest and stomach and tiredness I seem to just be tired all the time at the moment, I also seem to get a fair few chest aches and pains up and down my abdomen that keep making me think oh god I’ve got that horrible illness starting with C, does anyone else experience anything similar to this in terms of the aches and pains and tiredness too ?</td>\n",
       "      <td>Aching across chest and stomach and tiredness</td>\n",
       "      <td>Aching across chest and stomach and tiredness I seem to just be tired all the time at the moment, I also seem to get a fair few chest aches and pains up and down my abdomen that keep making me think oh god I’ve got that horrible illness starting with C, does anyone else experience anything similar to this in terms of the aches and pains and tiredness too ?</td>\n",
       "      <td>358</td>\n",
       "      <td>70</td>\n",
       "      <td>aching chest stomach tiredness i just tired time moment  i fair chest ache pain abdomen making think oh god i’ve got horrible illness starting c  doe experience similar term ache pain tiredness</td>\n",
       "      <td>195</td>\n",
       "      <td>32</td>\n",
       "    </tr>\n",
       "    <tr>\n",
       "      <th>1</th>\n",
       "      <td>2022-10-03 07:49:48</td>\n",
       "      <td>0</td>\n",
       "      <td>Very cold hands and feet while anxious Hey, so I have this problem for quite some time. It all started 3 years ago, somehow I just got more depressed, stressed out and tired, bored with my life, thinking about all existential things and such, half year ago I even had quite strong panic attacks and now I am already in a better circumstances I don't get them that much anymore, however I still ge...</td>\n",
       "      <td>Very cold hands and feet while anxious</td>\n",
       "      <td>Very cold hands and feet while anxious Hey, so I have this problem for quite some time. It all started 3 years ago, somehow I just got more depressed, stressed out and tired, bored with my life, thinking about all existential things and such, half year ago I even had quite strong panic attacks and now I am already in a better circumstances I don't get them that much anymore, however I still ge...</td>\n",
       "      <td>1819</td>\n",
       "      <td>341</td>\n",
       "      <td>very cold hand foot anxious hey  i problem quite time  it started   year ago  i just got depressed  stressed tired  bored life  thinking existential thing such  half year ago i quite strong panic attack i better circumstance i don't anymore  i anxious time week  slight manageable  and i year i panic attack  anxious i cold hand feet  i life  life i active working     time week       age range  ...</td>\n",
       "      <td>1086</td>\n",
       "      <td>176</td>\n",
       "    </tr>\n",
       "    <tr>\n",
       "      <th>2</th>\n",
       "      <td>2022-10-03 07:42:30</td>\n",
       "      <td>0</td>\n",
       "      <td>Feeling of lost sensation I keep feeling like I’m losing the sensation in my face, arms and body. I think it happens during or after an anxiety attack, but recently I keep getting it at night. It’s not just that wavering feeling when you’re scared or shocked, it’s full on heaviness like I can’t feel my arms. I’m still able to lift them but it really makes me freak out about paralysis and stuff</td>\n",
       "      <td>Feeling of lost sensation</td>\n",
       "      <td>Feeling of lost sensation I keep feeling like I’m losing the sensation in my face, arms and body. I think it happens during or after an anxiety attack, but recently I keep getting it at night. It’s not just that wavering feeling when you’re scared or shocked, it’s full on heaviness like I can’t feel my arms. I’m still able to lift them but it really makes me freak out about paralysis and stuff</td>\n",
       "      <td>396</td>\n",
       "      <td>74</td>\n",
       "      <td>feeling lost sensation i feeling like i’m losing sensation face  arm body  i think happens attack  recently i getting night  it’s just wavering feeling you’re scared shocked  it’s heaviness like i can’t feel arms  i’m able lift really make freak paralysis stuff</td>\n",
       "      <td>261</td>\n",
       "      <td>42</td>\n",
       "    </tr>\n",
       "    <tr>\n",
       "      <th>3</th>\n",
       "      <td>2022-10-03 07:41:39</td>\n",
       "      <td>0</td>\n",
       "      <td>needs someone to talk to.. hi im dealing with intense anxiety and depression.. also a bit of family problems.. i have no one to talk to.. my mom and sister dont understand so anyones chats are open?</td>\n",
       "      <td>needs someone to talk to..</td>\n",
       "      <td>needs someone to talk to.. hi im dealing with intense anxiety and depression.. also a bit of family problems.. i have no one to talk to.. my mom and sister dont understand so anyones chats are open?</td>\n",
       "      <td>198</td>\n",
       "      <td>37</td>\n",
       "      <td>need talk to   hi im dealing intense depression   bit family problems   talk to   mom sister dont understand anyones chat open</td>\n",
       "      <td>127</td>\n",
       "      <td>20</td>\n",
       "    </tr>\n",
       "    <tr>\n",
       "      <th>4</th>\n",
       "      <td>2022-10-03 07:38:55</td>\n",
       "      <td>0</td>\n",
       "      <td>Nothing helps my anxiety apart from benzodiazepines I’ve tried everything cbt therapy antipsychotics, antidepressants off label stuff like gabapentin etc nothing helps enough which is sad 😞 \\n\\nI’m from uk so can’t get benzodiazepines on prescription but I can get them there only thing that gets me out the house I know there Very addictive but can’t keep going on like this I’ve never went out ...</td>\n",
       "      <td>Nothing helps my anxiety apart from benzodiazepines</td>\n",
       "      <td>Nothing helps my anxiety apart from benzodiazepines I’ve tried everything cbt therapy antipsychotics, antidepressants off label stuff like gabapentin etc nothing helps enough which is sad 😞 \\n\\nI’m from uk so can’t get benzodiazepines on prescription but I can get them there only thing that gets me out the house I know there Very addictive but can’t keep going on like this I’ve never went out ...</td>\n",
       "      <td>493</td>\n",
       "      <td>87</td>\n",
       "      <td>nothing help apart benzodiazepine i’ve tried cbt therapy antipsychotics  antidepressant label stuff like gabapentin help sad 😞 i’m uk can’t benzodiazepine prescription i thing get house i know very addictive can’t going like i’ve went house   year i taking valium low dose i free ish</td>\n",
       "      <td>283</td>\n",
       "      <td>45</td>\n",
       "    </tr>\n",
       "  </tbody>\n",
       "</table>\n",
       "</div>"
      ],
      "text/plain": [
       "             date_time  subreddit  \\\n",
       "0  2022-10-03 07:50:04          0   \n",
       "1  2022-10-03 07:49:48          0   \n",
       "2  2022-10-03 07:42:30          0   \n",
       "3  2022-10-03 07:41:39          0   \n",
       "4  2022-10-03 07:38:55          0   \n",
       "\n",
       "                                                                                                                                                                                                                                                                                                                                                                                                          selftext  \\\n",
       "0                                           Aching across chest and stomach and tiredness I seem to just be tired all the time at the moment, I also seem to get a fair few chest aches and pains up and down my abdomen that keep making me think oh god I’ve got that horrible illness starting with C, does anyone else experience anything similar to this in terms of the aches and pains and tiredness too ?   \n",
       "1  Very cold hands and feet while anxious Hey, so I have this problem for quite some time. It all started 3 years ago, somehow I just got more depressed, stressed out and tired, bored with my life, thinking about all existential things and such, half year ago I even had quite strong panic attacks and now I am already in a better circumstances I don't get them that much anymore, however I still ge...   \n",
       "2     Feeling of lost sensation I keep feeling like I’m losing the sensation in my face, arms and body. I think it happens during or after an anxiety attack, but recently I keep getting it at night. It’s not just that wavering feeling when you’re scared or shocked, it’s full on heaviness like I can’t feel my arms. I’m still able to lift them but it really makes me freak out about paralysis and stuff   \n",
       "3                                                                                                                                                                                                           needs someone to talk to.. hi im dealing with intense anxiety and depression.. also a bit of family problems.. i have no one to talk to.. my mom and sister dont understand so anyones chats are open?   \n",
       "4  Nothing helps my anxiety apart from benzodiazepines I’ve tried everything cbt therapy antipsychotics, antidepressants off label stuff like gabapentin etc nothing helps enough which is sad 😞 \\n\\nI’m from uk so can’t get benzodiazepines on prescription but I can get them there only thing that gets me out the house I know there Very addictive but can’t keep going on like this I’ve never went out ...   \n",
       "\n",
       "                                                 title  \\\n",
       "0        Aching across chest and stomach and tiredness   \n",
       "1               Very cold hands and feet while anxious   \n",
       "2                            Feeling of lost sensation   \n",
       "3                           needs someone to talk to..   \n",
       "4  Nothing helps my anxiety apart from benzodiazepines   \n",
       "\n",
       "                                                                                                                                                                                                                                                                                                                                                                                                            joined  \\\n",
       "0                                           Aching across chest and stomach and tiredness I seem to just be tired all the time at the moment, I also seem to get a fair few chest aches and pains up and down my abdomen that keep making me think oh god I’ve got that horrible illness starting with C, does anyone else experience anything similar to this in terms of the aches and pains and tiredness too ?   \n",
       "1  Very cold hands and feet while anxious Hey, so I have this problem for quite some time. It all started 3 years ago, somehow I just got more depressed, stressed out and tired, bored with my life, thinking about all existential things and such, half year ago I even had quite strong panic attacks and now I am already in a better circumstances I don't get them that much anymore, however I still ge...   \n",
       "2     Feeling of lost sensation I keep feeling like I’m losing the sensation in my face, arms and body. I think it happens during or after an anxiety attack, but recently I keep getting it at night. It’s not just that wavering feeling when you’re scared or shocked, it’s full on heaviness like I can’t feel my arms. I’m still able to lift them but it really makes me freak out about paralysis and stuff   \n",
       "3                                                                                                                                                                                                           needs someone to talk to.. hi im dealing with intense anxiety and depression.. also a bit of family problems.. i have no one to talk to.. my mom and sister dont understand so anyones chats are open?   \n",
       "4  Nothing helps my anxiety apart from benzodiazepines I’ve tried everything cbt therapy antipsychotics, antidepressants off label stuff like gabapentin etc nothing helps enough which is sad 😞 \\n\\nI’m from uk so can’t get benzodiazepines on prescription but I can get them there only thing that gets me out the house I know there Very addictive but can’t keep going on like this I’ve never went out ...   \n",
       "\n",
       "   char_count  word_count  \\\n",
       "0         358          70   \n",
       "1        1819         341   \n",
       "2         396          74   \n",
       "3         198          37   \n",
       "4         493          87   \n",
       "\n",
       "                                                                                                                                                                                                                                                                                                                                                                                                        joined_new  \\\n",
       "0                                                                                                                                                                                                              aching chest stomach tiredness i just tired time moment  i fair chest ache pain abdomen making think oh god i’ve got horrible illness starting c  doe experience similar term ache pain tiredness     \n",
       "1  very cold hand foot anxious hey  i problem quite time  it started   year ago  i just got depressed  stressed tired  bored life  thinking existential thing such  half year ago i quite strong panic attack i better circumstance i don't anymore  i anxious time week  slight manageable  and i year i panic attack  anxious i cold hand feet  i life  life i active working     time week       age range  ...   \n",
       "2                                                                                                                                            feeling lost sensation i feeling like i’m losing sensation face  arm body  i think happens attack  recently i getting night  it’s just wavering feeling you’re scared shocked  it’s heaviness like i can’t feel arms  i’m able lift really make freak paralysis stuff   \n",
       "3                                                                                                                                                                                                                                                                                  need talk to   hi im dealing intense depression   bit family problems   talk to   mom sister dont understand anyones chat open    \n",
       "4                                                                                                                      nothing help apart benzodiazepine i’ve tried cbt therapy antipsychotics  antidepressant label stuff like gabapentin help sad 😞 i’m uk can’t benzodiazepine prescription i thing get house i know very addictive can’t going like i’ve went house   year i taking valium low dose i free ish   \n",
       "\n",
       "   joined_new_char_count  joined_new_word_count  \n",
       "0                    195                     32  \n",
       "1                   1086                    176  \n",
       "2                    261                     42  \n",
       "3                    127                     20  \n",
       "4                    283                     45  "
      ]
     },
     "execution_count": 18,
     "metadata": {},
     "output_type": "execute_result"
    }
   ],
   "source": [
    "data.head()"
   ]
  },
  {
   "cell_type": "markdown",
   "id": "f5cf64de-fc5f-469d-b995-a42f51608a3b",
   "metadata": {
    "tags": []
   },
   "source": [
    "#### Looking at character count and word count of selftext\n",
    "\n",
    "- Based on both histograms, it seems like the character count and word count for anxiety tend to be relatively stable. For depression, there is a number of cases that wrote more."
   ]
  },
  {
   "cell_type": "code",
   "execution_count": 19,
   "id": "3bae9ed2-41b7-4c87-ae2f-3e8e317ca889",
   "metadata": {},
   "outputs": [
    {
     "data": {
      "image/png": "[encoded data removed]",
      "text/plain": [
       "<Figure size 2000x1000 with 1 Axes>"
      ]
     },
     "metadata": {},
     "output_type": "display_data"
    }
   ],
   "source": [
    "plt.figure(figsize=(20,10))\n",
    "plt.hist([data[(data['subreddit']==0) & (data['joined_new_char_count'] < 500)]['joined_new_char_count'], \n",
    "          data[(data['subreddit']==1) & (data['joined_new_char_count'] < 500)]['joined_new_char_count']],\n",
    "         bins=30, color=['blue', 'orange'], ec='k')\n",
    "plt.title('Character Count in Joined text by mental illness', fontsize=30)\n",
    "plt.legend(['anxiety', 'depression']);"
   ]
  },
  {
   "cell_type": "code",
   "execution_count": 20,
   "id": "f6ffb389-6e55-4d3f-80bc-82bfea0fd1b3",
   "metadata": {},
   "outputs": [
    {
     "data": {
      "image/png": "[encoded data removed]",
      "text/plain": [
       "<Figure size 2000x1000 with 1 Axes>"
      ]
     },
     "metadata": {},
     "output_type": "display_data"
    }
   ],
   "source": [
    "plt.figure(figsize=(20,10))\n",
    "plt.hist([data[(data['subreddit']==0) & (data['joined_new_word_count'] < 60)]['joined_new_word_count'], \n",
    "          data[(data['subreddit']==1) & (data['joined_new_word_count'] < 60)]['joined_new_word_count']],\n",
    "         bins=20, color=['blue', 'orange'], ec='k')\n",
    "plt.title('Word Count in Joined text by mental illness', fontsize=30)\n",
    "plt.legend(['anxiety', 'depression']);"
   ]
  },
  {
   "cell_type": "markdown",
   "id": "8b9eb9c7-27c2-46e3-8f23-322a24e5097d",
   "metadata": {},
   "source": [
    "## CountVectorizer\n",
    "\n",
    "- This step is done to convert a collection of text documents to a matrix of token counts."
   ]
  },
  {
   "cell_type": "code",
   "execution_count": 21,
   "id": "910939e5-a135-46f9-83e0-483a4ccd8901",
   "metadata": {
    "scrolled": true,
    "tags": []
   },
   "outputs": [
    {
     "name": "stdout",
     "output_type": "stream",
     "text": [
      "  (0, 127)\t2\n",
      "  (0, 817)\t1\n",
      "  (0, 467)\t1\n",
      "  (0, 888)\t1\n",
      "  (0, 885)\t1\n",
      "  (0, 573)\t1\n",
      "  (0, 629)\t2\n",
      "  (0, 536)\t1\n",
      "  (0, 876)\t1\n",
      "  (0, 613)\t1\n",
      "  (0, 357)\t1\n",
      "  (0, 937)\t1\n",
      "  (0, 362)\t1\n",
      "  (0, 427)\t1\n",
      "  (0, 442)\t1\n",
      "  (0, 811)\t1\n",
      "  (0, 219)\t1\n",
      "  (0, 284)\t1\n",
      "  (0, 772)\t1\n",
      "  (0, 863)\t1\n",
      "  (1, 467)\t1\n",
      "  (1, 888)\t1\n",
      "  (1, 885)\t4\n",
      "  (1, 362)\t1\n",
      "  (1, 772)\t1\n",
      "  :\t:\n",
      "  (29974, 61)\t1\n",
      "  (29974, 396)\t1\n",
      "  (29974, 113)\t1\n",
      "  (29974, 322)\t1\n",
      "  (29974, 115)\t1\n",
      "  (29974, 464)\t1\n",
      "  (29974, 879)\t1\n",
      "  (29974, 990)\t1\n",
      "  (29974, 366)\t1\n",
      "  (29974, 398)\t1\n",
      "  (29974, 238)\t2\n",
      "  (29974, 257)\t1\n",
      "  (29974, 596)\t1\n",
      "  (29974, 179)\t1\n",
      "  (29974, 425)\t1\n",
      "  (29974, 388)\t1\n",
      "  (29974, 465)\t1\n",
      "  (29974, 270)\t1\n",
      "  (29974, 201)\t1\n",
      "  (29974, 599)\t1\n",
      "  (29974, 577)\t2\n",
      "  (29974, 26)\t1\n",
      "  (29974, 843)\t1\n",
      "  (29974, 644)\t1\n",
      "  (29974, 259)\t1\n"
     ]
    },
    {
     "name": "stderr",
     "output_type": "stream",
     "text": [
      "/Users/richelle-joychia/mambaforge/envs/dsi-sg/lib/python3.8/site-packages/sklearn/utils/deprecation.py:87: FutureWarning: Function get_feature_names is deprecated; get_feature_names is deprecated in 1.0 and will be removed in 1.2. Please use get_feature_names_out instead.\n",
      "  warnings.warn(msg, category=FutureWarning)\n"
     ]
    },
    {
     "data": {
      "text/html": [
       "<div>\n",
       "<style scoped>\n",
       "    .dataframe tbody tr th:only-of-type {\n",
       "        vertical-align: middle;\n",
       "    }\n",
       "\n",
       "    .dataframe tbody tr th {\n",
       "        vertical-align: top;\n",
       "    }\n",
       "\n",
       "    .dataframe thead th {\n",
       "        text-align: right;\n",
       "    }\n",
       "</style>\n",
       "<table border=\"1\" class=\"dataframe\">\n",
       "  <thead>\n",
       "    <tr style=\"text-align: right;\">\n",
       "      <th></th>\n",
       "      <th>0</th>\n",
       "    </tr>\n",
       "  </thead>\n",
       "  <tbody>\n",
       "    <tr>\n",
       "      <th>just</th>\n",
       "      <td>36304</td>\n",
       "    </tr>\n",
       "    <tr>\n",
       "      <th>like</th>\n",
       "      <td>32948</td>\n",
       "    </tr>\n",
       "    <tr>\n",
       "      <th>feel</th>\n",
       "      <td>31520</td>\n",
       "    </tr>\n",
       "    <tr>\n",
       "      <th>don</th>\n",
       "      <td>23837</td>\n",
       "    </tr>\n",
       "    <tr>\n",
       "      <th>ve</th>\n",
       "      <td>18553</td>\n",
       "    </tr>\n",
       "  </tbody>\n",
       "</table>\n",
       "</div>"
      ],
      "text/plain": [
       "          0\n",
       "just  36304\n",
       "like  32948\n",
       "feel  31520\n",
       "don   23837\n",
       "ve    18553"
      ]
     },
     "execution_count": 21,
     "metadata": {},
     "output_type": "execute_result"
    }
   ],
   "source": [
    "# instantiate a CountVectorizer with the default hyperparameters\n",
    "# tried to include more than 1000 max features but this seems to be the best parameter. \n",
    "\n",
    "cvec = CountVectorizer(analyzer='word', stop_words = 'english', min_df = 3, max_df=.98, max_features=1000)\n",
    "counts = cvec.fit_transform(data.joined_new)\n",
    "print(counts)\n",
    "pd.DataFrame(counts.sum(axis=0),columns=cvec.get_feature_names()).T.sort_values(0,ascending=False).head()"
   ]
  },
  {
   "cell_type": "code",
   "execution_count": 22,
   "id": "9a64ebaa-ce95-422b-a1b5-0a44bc132564",
   "metadata": {},
   "outputs": [
    {
     "name": "stderr",
     "output_type": "stream",
     "text": [
      "/Users/richelle-joychia/mambaforge/envs/dsi-sg/lib/python3.8/site-packages/sklearn/utils/deprecation.py:87: FutureWarning: Function get_feature_names is deprecated; get_feature_names is deprecated in 1.0 and will be removed in 1.2. Please use get_feature_names_out instead.\n",
      "  warnings.warn(msg, category=FutureWarning)\n"
     ]
    },
    {
     "data": {
      "text/html": [
       "<div>\n",
       "<style scoped>\n",
       "    .dataframe tbody tr th:only-of-type {\n",
       "        vertical-align: middle;\n",
       "    }\n",
       "\n",
       "    .dataframe tbody tr th {\n",
       "        vertical-align: top;\n",
       "    }\n",
       "\n",
       "    .dataframe thead th {\n",
       "        text-align: right;\n",
       "    }\n",
       "</style>\n",
       "<table border=\"1\" class=\"dataframe\">\n",
       "  <thead>\n",
       "    <tr style=\"text-align: right;\">\n",
       "      <th></th>\n",
       "      <th>0</th>\n",
       "    </tr>\n",
       "  </thead>\n",
       "  <tbody>\n",
       "    <tr>\n",
       "      <th>just</th>\n",
       "      <td>36304</td>\n",
       "    </tr>\n",
       "    <tr>\n",
       "      <th>like</th>\n",
       "      <td>32948</td>\n",
       "    </tr>\n",
       "    <tr>\n",
       "      <th>feel</th>\n",
       "      <td>31520</td>\n",
       "    </tr>\n",
       "    <tr>\n",
       "      <th>don</th>\n",
       "      <td>23837</td>\n",
       "    </tr>\n",
       "    <tr>\n",
       "      <th>ve</th>\n",
       "      <td>18553</td>\n",
       "    </tr>\n",
       "  </tbody>\n",
       "</table>\n",
       "</div>"
      ],
      "text/plain": [
       "          0\n",
       "just  36304\n",
       "like  32948\n",
       "feel  31520\n",
       "don   23837\n",
       "ve    18553"
      ]
     },
     "execution_count": 22,
     "metadata": {},
     "output_type": "execute_result"
    }
   ],
   "source": [
    "# most common words in joined_new (after stopwords removal and lemmatization)\n",
    "\n",
    "counts = cvec.fit_transform(data.joined_new)\n",
    "pd.DataFrame(counts.sum(axis=0),columns=cvec.get_feature_names()).T.sort_values(0,ascending=False).head()"
   ]
  },
  {
   "cell_type": "code",
   "execution_count": 23,
   "id": "f1d97158-5c51-482d-9875-c6d5d054df29",
   "metadata": {},
   "outputs": [
    {
     "name": "stderr",
     "output_type": "stream",
     "text": [
      "/Users/richelle-joychia/mambaforge/envs/dsi-sg/lib/python3.8/site-packages/sklearn/utils/deprecation.py:87: FutureWarning: Function get_feature_names is deprecated; get_feature_names is deprecated in 1.0 and will be removed in 1.2. Please use get_feature_names_out instead.\n",
      "  warnings.warn(msg, category=FutureWarning)\n"
     ]
    },
    {
     "data": {
      "text/html": [
       "<div>\n",
       "<style scoped>\n",
       "    .dataframe tbody tr th:only-of-type {\n",
       "        vertical-align: middle;\n",
       "    }\n",
       "\n",
       "    .dataframe tbody tr th {\n",
       "        vertical-align: top;\n",
       "    }\n",
       "\n",
       "    .dataframe thead th {\n",
       "        text-align: right;\n",
       "    }\n",
       "</style>\n",
       "<table border=\"1\" class=\"dataframe\">\n",
       "  <thead>\n",
       "    <tr style=\"text-align: right;\">\n",
       "      <th></th>\n",
       "      <th>0</th>\n",
       "    </tr>\n",
       "  </thead>\n",
       "  <tbody>\n",
       "    <tr>\n",
       "      <th>just</th>\n",
       "      <td>36304</td>\n",
       "    </tr>\n",
       "    <tr>\n",
       "      <th>like</th>\n",
       "      <td>32727</td>\n",
       "    </tr>\n",
       "    <tr>\n",
       "      <th>feel</th>\n",
       "      <td>27666</td>\n",
       "    </tr>\n",
       "    <tr>\n",
       "      <th>don</th>\n",
       "      <td>23837</td>\n",
       "    </tr>\n",
       "    <tr>\n",
       "      <th>ve</th>\n",
       "      <td>18553</td>\n",
       "    </tr>\n",
       "    <tr>\n",
       "      <th>know</th>\n",
       "      <td>17828</td>\n",
       "    </tr>\n",
       "    <tr>\n",
       "      <th>want</th>\n",
       "      <td>15201</td>\n",
       "    </tr>\n",
       "    <tr>\n",
       "      <th>life</th>\n",
       "      <td>14713</td>\n",
       "    </tr>\n",
       "    <tr>\n",
       "      <th>time</th>\n",
       "      <td>13835</td>\n",
       "    </tr>\n",
       "    <tr>\n",
       "      <th>really</th>\n",
       "      <td>13387</td>\n",
       "    </tr>\n",
       "  </tbody>\n",
       "</table>\n",
       "</div>"
      ],
      "text/plain": [
       "            0\n",
       "just    36304\n",
       "like    32727\n",
       "feel    27666\n",
       "don     23837\n",
       "ve      18553\n",
       "know    17828\n",
       "want    15201\n",
       "life    14713\n",
       "time    13835\n",
       "really  13387"
      ]
     },
     "execution_count": 23,
     "metadata": {},
     "output_type": "execute_result"
    }
   ],
   "source": [
    "# top 10 most common unigrams\n",
    "\n",
    "cvec = CountVectorizer(ngram_range=(1,1),stop_words=stopwords)\n",
    "counts = cvec.fit_transform(data.joined)\n",
    "pd.DataFrame(counts.sum(axis=0),columns=cvec.get_feature_names()).T.sort_values(0,ascending=False).head(10)"
   ]
  },
  {
   "cell_type": "code",
   "execution_count": 24,
   "id": "92c9287e-fa33-4743-91a8-7692d9de0177",
   "metadata": {},
   "outputs": [
    {
     "name": "stderr",
     "output_type": "stream",
     "text": [
      "/Users/richelle-joychia/mambaforge/envs/dsi-sg/lib/python3.8/site-packages/sklearn/utils/deprecation.py:87: FutureWarning: Function get_feature_names is deprecated; get_feature_names is deprecated in 1.0 and will be removed in 1.2. Please use get_feature_names_out instead.\n",
      "  warnings.warn(msg, category=FutureWarning)\n"
     ]
    },
    {
     "data": {
      "text/html": [
       "<div>\n",
       "<style scoped>\n",
       "    .dataframe tbody tr th:only-of-type {\n",
       "        vertical-align: middle;\n",
       "    }\n",
       "\n",
       "    .dataframe tbody tr th {\n",
       "        vertical-align: top;\n",
       "    }\n",
       "\n",
       "    .dataframe thead th {\n",
       "        text-align: right;\n",
       "    }\n",
       "</style>\n",
       "<table border=\"1\" class=\"dataframe\">\n",
       "  <thead>\n",
       "    <tr style=\"text-align: right;\">\n",
       "      <th></th>\n",
       "      <th>0</th>\n",
       "    </tr>\n",
       "  </thead>\n",
       "  <tbody>\n",
       "    <tr>\n",
       "      <th>feel like</th>\n",
       "      <td>10219</td>\n",
       "    </tr>\n",
       "    <tr>\n",
       "      <th>don know</th>\n",
       "      <td>7019</td>\n",
       "    </tr>\n",
       "    <tr>\n",
       "      <th>don want</th>\n",
       "      <td>3712</td>\n",
       "    </tr>\n",
       "    <tr>\n",
       "      <th>just want</th>\n",
       "      <td>2525</td>\n",
       "    </tr>\n",
       "    <tr>\n",
       "      <th>feels like</th>\n",
       "      <td>2214</td>\n",
       "    </tr>\n",
       "    <tr>\n",
       "      <th>panic attack</th>\n",
       "      <td>1985</td>\n",
       "    </tr>\n",
       "    <tr>\n",
       "      <th>panic attacks</th>\n",
       "      <td>1737</td>\n",
       "    </tr>\n",
       "    <tr>\n",
       "      <th>just feel</th>\n",
       "      <td>1530</td>\n",
       "    </tr>\n",
       "    <tr>\n",
       "      <th>just don</th>\n",
       "      <td>1366</td>\n",
       "    </tr>\n",
       "    <tr>\n",
       "      <th>mental health</th>\n",
       "      <td>1351</td>\n",
       "    </tr>\n",
       "  </tbody>\n",
       "</table>\n",
       "</div>"
      ],
      "text/plain": [
       "                   0\n",
       "feel like      10219\n",
       "don know        7019\n",
       "don want        3712\n",
       "just want       2525\n",
       "feels like      2214\n",
       "panic attack    1985\n",
       "panic attacks   1737\n",
       "just feel       1530\n",
       "just don        1366\n",
       "mental health   1351"
      ]
     },
     "execution_count": 24,
     "metadata": {},
     "output_type": "execute_result"
    }
   ],
   "source": [
    "# top 10 most common bigrams\n",
    "\n",
    "cvec = CountVectorizer(ngram_range=(2,2),stop_words=stopwords)\n",
    "counts = cvec.fit_transform(data.joined)\n",
    "pd.DataFrame(counts.sum(axis=0),columns=cvec.get_feature_names()).T.sort_values(0,ascending=False).head(10)"
   ]
  },
  {
   "cell_type": "code",
   "execution_count": 25,
   "id": "9463e579-b04d-4d3c-817a-c983eda29014",
   "metadata": {},
   "outputs": [
    {
     "name": "stderr",
     "output_type": "stream",
     "text": [
      "/Users/richelle-joychia/mambaforge/envs/dsi-sg/lib/python3.8/site-packages/sklearn/utils/deprecation.py:87: FutureWarning: Function get_feature_names is deprecated; get_feature_names is deprecated in 1.0 and will be removed in 1.2. Please use get_feature_names_out instead.\n",
      "  warnings.warn(msg, category=FutureWarning)\n"
     ]
    },
    {
     "data": {
      "text/html": [
       "<div>\n",
       "<style scoped>\n",
       "    .dataframe tbody tr th:only-of-type {\n",
       "        vertical-align: middle;\n",
       "    }\n",
       "\n",
       "    .dataframe tbody tr th {\n",
       "        vertical-align: top;\n",
       "    }\n",
       "\n",
       "    .dataframe thead th {\n",
       "        text-align: right;\n",
       "    }\n",
       "</style>\n",
       "<table border=\"1\" class=\"dataframe\">\n",
       "  <thead>\n",
       "    <tr style=\"text-align: right;\">\n",
       "      <th></th>\n",
       "      <th>0</th>\n",
       "    </tr>\n",
       "  </thead>\n",
       "  <tbody>\n",
       "    <tr>\n",
       "      <th>just feel like</th>\n",
       "      <td>529</td>\n",
       "    </tr>\n",
       "    <tr>\n",
       "      <th>just don know</th>\n",
       "      <td>505</td>\n",
       "    </tr>\n",
       "    <tr>\n",
       "      <th>don feel like</th>\n",
       "      <td>473</td>\n",
       "    </tr>\n",
       "    <tr>\n",
       "      <th>don know anymore</th>\n",
       "      <td>398</td>\n",
       "    </tr>\n",
       "    <tr>\n",
       "      <th>feel like going</th>\n",
       "      <td>318</td>\n",
       "    </tr>\n",
       "    <tr>\n",
       "      <th>feel like just</th>\n",
       "      <td>288</td>\n",
       "    </tr>\n",
       "    <tr>\n",
       "      <th>feel like ve</th>\n",
       "      <td>280</td>\n",
       "    </tr>\n",
       "    <tr>\n",
       "      <th>feel like don</th>\n",
       "      <td>262</td>\n",
       "    </tr>\n",
       "    <tr>\n",
       "      <th>makes feel like</th>\n",
       "      <td>259</td>\n",
       "    </tr>\n",
       "    <tr>\n",
       "      <th>having panic attack</th>\n",
       "      <td>242</td>\n",
       "    </tr>\n",
       "  </tbody>\n",
       "</table>\n",
       "</div>"
      ],
      "text/plain": [
       "                       0\n",
       "just feel like       529\n",
       "just don know        505\n",
       "don feel like        473\n",
       "don know anymore     398\n",
       "feel like going      318\n",
       "feel like just       288\n",
       "feel like ve         280\n",
       "feel like don        262\n",
       "makes feel like      259\n",
       "having panic attack  242"
      ]
     },
     "execution_count": 25,
     "metadata": {},
     "output_type": "execute_result"
    }
   ],
   "source": [
    "# top 10 most common trigrams\n",
    "\n",
    "cvec = CountVectorizer(ngram_range=(3,3),stop_words=stopwords)\n",
    "counts = cvec.fit_transform(data.joined)\n",
    "pd.DataFrame(counts.sum(axis=0),columns=cvec.get_feature_names()).T.sort_values(0,ascending=False).head(10)"
   ]
  },
  {
   "cell_type": "code",
   "execution_count": 26,
   "id": "2dee79a2-75c7-4ab9-aaa6-602a45095471",
   "metadata": {},
   "outputs": [],
   "source": [
    "# the vectorizer object will be used to transform text to vector form\n",
    "\n",
    "vectorizer = CountVectorizer(max_df=0.9, min_df=25, token_pattern='\\w+|\\$[\\d\\.]+|\\S+')"
   ]
  },
  {
   "cell_type": "code",
   "execution_count": 27,
   "id": "2e99bc72-a8d2-4aa5-907d-5da2b46a2377",
   "metadata": {},
   "outputs": [],
   "source": [
    "# apply transformation\n",
    "\n",
    "tf = vectorizer.fit_transform(data['joined_new']).toarray()"
   ]
  },
  {
   "cell_type": "code",
   "execution_count": 28,
   "id": "c8a7764c-be5b-479a-8b65-75545580eb79",
   "metadata": {},
   "outputs": [
    {
     "name": "stderr",
     "output_type": "stream",
     "text": [
      "/Users/richelle-joychia/mambaforge/envs/dsi-sg/lib/python3.8/site-packages/sklearn/utils/deprecation.py:87: FutureWarning: Function get_feature_names is deprecated; get_feature_names is deprecated in 1.0 and will be removed in 1.2. Please use get_feature_names_out instead.\n",
      "  warnings.warn(msg, category=FutureWarning)\n"
     ]
    }
   ],
   "source": [
    "# tf_feature_names tells us what word each column in the matric represents\n",
    "\n",
    "tf_feature_names = vectorizer.get_feature_names()"
   ]
  },
  {
   "cell_type": "markdown",
   "id": "a7b9ebe0-d174-4129-805d-a8ec312cff66",
   "metadata": {},
   "source": [
    "## Time to export data to csv for modeling. "
   ]
  },
  {
   "cell_type": "code",
   "execution_count": 29,
   "id": "4cf18eb2-beb4-4580-9953-37920a71c1d1",
   "metadata": {},
   "outputs": [],
   "source": [
    "#save test data \n",
    "\n",
    "data.to_csv('./data.csv', index=False)"
   ]
  }
 ],
 "metadata": {
  "kernelspec": {
   "display_name": "Python 3 (ipykernel)",
   "language": "python",
   "name": "python3"
  },
  "language_info": {
   "codemirror_mode": {
    "name": "ipython",
    "version": 3
   },
   "file_extension": ".py",
   "mimetype": "text/x-python",
   "name": "python",
   "nbconvert_exporter": "python",
   "pygments_lexer": "ipython3",
   "version": "3.8.13"
  }
 },
 "nbformat": 4,
 "nbformat_minor": 5
}
