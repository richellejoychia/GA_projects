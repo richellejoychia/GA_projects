{
 "cells": [
  {
   "cell_type": "markdown",
   "id": "fa9e9809",
   "metadata": {},
   "source": [
    "# Project 3(5a): NLP Sentiment Analysis - Hugging Face Model 1\n",
    "\n",
    "Done by: Richelle-Joy Chia, a Redditor-and-data-science enthusiast! \n",
    "\n",
    "\n",
    "\n",
    "Problem statement: Through natural language processing and classification models, how can we help Reddit and other interested parties classify posts based on the texts used by people who may be depressed or anxious? Furthermore, how can sentiment analysis be utilized to detect emotions associated with depression and anxiety?"
   ]
  },
  {
   "cell_type": "markdown",
   "id": "7396e733-1a7a-48a2-ae07-09a650a3ad1a",
   "metadata": {},
   "source": [
    "## Summary\n",
    "\n",
    "To address part 2 of the problem statement, I conducted a sentiment analysis using 2 models from hugging face to further label each post with the specific emotion(s). The question to think about is among those who experience depression and anxiety, what is the underlying root cause for such mood disorders? One explanation is that on top of feeling sad or anxious (primary emotions), these people could be feeling hurt, nervous, fearful, or annoyed. Hence, I hope that using a model that examines primary emotions (Model 1) as well as secondary emotions (Model 2) would provide some deeper insights into how people are feeling when they write their reddit post. \n",
    "\n",
    "\n",
    "## Hugging Face - Model 1 (jhart)\n",
    "\n",
    "Model 1 has been trained on 6 diverse datasets predicting Ekman's 6 basic emotions + a neutral class. This model aims to classify emotions from English text data. \n",
    "\n",
    "- https://huggingface.co/j-hartmann/emotion-english-roberta-large \n"
   ]
  },
  {
   "cell_type": "code",
   "execution_count": 1,
   "id": "7de71f5e",
   "metadata": {},
   "outputs": [],
   "source": [
    "# import libraries \n",
    "\n",
    "import matplotlib.pyplot as plt\n",
    "import pandas as pd\n",
    "import nltk\n",
    "import seaborn as sns\n",
    "import sys\n",
    "import tensorflow.keras\n",
    "import tensorflow as tf\n",
    "import numpy as np\n",
    "from tqdm import tqdm \n",
    "from transformers import pipeline # loading pre-trained models for contextual word embeddings (Hugging Face)"
   ]
  },
  {
   "cell_type": "code",
   "execution_count": 4,
   "id": "6e499a22",
   "metadata": {},
   "outputs": [],
   "source": [
    "# import data \n",
    "\n",
    "data = pd.read_csv('../data.csv')"
   ]
  },
  {
   "cell_type": "code",
   "execution_count": 5,
   "id": "598e1f55",
   "metadata": {},
   "outputs": [],
   "source": [
    "# drop rows that have been affected by transforming pd df to csv\n",
    "\n",
    "data.dropna(axis=0, inplace=True)"
   ]
  },
  {
   "cell_type": "markdown",
   "id": "5d7aee45-558c-460a-94f4-7d701e92fe9b",
   "metadata": {},
   "source": [
    "- Based on some preliminary analysis, both Hugging Face models have a pre-set word limit of 512. I will be exploring the data to see if there are alot of rows with more than 500 words. Given the results below, we can see the 99% of data has less than 500 words. As such, we won't be losing much information if we were to use both models from Hugging Face. "
   ]
  },
  {
   "cell_type": "code",
   "execution_count": 6,
   "id": "41ae24d9",
   "metadata": {},
   "outputs": [
    {
     "data": {
      "text/plain": [
       "array([[<matplotlib.axes._subplots.AxesSubplot object at 0x0000023101E4A280>]],\n",
       "      dtype=object)"
      ]
     },
     "execution_count": 6,
     "metadata": {},
     "output_type": "execute_result"
    },
    {
     "data": {
      "image/png": "[encoded data removed]",
      "text/plain": [
       "<Figure size 720x360 with 1 Axes>"
      ]
     },
     "metadata": {
      "needs_background": "light"
     },
     "output_type": "display_data"
    }
   ],
   "source": [
    "# plot histogram to see word count distribution\n",
    "\n",
    "data[['joined_new_word_count']].hist(figsize=(10,5))"
   ]
  },
  {
   "cell_type": "code",
   "execution_count": 7,
   "id": "88793d93",
   "metadata": {},
   "outputs": [
    {
     "data": {
      "text/plain": [
       "0.9936934832660416"
      ]
     },
     "execution_count": 7,
     "metadata": {},
     "output_type": "execute_result"
    }
   ],
   "source": [
    "# calculate the percentage of data that has less than 500 words\n",
    "\n",
    "(data['joined_new_word_count']<500).sum()/len(data)"
   ]
  },
  {
   "cell_type": "code",
   "execution_count": 8,
   "id": "f58f978f",
   "metadata": {},
   "outputs": [
    {
     "name": "stderr",
     "output_type": "stream",
     "text": [
      "All model checkpoint layers were used when initializing TFRobertaForSequenceClassification.\n",
      "\n",
      "All the layers of TFRobertaForSequenceClassification were initialized from the model checkpoint at j-hartmann/emotion-english-distilroberta-base.\n",
      "If your task is similar to the task the model of the checkpoint was trained on, you can already use TFRobertaForSequenceClassification for predictions without further training.\n"
     ]
    },
    {
     "data": {
      "text/plain": [
       "[{'label': 'joy', 'score': 0.9614477157592773}]"
      ]
     },
     "execution_count": 8,
     "metadata": {},
     "output_type": "execute_result"
    }
   ],
   "source": [
    "# run pipeline to activate model 1\n",
    "\n",
    "classifier = pipeline(\"text-classification\", model=\"j-hartmann/emotion-english-distilroberta-base\", truncation=True)\n",
    "classifier(\"I love my life\")"
   ]
  },
  {
   "cell_type": "code",
   "execution_count": 1,
   "id": "7824455a",
   "metadata": {},
   "outputs": [],
   "source": [
    "# custom function to store the respective scores (in this scenario, scores refer to the probability of the emotion occuring, which will be used as the metric) \n",
    "\n",
    "def classify(df):\n",
    "    labels=[]\n",
    "    scores=[]\n",
    "    for i in tqdm(df['joined_new'], desc = 'tqdm() Progress Bar'): \n",
    "        index = 0\n",
    "        if index < len(df):\n",
    "            output = classifier([i])\n",
    "            labels.append(output[0]['label'])\n",
    "            scores.append(output[0]['score'])\n",
    "            index += 1\n",
    "    df['labels_jhart'] = pd.DataFrame(labels)\n",
    "    df['scores_jhart'] = pd.DataFrame(scores)\n",
    "    return"
   ]
  },
  {
   "cell_type": "code",
   "execution_count": 10,
   "id": "8c2e3b3e",
   "metadata": {
    "scrolled": true
   },
   "outputs": [
    {
     "name": "stderr",
     "output_type": "stream",
     "text": [
      "tqdm() Progress Bar: 100%|█████████████████████████████████████████████████████| 29969/29969 [1:08:28<00:00,  7.29it/s]"
     ]
    },
    {
     "name": "stdout",
     "output_type": "stream",
     "text": [
      "Wall time: 1h 8min 28s\n"
     ]
    },
    {
     "name": "stderr",
     "output_type": "stream",
     "text": [
      "\n"
     ]
    }
   ],
   "source": [
    "%%time\n",
    "classify(data)"
   ]
  },
  {
   "cell_type": "code",
   "execution_count": 11,
   "id": "306861bf",
   "metadata": {},
   "outputs": [],
   "source": [
    "# store df as csv\n",
    "\n",
    "data.to_csv('7emo_data_updated.csv', index=False)"
   ]
  },
  {
   "cell_type": "markdown",
   "id": "8ced985d-8695-4b0a-89e1-3b6954887543",
   "metadata": {},
   "source": [
    "## I have included the description of Model 2 and the associated codes in the next notebook. "
   ]
  }
 ],
 "metadata": {
  "kernelspec": {
   "display_name": "Python 3 (ipykernel)",
   "language": "python",
   "name": "python3"
  },
  "language_info": {
   "codemirror_mode": {
    "name": "ipython",
    "version": 3
   },
   "file_extension": ".py",
   "mimetype": "text/x-python",
   "name": "python",
   "nbconvert_exporter": "python",
   "pygments_lexer": "ipython3",
   "version": "3.8.13"
  }
 },
 "nbformat": 4,
 "nbformat_minor": 5
}
