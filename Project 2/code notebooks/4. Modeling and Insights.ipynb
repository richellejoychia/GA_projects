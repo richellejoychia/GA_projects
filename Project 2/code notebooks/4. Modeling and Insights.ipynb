{
 "cells": [
  {
   "cell_type": "markdown",
   "id": "004a4447-2f7e-4a91-8605-095d8f9e5c5a",
   "metadata": {
    "tags": []
   },
   "source": [
    "# Project 2: Helping realtors to predict sale prices in Ames \n",
    "\n",
    "Done by: Richelle-Joy Chia, data scientist and realtor at MyProperty\n",
    "\n",
    "\n",
    "Problem statement: How can we help realtors effectively and efficiently predict the market value of houses in Ames, Iowa?"
   ]
  },
  {
   "cell_type": "markdown",
   "id": "a23ca996-17a1-4bd8-a917-840fddf97139",
   "metadata": {},
   "source": [
    "## Part 4: Modeling and insights"
   ]
  },
  {
   "cell_type": "code",
   "execution_count": 1,
   "id": "1369c503-48a1-4593-8d72-5f605987fcbe",
   "metadata": {},
   "outputs": [],
   "source": [
    "# import relevant libraries \n",
    "\n",
    "import pandas as pd\n",
    "import numpy as np\n",
    "import scipy.stats as stats\n",
    "from itertools import combinations\n",
    "from sklearn.linear_model import Ridge, Lasso, ElasticNet, LinearRegression, RidgeCV, LassoCV, ElasticNetCV\n",
    "from sklearn.metrics import mean_squared_error\n",
    "from sklearn.model_selection import cross_val_score, cross_val_predict, train_test_split, GridSearchCV, RandomizedSearchCV\n",
    "from sklearn.pipeline import Pipeline\n",
    "from sklearn.preprocessing import PolynomialFeatures, StandardScaler\n",
    "from sklearn.feature_selection import chi2\n",
    "from sklearn.model_selection import train_test_split\n",
    "from sklearn.neighbors import KNeighborsClassifier\n",
    "from math import sqrt # alternative to (variable)**0.5\n",
    "from sklearn import metrics\n",
    "\n",
    "import matplotlib\n",
    "import matplotlib.pyplot as plt\n",
    "import seaborn as sns\n",
    "plt.style.use('seaborn')\n",
    "sns.set(style=\"white\", color_codes=True)\n",
    "colors_palette = sns.color_palette(\"GnBu_d\")\n",
    "sns.set_palette(colors_palette)\n"
   ]
  },
  {
   "cell_type": "code",
   "execution_count": 2,
   "id": "3bea81d8-2e2b-4ecc-b65d-3f023e590c4e",
   "metadata": {},
   "outputs": [],
   "source": [
    "# import datasets\n",
    "\n",
    "train_data = pd.read_csv('./datasets/train_data_final.csv')\n",
    "test_data = pd.read_csv('./datasets/test_data_final.csv')\n",
    "test_ids = pd.read_csv('./datasets/test_data_final.csv')['Id']"
   ]
  },
  {
   "cell_type": "markdown",
   "id": "eed65a73-fa39-4524-b156-f7c50cac6682",
   "metadata": {},
   "source": [
    "## Model Preparation"
   ]
  },
  {
   "cell_type": "markdown",
   "id": "78976011-5129-4544-a375-b6eacd850bef",
   "metadata": {},
   "source": [
    "### Train/test split\n",
    "\n",
    "- This step is used to estimate the performance of a prediction-based algorithim. This will allow me to compare my machine learning model results to the machine results. "
   ]
  },
  {
   "cell_type": "code",
   "execution_count": 3,
   "id": "401b4e6e-2123-4b23-aa43-d313f903daae",
   "metadata": {},
   "outputs": [],
   "source": [
    "features = [col for col in train_data._get_numeric_data().columns if col !='SalePrice']\n",
    "features\n",
    "X = train_data[features]\n",
    "y = train_data['SalePrice']"
   ]
  },
  {
   "cell_type": "code",
   "execution_count": 4,
   "id": "eaf1d386-d3ea-4094-bc8e-32f39ed4de54",
   "metadata": {},
   "outputs": [],
   "source": [
    "X_train, X_test, y_train, y_test = train_test_split(X, y, test_size=0.2, random_state=42)"
   ]
  },
  {
   "cell_type": "markdown",
   "id": "4c96edd7-0d7a-4b7f-b18e-d4ab5fa39036",
   "metadata": {},
   "source": [
    "### Scaling\n",
    "\n",
    "- This step is crucial for the model as there are some features that may have different properties or do not follow a standard normal distribution. In other words, standardizing the features would help put everything on the same page."
   ]
  },
  {
   "cell_type": "code",
   "execution_count": 5,
   "id": "16fe3eb2-4f54-4a64-a140-fdb38cb98713",
   "metadata": {},
   "outputs": [],
   "source": [
    "ss = StandardScaler()\n",
    "ss.fit(X_train)\n",
    "\n",
    "X_train_sc = ss.transform(X_train)\n",
    "X_test_sc = ss.transform(X_test)"
   ]
  },
  {
   "cell_type": "markdown",
   "id": "691e2ba5-a5be-4270-b6ba-e0fb8c557471",
   "metadata": {},
   "source": [
    "### Instantiate our models "
   ]
  },
  {
   "cell_type": "code",
   "execution_count": 6,
   "id": "cd23b463-e2a8-4209-b894-5656b9252ac1",
   "metadata": {},
   "outputs": [],
   "source": [
    "lr = LinearRegression()"
   ]
  },
  {
   "cell_type": "code",
   "execution_count": 7,
   "id": "dd49819f-c59f-4929-90e7-49052ad1a8e1",
   "metadata": {},
   "outputs": [],
   "source": [
    "ridge = RidgeCV(alphas=np.linspace(1, 200, 100))"
   ]
  },
  {
   "cell_type": "code",
   "execution_count": 8,
   "id": "f1b95db2-3e6e-4507-99bd-6038a82339fe",
   "metadata": {},
   "outputs": [],
   "source": [
    "lasso = LassoCV(n_alphas=100)"
   ]
  },
  {
   "cell_type": "code",
   "execution_count": 9,
   "id": "1fbbe3f9-7413-4ead-8491-68ab8c1237a7",
   "metadata": {},
   "outputs": [],
   "source": [
    "enet_alphas = np.arange(0.5, 1.0, 0.005)\n",
    "enet_ratio = 0.5\n",
    "enet = ElasticNetCV(alphas=enet_alphas, l1_ratio=enet_ratio, cv=5)"
   ]
  },
  {
   "cell_type": "markdown",
   "id": "9cf9a994-7559-4c65-b371-71bfcbc4f035",
   "metadata": {},
   "source": [
    "### Cross Validation\n",
    "\n",
    "- Estimating the skill of a machine learning model on unseen data to validate the performance of our model."
   ]
  },
  {
   "cell_type": "code",
   "execution_count": 10,
   "id": "2830828b-12d2-46c5-9e93-d161aa20957f",
   "metadata": {},
   "outputs": [
    {
     "name": "stdout",
     "output_type": "stream",
     "text": [
      "R2: 0.8077673415049886\n",
      "RSME: 34373.60518751956\n"
     ]
    }
   ],
   "source": [
    "# linear regression \n",
    "\n",
    "lr_cv_scores = cross_val_score(lr,X_train_sc,y_train,cv=5)\n",
    "print('R2:', lr_cv_scores.mean())\n",
    "\n",
    "lr_cv_mse_scores = -cross_val_score(lr,X_train_sc,y_train,cv=5, scoring ='neg_mean_squared_error')\n",
    "print('RSME:', np.sqrt(lr_cv_mse_scores.mean()))\n"
   ]
  },
  {
   "cell_type": "code",
   "execution_count": 11,
   "id": "9665697e-27c0-4260-8808-8bad46c29d12",
   "metadata": {},
   "outputs": [
    {
     "name": "stdout",
     "output_type": "stream",
     "text": [
      "R2: 0.8174731251240397\n",
      "RSME: 33604.00704243355\n"
     ]
    }
   ],
   "source": [
    "# ridge regression model \n",
    "\n",
    "ridge_cv_scores = cross_val_score(ridge,X_train_sc,y_train,cv=5)\n",
    "print('R2:', ridge_cv_scores.mean())\n",
    "ridge_cv_mse_scores = -cross_val_score(ridge,X_train_sc,y_train,cv=5, scoring ='neg_mean_squared_error')\n",
    "print('RSME:', np.sqrt(ridge_cv_mse_scores.mean()))"
   ]
  },
  {
   "cell_type": "code",
   "execution_count": 12,
   "id": "50a8dc5f-8e2e-4507-9c00-9726202abce5",
   "metadata": {},
   "outputs": [
    {
     "name": "stdout",
     "output_type": "stream",
     "text": [
      "R2: 0.8134579622935604\n",
      "RSME: 33850.43735313373\n"
     ]
    }
   ],
   "source": [
    "# lasso regression\n",
    "\n",
    "lasso_cv_scores = cross_val_score(lasso,X_train_sc,y_train,cv=5)\n",
    "print('R2:', lasso_cv_scores.mean())\n",
    "lasso_cv_mse_scores = -cross_val_score(lasso,X_train_sc,y_train,cv=5, scoring ='neg_mean_squared_error')\n",
    "print('RSME:', np.sqrt(lasso_cv_mse_scores.mean()))"
   ]
  },
  {
   "cell_type": "code",
   "execution_count": 13,
   "id": "e9cd6809-edfb-49c9-9263-f8617aad164d",
   "metadata": {},
   "outputs": [
    {
     "name": "stdout",
     "output_type": "stream",
     "text": [
      "R2: 0.8176535124242397\n",
      "RSME: 33634.31877909039\n"
     ]
    }
   ],
   "source": [
    "# elasticnet regression model\n",
    "\n",
    "enet_cv_scores = cross_val_score(enet,X_train_sc,y_train,cv=5)\n",
    "print('R2:', enet_cv_scores.mean())\n",
    "enet_cv_mse_scores = -cross_val_score(enet,X_train_sc,y_train,cv=5, scoring ='neg_mean_squared_error')\n",
    "print('RSME:', np.sqrt(enet_cv_mse_scores.mean()))"
   ]
  },
  {
   "cell_type": "markdown",
   "id": "c1e218a6-e17c-4551-81e2-719d2399feeb",
   "metadata": {},
   "source": [
    "Based on the $R^2$ scoring confirmation from our training cross validation, RidgeCV seems to be doing the best (RSME = 33604.00). However, since the difference is not too far off, we will explore all four models."
   ]
  },
  {
   "cell_type": "markdown",
   "id": "da251643-5290-47a0-9c2a-5b76dca5087e",
   "metadata": {},
   "source": [
    "## Model Fitting and Evaluation"
   ]
  },
  {
   "cell_type": "markdown",
   "id": "34aabae0-cf83-4782-bd2c-aacc82ac658a",
   "metadata": {},
   "source": [
    "### Linear regression"
   ]
  },
  {
   "cell_type": "code",
   "execution_count": 14,
   "id": "d736e29f-133f-4ed5-b6ee-a9d66c9094ba",
   "metadata": {},
   "outputs": [
    {
     "name": "stdout",
     "output_type": "stream",
     "text": [
      "Training R2(LR): 0.8664148730543457\n",
      "Testing R2(LR): 0.8876323676751031\n",
      "Estimate of Testing R2(LR): 0.8077673415049886\n"
     ]
    }
   ],
   "source": [
    "# fit lr instantiated model \n",
    "\n",
    "lr.fit(X_train_sc,y_train)\n",
    "\n",
    "# check the R^2 on the training and testing sets, and the cv score from above\n",
    "print(\"Training R2(LR): \" + str(lr.score(X_train_sc,y_train)))\n",
    "print(\"Testing R2(LR): \" + str(lr.score(X_test_sc,y_test)))\n",
    "print(\"Estimate of Testing R2(LR): \" + str(lr_cv_scores.mean()))"
   ]
  },
  {
   "cell_type": "code",
   "execution_count": 15,
   "id": "6cea3390-b032-4141-8573-9f0ee8c5357c",
   "metadata": {},
   "outputs": [
    {
     "name": "stdout",
     "output_type": "stream",
     "text": [
      "Training RMSE(LR): 29155.04429797437\n",
      "Testing RMSE(LR): 25838.615064808415\n",
      "Estimate of Testing RMSE(LR): 34373.60518751956\n"
     ]
    }
   ],
   "source": [
    "# check the MSE on the training and testing sets\n",
    "\n",
    "print(\"Training RMSE(LR): \" + str(np.sqrt(mean_squared_error(y_train, lr.predict(X_train_sc)))))\n",
    "print(\"Testing RMSE(LR): \" + str(np.sqrt(mean_squared_error(y_test,lr.predict(X_test_sc)))))\n",
    "print(\"Estimate of Testing RMSE(LR): \" + str(np.sqrt(lr_cv_mse_scores.mean())))"
   ]
  },
  {
   "cell_type": "markdown",
   "id": "e76bdcde-3951-4f86-9e89-e18a5bd01439",
   "metadata": {},
   "source": [
    "Based on the RMSE, it seems that our model is performing worst on the testing set than on the training set, suggesting that there may be some overfitting in the model. \n"
   ]
  },
  {
   "cell_type": "markdown",
   "id": "9ff4e2ed-647d-4bd7-8058-c44b3458a3f1",
   "metadata": {},
   "source": [
    "### Ridge regression"
   ]
  },
  {
   "cell_type": "code",
   "execution_count": 16,
   "id": "54274b2b-741e-4e6f-ab1c-f69b05dea6d5",
   "metadata": {},
   "outputs": [],
   "source": [
    "# fit RidgeCV model to data\n",
    "\n",
    "ridge.fit(X_train_sc,y_train);"
   ]
  },
  {
   "cell_type": "code",
   "execution_count": 17,
   "id": "d0369b89-2e34-4248-8c78-582c02a5bd25",
   "metadata": {},
   "outputs": [
    {
     "data": {
      "text/html": [
       "<style>#sk-container-id-1 {color: black;background-color: white;}#sk-container-id-1 pre{padding: 0;}#sk-container-id-1 div.sk-toggleable {background-color: white;}#sk-container-id-1 label.sk-toggleable__label {cursor: pointer;display: block;width: 100%;margin-bottom: 0;padding: 0.3em;box-sizing: border-box;text-align: center;}#sk-container-id-1 label.sk-toggleable__label-arrow:before {content: \"▸\";float: left;margin-right: 0.25em;color: #696969;}#sk-container-id-1 label.sk-toggleable__label-arrow:hover:before {color: black;}#sk-container-id-1 div.sk-estimator:hover label.sk-toggleable__label-arrow:before {color: black;}#sk-container-id-1 div.sk-toggleable__content {max-height: 0;max-width: 0;overflow: hidden;text-align: left;background-color: #f0f8ff;}#sk-container-id-1 div.sk-toggleable__content pre {margin: 0.2em;color: black;border-radius: 0.25em;background-color: #f0f8ff;}#sk-container-id-1 input.sk-toggleable__control:checked~div.sk-toggleable__content {max-height: 200px;max-width: 100%;overflow: auto;}#sk-container-id-1 input.sk-toggleable__control:checked~label.sk-toggleable__label-arrow:before {content: \"▾\";}#sk-container-id-1 div.sk-estimator input.sk-toggleable__control:checked~label.sk-toggleable__label {background-color: #d4ebff;}#sk-container-id-1 div.sk-label input.sk-toggleable__control:checked~label.sk-toggleable__label {background-color: #d4ebff;}#sk-container-id-1 input.sk-hidden--visually {border: 0;clip: rect(1px 1px 1px 1px);clip: rect(1px, 1px, 1px, 1px);height: 1px;margin: -1px;overflow: hidden;padding: 0;position: absolute;width: 1px;}#sk-container-id-1 div.sk-estimator {font-family: monospace;background-color: #f0f8ff;border: 1px dotted black;border-radius: 0.25em;box-sizing: border-box;margin-bottom: 0.5em;}#sk-container-id-1 div.sk-estimator:hover {background-color: #d4ebff;}#sk-container-id-1 div.sk-parallel-item::after {content: \"\";width: 100%;border-bottom: 1px solid gray;flex-grow: 1;}#sk-container-id-1 div.sk-label:hover label.sk-toggleable__label {background-color: #d4ebff;}#sk-container-id-1 div.sk-serial::before {content: \"\";position: absolute;border-left: 1px solid gray;box-sizing: border-box;top: 0;bottom: 0;left: 50%;z-index: 0;}#sk-container-id-1 div.sk-serial {display: flex;flex-direction: column;align-items: center;background-color: white;padding-right: 0.2em;padding-left: 0.2em;position: relative;}#sk-container-id-1 div.sk-item {position: relative;z-index: 1;}#sk-container-id-1 div.sk-parallel {display: flex;align-items: stretch;justify-content: center;background-color: white;position: relative;}#sk-container-id-1 div.sk-item::before, #sk-container-id-1 div.sk-parallel-item::before {content: \"\";position: absolute;border-left: 1px solid gray;box-sizing: border-box;top: 0;bottom: 0;left: 50%;z-index: -1;}#sk-container-id-1 div.sk-parallel-item {display: flex;flex-direction: column;z-index: 1;position: relative;background-color: white;}#sk-container-id-1 div.sk-parallel-item:first-child::after {align-self: flex-end;width: 50%;}#sk-container-id-1 div.sk-parallel-item:last-child::after {align-self: flex-start;width: 50%;}#sk-container-id-1 div.sk-parallel-item:only-child::after {width: 0;}#sk-container-id-1 div.sk-dashed-wrapped {border: 1px dashed gray;margin: 0 0.4em 0.5em 0.4em;box-sizing: border-box;padding-bottom: 0.4em;background-color: white;}#sk-container-id-1 div.sk-label label {font-family: monospace;font-weight: bold;display: inline-block;line-height: 1.2em;}#sk-container-id-1 div.sk-label-container {text-align: center;}#sk-container-id-1 div.sk-container {/* jupyter's `normalize.less` sets `[hidden] { display: none; }` but bootstrap.min.css set `[hidden] { display: none !important; }` so we also need the `!important` here to be able to override the default hidden behavior on the sphinx rendered scikit-learn.org. See: https://github.com/scikit-learn/scikit-learn/issues/21755 */display: inline-block !important;position: relative;}#sk-container-id-1 div.sk-text-repr-fallback {display: none;}</style><div id=\"sk-container-id-1\" class=\"sk-top-container\"><div class=\"sk-text-repr-fallback\"><pre>Ridge(alpha=10)</pre><b>In a Jupyter environment, please rerun this cell to show the HTML representation or trust the notebook. <br />On GitHub, the HTML representation is unable to render, please try loading this page with nbviewer.org.</b></div><div class=\"sk-container\" hidden><div class=\"sk-item\"><div class=\"sk-estimator sk-toggleable\"><input class=\"sk-toggleable__control sk-hidden--visually\" id=\"sk-estimator-id-1\" type=\"checkbox\" checked><label for=\"sk-estimator-id-1\" class=\"sk-toggleable__label sk-toggleable__label-arrow\">Ridge</label><div class=\"sk-toggleable__content\"><pre>Ridge(alpha=10)</pre></div></div></div></div></div>"
      ],
      "text/plain": [
       "Ridge(alpha=10)"
      ]
     },
     "execution_count": 17,
     "metadata": {},
     "output_type": "execute_result"
    }
   ],
   "source": [
    "# instantiate and passing alpha = 10\n",
    "\n",
    "best_ridge_alpha = Ridge(alpha=10)\n",
    "best_ridge_alpha"
   ]
  },
  {
   "cell_type": "code",
   "execution_count": 18,
   "id": "1dedf180-e1d7-4049-8832-0e30df09d925",
   "metadata": {},
   "outputs": [],
   "source": [
    "# create new ridge model with optimal alpha and fit to training data\n",
    "ridge = Ridge(alpha=10)\n",
    "ridge.fit(X_train_sc,y_train);"
   ]
  },
  {
   "cell_type": "code",
   "execution_count": 19,
   "id": "207d8033-1f3a-44e7-9630-b855ff993674",
   "metadata": {},
   "outputs": [
    {
     "name": "stdout",
     "output_type": "stream",
     "text": [
      "Training R2(ridge) 0.8663411246770953\n",
      "Testing R2(ridge) 0.8875788445873051\n",
      "Estimate of Testing R2(ridge) 0.8174731251240397\n"
     ]
    }
   ],
   "source": [
    "# check the R^2 on the training and testing sets, and the cv score from above\n",
    "\n",
    "print(\"Training R2(ridge) \" + str(ridge.score(X_train_sc,y_train)))\n",
    "print(\"Testing R2(ridge) \" + str(ridge.score(X_test_sc,y_test)))\n",
    "print(\"Estimate of Testing R2(ridge) \" + str(ridge_cv_scores.mean()))"
   ]
  },
  {
   "cell_type": "code",
   "execution_count": 20,
   "id": "fe4ded84-d4a7-473c-8b98-ced15594715a",
   "metadata": {},
   "outputs": [
    {
     "name": "stdout",
     "output_type": "stream",
     "text": [
      "Training MSE(Ridge)  29163.091004145837\n",
      "Testing MSE(Ridge)  25844.768072528255\n",
      "Estimate of Testing RMSE (Ridge) 33604.00704243355\n"
     ]
    }
   ],
   "source": [
    "# check the MSE on the training and testing sets\n",
    "\n",
    "print(\"Training MSE(Ridge) \", np.sqrt(mean_squared_error(y_train, ridge.predict(X_train_sc))))\n",
    "print(\"Testing MSE(Ridge) \", np.sqrt(mean_squared_error(y_test,ridge.predict(X_test_sc))))\n",
    "print(\"Estimate of Testing RMSE (Ridge) \" + str(np.sqrt(ridge_cv_mse_scores.mean())))\n"
   ]
  },
  {
   "cell_type": "markdown",
   "id": "ac7b2ea5-2f90-4c96-a7d6-1e552efa3409",
   "metadata": {},
   "source": [
    "Our model is still overfitting, but ridge regression seems to return better results than our standard linear regression model."
   ]
  },
  {
   "cell_type": "markdown",
   "id": "eac85c33-e75c-4f88-a1b5-66b8cf0a0158",
   "metadata": {},
   "source": [
    "### Lasso regression"
   ]
  },
  {
   "cell_type": "code",
   "execution_count": 21,
   "id": "f8d8dd1c-7d3b-484e-8ed3-a3c7a020ea33",
   "metadata": {},
   "outputs": [
    {
     "data": {
      "text/html": [
       "<style>#sk-container-id-2 {color: black;background-color: white;}#sk-container-id-2 pre{padding: 0;}#sk-container-id-2 div.sk-toggleable {background-color: white;}#sk-container-id-2 label.sk-toggleable__label {cursor: pointer;display: block;width: 100%;margin-bottom: 0;padding: 0.3em;box-sizing: border-box;text-align: center;}#sk-container-id-2 label.sk-toggleable__label-arrow:before {content: \"▸\";float: left;margin-right: 0.25em;color: #696969;}#sk-container-id-2 label.sk-toggleable__label-arrow:hover:before {color: black;}#sk-container-id-2 div.sk-estimator:hover label.sk-toggleable__label-arrow:before {color: black;}#sk-container-id-2 div.sk-toggleable__content {max-height: 0;max-width: 0;overflow: hidden;text-align: left;background-color: #f0f8ff;}#sk-container-id-2 div.sk-toggleable__content pre {margin: 0.2em;color: black;border-radius: 0.25em;background-color: #f0f8ff;}#sk-container-id-2 input.sk-toggleable__control:checked~div.sk-toggleable__content {max-height: 200px;max-width: 100%;overflow: auto;}#sk-container-id-2 input.sk-toggleable__control:checked~label.sk-toggleable__label-arrow:before {content: \"▾\";}#sk-container-id-2 div.sk-estimator input.sk-toggleable__control:checked~label.sk-toggleable__label {background-color: #d4ebff;}#sk-container-id-2 div.sk-label input.sk-toggleable__control:checked~label.sk-toggleable__label {background-color: #d4ebff;}#sk-container-id-2 input.sk-hidden--visually {border: 0;clip: rect(1px 1px 1px 1px);clip: rect(1px, 1px, 1px, 1px);height: 1px;margin: -1px;overflow: hidden;padding: 0;position: absolute;width: 1px;}#sk-container-id-2 div.sk-estimator {font-family: monospace;background-color: #f0f8ff;border: 1px dotted black;border-radius: 0.25em;box-sizing: border-box;margin-bottom: 0.5em;}#sk-container-id-2 div.sk-estimator:hover {background-color: #d4ebff;}#sk-container-id-2 div.sk-parallel-item::after {content: \"\";width: 100%;border-bottom: 1px solid gray;flex-grow: 1;}#sk-container-id-2 div.sk-label:hover label.sk-toggleable__label {background-color: #d4ebff;}#sk-container-id-2 div.sk-serial::before {content: \"\";position: absolute;border-left: 1px solid gray;box-sizing: border-box;top: 0;bottom: 0;left: 50%;z-index: 0;}#sk-container-id-2 div.sk-serial {display: flex;flex-direction: column;align-items: center;background-color: white;padding-right: 0.2em;padding-left: 0.2em;position: relative;}#sk-container-id-2 div.sk-item {position: relative;z-index: 1;}#sk-container-id-2 div.sk-parallel {display: flex;align-items: stretch;justify-content: center;background-color: white;position: relative;}#sk-container-id-2 div.sk-item::before, #sk-container-id-2 div.sk-parallel-item::before {content: \"\";position: absolute;border-left: 1px solid gray;box-sizing: border-box;top: 0;bottom: 0;left: 50%;z-index: -1;}#sk-container-id-2 div.sk-parallel-item {display: flex;flex-direction: column;z-index: 1;position: relative;background-color: white;}#sk-container-id-2 div.sk-parallel-item:first-child::after {align-self: flex-end;width: 50%;}#sk-container-id-2 div.sk-parallel-item:last-child::after {align-self: flex-start;width: 50%;}#sk-container-id-2 div.sk-parallel-item:only-child::after {width: 0;}#sk-container-id-2 div.sk-dashed-wrapped {border: 1px dashed gray;margin: 0 0.4em 0.5em 0.4em;box-sizing: border-box;padding-bottom: 0.4em;background-color: white;}#sk-container-id-2 div.sk-label label {font-family: monospace;font-weight: bold;display: inline-block;line-height: 1.2em;}#sk-container-id-2 div.sk-label-container {text-align: center;}#sk-container-id-2 div.sk-container {/* jupyter's `normalize.less` sets `[hidden] { display: none; }` but bootstrap.min.css set `[hidden] { display: none !important; }` so we also need the `!important` here to be able to override the default hidden behavior on the sphinx rendered scikit-learn.org. See: https://github.com/scikit-learn/scikit-learn/issues/21755 */display: inline-block !important;position: relative;}#sk-container-id-2 div.sk-text-repr-fallback {display: none;}</style><div id=\"sk-container-id-2\" class=\"sk-top-container\"><div class=\"sk-text-repr-fallback\"><pre>LassoCV()</pre><b>In a Jupyter environment, please rerun this cell to show the HTML representation or trust the notebook. <br />On GitHub, the HTML representation is unable to render, please try loading this page with nbviewer.org.</b></div><div class=\"sk-container\" hidden><div class=\"sk-item\"><div class=\"sk-estimator sk-toggleable\"><input class=\"sk-toggleable__control sk-hidden--visually\" id=\"sk-estimator-id-2\" type=\"checkbox\" checked><label for=\"sk-estimator-id-2\" class=\"sk-toggleable__label sk-toggleable__label-arrow\">LassoCV</label><div class=\"sk-toggleable__content\"><pre>LassoCV()</pre></div></div></div></div></div>"
      ],
      "text/plain": [
       "LassoCV()"
      ]
     },
     "execution_count": 21,
     "metadata": {},
     "output_type": "execute_result"
    }
   ],
   "source": [
    "# fit LassoCV model to data\n",
    "\n",
    "lasso.fit(X_train_sc,y_train)"
   ]
  },
  {
   "cell_type": "code",
   "execution_count": 22,
   "id": "5565d6a4-57c8-4fe2-bf3e-9473fd1659d4",
   "metadata": {},
   "outputs": [
    {
     "data": {
      "text/plain": [
       "517.5128476844834"
      ]
     },
     "execution_count": 22,
     "metadata": {},
     "output_type": "execute_result"
    }
   ],
   "source": [
    "# generate best alpha\n",
    "\n",
    "best_lasso_alpha = lasso.alpha_\n",
    "best_lasso_alpha"
   ]
  },
  {
   "cell_type": "code",
   "execution_count": 23,
   "id": "60a1d627-15a5-4365-8cfd-f19e2f10bdbd",
   "metadata": {},
   "outputs": [
    {
     "data": {
      "text/html": [
       "<style>#sk-container-id-3 {color: black;background-color: white;}#sk-container-id-3 pre{padding: 0;}#sk-container-id-3 div.sk-toggleable {background-color: white;}#sk-container-id-3 label.sk-toggleable__label {cursor: pointer;display: block;width: 100%;margin-bottom: 0;padding: 0.3em;box-sizing: border-box;text-align: center;}#sk-container-id-3 label.sk-toggleable__label-arrow:before {content: \"▸\";float: left;margin-right: 0.25em;color: #696969;}#sk-container-id-3 label.sk-toggleable__label-arrow:hover:before {color: black;}#sk-container-id-3 div.sk-estimator:hover label.sk-toggleable__label-arrow:before {color: black;}#sk-container-id-3 div.sk-toggleable__content {max-height: 0;max-width: 0;overflow: hidden;text-align: left;background-color: #f0f8ff;}#sk-container-id-3 div.sk-toggleable__content pre {margin: 0.2em;color: black;border-radius: 0.25em;background-color: #f0f8ff;}#sk-container-id-3 input.sk-toggleable__control:checked~div.sk-toggleable__content {max-height: 200px;max-width: 100%;overflow: auto;}#sk-container-id-3 input.sk-toggleable__control:checked~label.sk-toggleable__label-arrow:before {content: \"▾\";}#sk-container-id-3 div.sk-estimator input.sk-toggleable__control:checked~label.sk-toggleable__label {background-color: #d4ebff;}#sk-container-id-3 div.sk-label input.sk-toggleable__control:checked~label.sk-toggleable__label {background-color: #d4ebff;}#sk-container-id-3 input.sk-hidden--visually {border: 0;clip: rect(1px 1px 1px 1px);clip: rect(1px, 1px, 1px, 1px);height: 1px;margin: -1px;overflow: hidden;padding: 0;position: absolute;width: 1px;}#sk-container-id-3 div.sk-estimator {font-family: monospace;background-color: #f0f8ff;border: 1px dotted black;border-radius: 0.25em;box-sizing: border-box;margin-bottom: 0.5em;}#sk-container-id-3 div.sk-estimator:hover {background-color: #d4ebff;}#sk-container-id-3 div.sk-parallel-item::after {content: \"\";width: 100%;border-bottom: 1px solid gray;flex-grow: 1;}#sk-container-id-3 div.sk-label:hover label.sk-toggleable__label {background-color: #d4ebff;}#sk-container-id-3 div.sk-serial::before {content: \"\";position: absolute;border-left: 1px solid gray;box-sizing: border-box;top: 0;bottom: 0;left: 50%;z-index: 0;}#sk-container-id-3 div.sk-serial {display: flex;flex-direction: column;align-items: center;background-color: white;padding-right: 0.2em;padding-left: 0.2em;position: relative;}#sk-container-id-3 div.sk-item {position: relative;z-index: 1;}#sk-container-id-3 div.sk-parallel {display: flex;align-items: stretch;justify-content: center;background-color: white;position: relative;}#sk-container-id-3 div.sk-item::before, #sk-container-id-3 div.sk-parallel-item::before {content: \"\";position: absolute;border-left: 1px solid gray;box-sizing: border-box;top: 0;bottom: 0;left: 50%;z-index: -1;}#sk-container-id-3 div.sk-parallel-item {display: flex;flex-direction: column;z-index: 1;position: relative;background-color: white;}#sk-container-id-3 div.sk-parallel-item:first-child::after {align-self: flex-end;width: 50%;}#sk-container-id-3 div.sk-parallel-item:last-child::after {align-self: flex-start;width: 50%;}#sk-container-id-3 div.sk-parallel-item:only-child::after {width: 0;}#sk-container-id-3 div.sk-dashed-wrapped {border: 1px dashed gray;margin: 0 0.4em 0.5em 0.4em;box-sizing: border-box;padding-bottom: 0.4em;background-color: white;}#sk-container-id-3 div.sk-label label {font-family: monospace;font-weight: bold;display: inline-block;line-height: 1.2em;}#sk-container-id-3 div.sk-label-container {text-align: center;}#sk-container-id-3 div.sk-container {/* jupyter's `normalize.less` sets `[hidden] { display: none; }` but bootstrap.min.css set `[hidden] { display: none !important; }` so we also need the `!important` here to be able to override the default hidden behavior on the sphinx rendered scikit-learn.org. See: https://github.com/scikit-learn/scikit-learn/issues/21755 */display: inline-block !important;position: relative;}#sk-container-id-3 div.sk-text-repr-fallback {display: none;}</style><div id=\"sk-container-id-3\" class=\"sk-top-container\"><div class=\"sk-text-repr-fallback\"><pre>Lasso(alpha=517.5128476844834)</pre><b>In a Jupyter environment, please rerun this cell to show the HTML representation or trust the notebook. <br />On GitHub, the HTML representation is unable to render, please try loading this page with nbviewer.org.</b></div><div class=\"sk-container\" hidden><div class=\"sk-item\"><div class=\"sk-estimator sk-toggleable\"><input class=\"sk-toggleable__control sk-hidden--visually\" id=\"sk-estimator-id-3\" type=\"checkbox\" checked><label for=\"sk-estimator-id-3\" class=\"sk-toggleable__label sk-toggleable__label-arrow\">Lasso</label><div class=\"sk-toggleable__content\"><pre>Lasso(alpha=517.5128476844834)</pre></div></div></div></div></div>"
      ],
      "text/plain": [
       "Lasso(alpha=517.5128476844834)"
      ]
     },
     "execution_count": 23,
     "metadata": {},
     "output_type": "execute_result"
    }
   ],
   "source": [
    "# Create new lasso model with optimal alpha and fit to training data\n",
    "\n",
    "lasso = Lasso(alpha=best_lasso_alpha)\n",
    "lasso.fit(X_train_sc, y_train)"
   ]
  },
  {
   "cell_type": "code",
   "execution_count": 24,
   "id": "0d9be742-bcbe-467f-9a49-2be43ebd695e",
   "metadata": {},
   "outputs": [
    {
     "name": "stdout",
     "output_type": "stream",
     "text": [
      "Training R2(Lasso)  0.861684651723077\n",
      "Testing R2(Lasso): 0.8864201370193251\n",
      "Estimate of Testing R2(Lasso): 0.8134579622935604\n"
     ]
    }
   ],
   "source": [
    "# check the R^2 on the training and testing sets, and the cv score from above\n",
    "\n",
    "print(\"Training R2(Lasso) \", lasso.score(X_train_sc,y_train))\n",
    "print(\"Testing R2(Lasso):\", lasso.score(X_test_sc,y_test))\n",
    "print(\"Estimate of Testing R2(Lasso):\", lasso_cv_scores.mean())"
   ]
  },
  {
   "cell_type": "code",
   "execution_count": 25,
   "id": "d61f9418-bf90-4ce1-a798-39108daa7a06",
   "metadata": {},
   "outputs": [
    {
     "name": "stdout",
     "output_type": "stream",
     "text": [
      "Training RMSE(Lasso): 29666.740937477392\n",
      "Testing RMSE(Lasso): 25977.61566600731\n",
      "Estimate of Testing RMSE(Lasso): 33850.43735313373\n"
     ]
    }
   ],
   "source": [
    "# check the MSE on the training and testing sets\n",
    "\n",
    "print(\"Training RMSE(Lasso):\", np.sqrt(mean_squared_error(y_train, lasso.predict(X_train_sc))))\n",
    "print(\"Testing RMSE(Lasso):\", np.sqrt(mean_squared_error(y_test, lasso.predict(X_test_sc))))\n",
    "print(\"Estimate of Testing RMSE(Lasso):\", np.sqrt(lasso_cv_mse_scores.mean()))"
   ]
  },
  {
   "cell_type": "markdown",
   "id": "754713e7-1b6a-4ba2-8c85-770629acc25d",
   "metadata": {},
   "source": [
    "Similar to the two models above, our model here is still overfitting slightly. "
   ]
  },
  {
   "cell_type": "markdown",
   "id": "77504784-bdb9-44c4-b3e1-b5c817c154a8",
   "metadata": {},
   "source": [
    "### ElasticNet Regression"
   ]
  },
  {
   "cell_type": "code",
   "execution_count": 26,
   "id": "546be55b-583c-421f-bad3-5ce209f7b73d",
   "metadata": {},
   "outputs": [],
   "source": [
    "# set up a list of alphas to check\n",
    "\n",
    "enet_alphas = np.arange(0.01, 1.0, 0.005)\n",
    "enet_ratio = 0.5\n",
    "\n",
    "# instantiate model\n",
    "enet = ElasticNetCV(alphas=enet_alphas, l1_ratio=enet_ratio, cv=5, max_iter=5_000)\n",
    "\n",
    "# fit model using optimal alphas\n",
    "enet = enet.fit(X_train_sc, y_train)"
   ]
  },
  {
   "cell_type": "code",
   "execution_count": 27,
   "id": "fc04e4b3-3dd4-4ae2-aa0c-c8b09d605cd8",
   "metadata": {},
   "outputs": [
    {
     "data": {
      "text/plain": [
       "0.36499999999999994"
      ]
     },
     "execution_count": 27,
     "metadata": {},
     "output_type": "execute_result"
    }
   ],
   "source": [
    "# here is the optimal value of alpha\n",
    "enet_optimal_alpha = enet.alpha_\n",
    "enet_optimal_alpha"
   ]
  },
  {
   "cell_type": "code",
   "execution_count": 28,
   "id": "27e58264-cbe4-4e24-a232-167ad617b3d7",
   "metadata": {},
   "outputs": [
    {
     "data": {
      "text/html": [
       "<style>#sk-container-id-4 {color: black;background-color: white;}#sk-container-id-4 pre{padding: 0;}#sk-container-id-4 div.sk-toggleable {background-color: white;}#sk-container-id-4 label.sk-toggleable__label {cursor: pointer;display: block;width: 100%;margin-bottom: 0;padding: 0.3em;box-sizing: border-box;text-align: center;}#sk-container-id-4 label.sk-toggleable__label-arrow:before {content: \"▸\";float: left;margin-right: 0.25em;color: #696969;}#sk-container-id-4 label.sk-toggleable__label-arrow:hover:before {color: black;}#sk-container-id-4 div.sk-estimator:hover label.sk-toggleable__label-arrow:before {color: black;}#sk-container-id-4 div.sk-toggleable__content {max-height: 0;max-width: 0;overflow: hidden;text-align: left;background-color: #f0f8ff;}#sk-container-id-4 div.sk-toggleable__content pre {margin: 0.2em;color: black;border-radius: 0.25em;background-color: #f0f8ff;}#sk-container-id-4 input.sk-toggleable__control:checked~div.sk-toggleable__content {max-height: 200px;max-width: 100%;overflow: auto;}#sk-container-id-4 input.sk-toggleable__control:checked~label.sk-toggleable__label-arrow:before {content: \"▾\";}#sk-container-id-4 div.sk-estimator input.sk-toggleable__control:checked~label.sk-toggleable__label {background-color: #d4ebff;}#sk-container-id-4 div.sk-label input.sk-toggleable__control:checked~label.sk-toggleable__label {background-color: #d4ebff;}#sk-container-id-4 input.sk-hidden--visually {border: 0;clip: rect(1px 1px 1px 1px);clip: rect(1px, 1px, 1px, 1px);height: 1px;margin: -1px;overflow: hidden;padding: 0;position: absolute;width: 1px;}#sk-container-id-4 div.sk-estimator {font-family: monospace;background-color: #f0f8ff;border: 1px dotted black;border-radius: 0.25em;box-sizing: border-box;margin-bottom: 0.5em;}#sk-container-id-4 div.sk-estimator:hover {background-color: #d4ebff;}#sk-container-id-4 div.sk-parallel-item::after {content: \"\";width: 100%;border-bottom: 1px solid gray;flex-grow: 1;}#sk-container-id-4 div.sk-label:hover label.sk-toggleable__label {background-color: #d4ebff;}#sk-container-id-4 div.sk-serial::before {content: \"\";position: absolute;border-left: 1px solid gray;box-sizing: border-box;top: 0;bottom: 0;left: 50%;z-index: 0;}#sk-container-id-4 div.sk-serial {display: flex;flex-direction: column;align-items: center;background-color: white;padding-right: 0.2em;padding-left: 0.2em;position: relative;}#sk-container-id-4 div.sk-item {position: relative;z-index: 1;}#sk-container-id-4 div.sk-parallel {display: flex;align-items: stretch;justify-content: center;background-color: white;position: relative;}#sk-container-id-4 div.sk-item::before, #sk-container-id-4 div.sk-parallel-item::before {content: \"\";position: absolute;border-left: 1px solid gray;box-sizing: border-box;top: 0;bottom: 0;left: 50%;z-index: -1;}#sk-container-id-4 div.sk-parallel-item {display: flex;flex-direction: column;z-index: 1;position: relative;background-color: white;}#sk-container-id-4 div.sk-parallel-item:first-child::after {align-self: flex-end;width: 50%;}#sk-container-id-4 div.sk-parallel-item:last-child::after {align-self: flex-start;width: 50%;}#sk-container-id-4 div.sk-parallel-item:only-child::after {width: 0;}#sk-container-id-4 div.sk-dashed-wrapped {border: 1px dashed gray;margin: 0 0.4em 0.5em 0.4em;box-sizing: border-box;padding-bottom: 0.4em;background-color: white;}#sk-container-id-4 div.sk-label label {font-family: monospace;font-weight: bold;display: inline-block;line-height: 1.2em;}#sk-container-id-4 div.sk-label-container {text-align: center;}#sk-container-id-4 div.sk-container {/* jupyter's `normalize.less` sets `[hidden] { display: none; }` but bootstrap.min.css set `[hidden] { display: none !important; }` so we also need the `!important` here to be able to override the default hidden behavior on the sphinx rendered scikit-learn.org. See: https://github.com/scikit-learn/scikit-learn/issues/21755 */display: inline-block !important;position: relative;}#sk-container-id-4 div.sk-text-repr-fallback {display: none;}</style><div id=\"sk-container-id-4\" class=\"sk-top-container\"><div class=\"sk-text-repr-fallback\"><pre>ElasticNet(alpha=0.36499999999999994)</pre><b>In a Jupyter environment, please rerun this cell to show the HTML representation or trust the notebook. <br />On GitHub, the HTML representation is unable to render, please try loading this page with nbviewer.org.</b></div><div class=\"sk-container\" hidden><div class=\"sk-item\"><div class=\"sk-estimator sk-toggleable\"><input class=\"sk-toggleable__control sk-hidden--visually\" id=\"sk-estimator-id-4\" type=\"checkbox\" checked><label for=\"sk-estimator-id-4\" class=\"sk-toggleable__label sk-toggleable__label-arrow\">ElasticNet</label><div class=\"sk-toggleable__content\"><pre>ElasticNet(alpha=0.36499999999999994)</pre></div></div></div></div></div>"
      ],
      "text/plain": [
       "ElasticNet(alpha=0.36499999999999994)"
      ]
     },
     "execution_count": 28,
     "metadata": {},
     "output_type": "execute_result"
    }
   ],
   "source": [
    "# Create new enet model with optimal alpha and fit to training data\n",
    "\n",
    "enet = ElasticNet(alpha=enet_optimal_alpha)\n",
    "enet.fit(X_train_sc, y_train)"
   ]
  },
  {
   "cell_type": "code",
   "execution_count": 29,
   "id": "b9486a0d-df9b-47c4-a349-af5be07ac666",
   "metadata": {},
   "outputs": [
    {
     "data": {
      "text/plain": [
       "0.8177446128162662"
      ]
     },
     "execution_count": 29,
     "metadata": {},
     "output_type": "execute_result"
    }
   ],
   "source": [
    "# new cross val scores \n",
    "\n",
    "enet_cv_scores = cross_val_score(enet,X_train_sc,y_train,cv=5)\n",
    "enet_cv_scores.mean()"
   ]
  },
  {
   "cell_type": "code",
   "execution_count": 30,
   "id": "34b43997-1649-414d-ae37-45e6eee8f14a",
   "metadata": {},
   "outputs": [
    {
     "data": {
      "text/plain": [
       "33594.58652385908"
      ]
     },
     "execution_count": 30,
     "metadata": {},
     "output_type": "execute_result"
    }
   ],
   "source": [
    "enet_cv_mse_scores = -cross_val_score(enet,X_train_sc,y_train,cv=5, scoring ='neg_mean_squared_error')\n",
    "np.sqrt(enet_cv_mse_scores.mean())"
   ]
  },
  {
   "cell_type": "code",
   "execution_count": 31,
   "id": "ccaebab6-027e-49d1-b11c-0eb6b9d2302f",
   "metadata": {},
   "outputs": [
    {
     "name": "stdout",
     "output_type": "stream",
     "text": [
      "Training R2(ElasticNet): 0.8586260734894001\n",
      "Testing R2(ElasticNet): 0.8825358334082505\n",
      "Estimate of Testing R2(ElasticNet):  0.8177446128162662\n"
     ]
    }
   ],
   "source": [
    "# check the R^2 on the training and testing sets, and the cv score from above\n",
    "\n",
    "print('Training R2(ElasticNet):', enet.score(X_train_sc,y_train))\n",
    "print('Testing R2(ElasticNet):', enet.score(X_test_sc,y_test))\n",
    "print('Estimate of Testing R2(ElasticNet): ', enet_cv_scores.mean())"
   ]
  },
  {
   "cell_type": "code",
   "execution_count": 32,
   "id": "b9c599ed-152d-4dc7-88a7-78f86f018d5e",
   "metadata": {},
   "outputs": [
    {
     "name": "stdout",
     "output_type": "stream",
     "text": [
      "Training MSE(ElasticNet): 29992.95887191554\n",
      "Testing MSE(ElasticNet): 26418.084067147363\n",
      "Estimate of Testing RMSE(ElasticNet): 33594.58652385908\n"
     ]
    }
   ],
   "source": [
    "# check the MSE on the training and testing sets\n",
    "\n",
    "print('Training MSE(ElasticNet):', np.sqrt(mean_squared_error(y_train, enet.predict(X_train_sc))))\n",
    "print('Testing MSE(ElasticNet):', np.sqrt(mean_squared_error(y_test, enet.predict(X_test_sc))))\n",
    "print('Estimate of Testing RMSE(ElasticNet):', np.sqrt(enet_cv_mse_scores.mean()))"
   ]
  },
  {
   "cell_type": "markdown",
   "id": "c01ae48a-dccc-4960-a2f5-7159b4ee91f1",
   "metadata": {},
   "source": [
    "We see that our model is still overfitting, but the ElasticNet regression model seems to return the best results among all 4 models. "
   ]
  },
  {
   "cell_type": "markdown",
   "id": "5b9d5069-cf6d-44e2-b684-89ee7b38b025",
   "metadata": {},
   "source": [
    "## Time to explore hyperparameter tuning \n",
    "### Grid search with ElasticNet"
   ]
  },
  {
   "cell_type": "code",
   "execution_count": 33,
   "id": "f8ab071b-2dad-411c-a4d2-be6aa763f4d9",
   "metadata": {},
   "outputs": [],
   "source": [
    "from sklearn.model_selection import GridSearchCV\n",
    "param_grid = {\n",
    "    \"l1_ratio\": np.linspace(0.01,1,30),\n",
    "    \"alpha\": np.logspace(.01, 10, 40)}\n",
    "en = ElasticNet()\n",
    "en_gscv = GridSearchCV(en, param_grid=param_grid, verbose=1, cv=5, n_jobs=-1)"
   ]
  },
  {
   "cell_type": "code",
   "execution_count": 34,
   "id": "06273046-eb32-47d2-b096-92ebc88bdd97",
   "metadata": {},
   "outputs": [
    {
     "name": "stdout",
     "output_type": "stream",
     "text": [
      "Fitting 5 folds for each of 1200 candidates, totalling 6000 fits\n"
     ]
    }
   ],
   "source": [
    "# fit the GridSearchCV object to our data\n",
    "\n",
    "resid_predict = en_gscv.fit(X_train_sc, y_train).predict(X_train_sc)"
   ]
  },
  {
   "cell_type": "code",
   "execution_count": 35,
   "id": "81724236-3d91-43b1-9be4-509db1df76b0",
   "metadata": {},
   "outputs": [
    {
     "data": {
      "text/plain": [
       "{'alpha': 6.004288319960373, 'l1_ratio': 0.9658620689655173}"
      ]
     },
     "execution_count": 35,
     "metadata": {},
     "output_type": "execute_result"
    }
   ],
   "source": [
    "# print out the set of hyperparameters that achieved the best score.\n",
    "\n",
    "en_gscv.best_params_"
   ]
  },
  {
   "cell_type": "code",
   "execution_count": 36,
   "id": "2ecfc67a-2731-4e2a-a868-99924be42d20",
   "metadata": {},
   "outputs": [
    {
     "data": {
      "text/plain": [
       "0.8575172525373447"
      ]
     },
     "execution_count": 36,
     "metadata": {},
     "output_type": "execute_result"
    }
   ],
   "source": [
    "en_gscv.score(X_train_sc, y_train)\n"
   ]
  },
  {
   "cell_type": "markdown",
   "id": "5d03889d-3fe2-457f-8c0a-2bd637bed545",
   "metadata": {},
   "source": [
    "Using hyperparameter tuning, we see that the new renovatable features explain approximately 85% of the residuals of the fixed model. Moreover, the L1 ratio of this Elasitcnet is 1, which represents Lasso regression."
   ]
  },
  {
   "cell_type": "code",
   "execution_count": 37,
   "id": "2899a200-adeb-47f8-ae88-93004d813189",
   "metadata": {
    "scrolled": true,
    "tags": []
   },
   "outputs": [
    {
     "data": {
      "text/plain": [
       "{'mean_fit_time': array([0.00530157, 0.00634933, 0.00502806, ..., 0.00092664, 0.00088925,\n",
       "        0.00077019]),\n",
       " 'std_fit_time': array([0.00154274, 0.00329098, 0.00138754, ..., 0.00010834, 0.00011759,\n",
       "        0.00026762]),\n",
       " 'mean_score_time': array([0.00033946, 0.0004087 , 0.00047231, ..., 0.00019569, 0.00018892,\n",
       "        0.00015135]),\n",
       " 'std_score_time': array([4.88255172e-05, 1.55204115e-04, 4.36166548e-04, ...,\n",
       "        2.33520744e-05, 3.53755972e-05, 4.77812247e-05]),\n",
       " 'param_alpha': masked_array(data=[1.023292992280754, 1.023292992280754,\n",
       "                    1.023292992280754, ..., 10000000000.0, 10000000000.0,\n",
       "                    10000000000.0],\n",
       "              mask=[False, False, False, ..., False, False, False],\n",
       "        fill_value='?',\n",
       "             dtype=object),\n",
       " 'param_l1_ratio': masked_array(data=[0.01, 0.04413793103448276, 0.07827586206896552, ...,\n",
       "                    0.9317241379310346, 0.9658620689655173, 1.0],\n",
       "              mask=[False, False, False, ..., False, False, False],\n",
       "        fill_value='?',\n",
       "             dtype=object),\n",
       " 'params': [{'alpha': 1.023292992280754, 'l1_ratio': 0.01},\n",
       "  {'alpha': 1.023292992280754, 'l1_ratio': 0.04413793103448276},\n",
       "  {'alpha': 1.023292992280754, 'l1_ratio': 0.07827586206896552},\n",
       "  {'alpha': 1.023292992280754, 'l1_ratio': 0.11241379310344828},\n",
       "  {'alpha': 1.023292992280754, 'l1_ratio': 0.14655172413793105},\n",
       "  {'alpha': 1.023292992280754, 'l1_ratio': 0.1806896551724138},\n",
       "  {'alpha': 1.023292992280754, 'l1_ratio': 0.21482758620689657},\n",
       "  {'alpha': 1.023292992280754, 'l1_ratio': 0.24896551724137933},\n",
       "  {'alpha': 1.023292992280754, 'l1_ratio': 0.2831034482758621},\n",
       "  {'alpha': 1.023292992280754, 'l1_ratio': 0.31724137931034485},\n",
       "  {'alpha': 1.023292992280754, 'l1_ratio': 0.3513793103448276},\n",
       "  {'alpha': 1.023292992280754, 'l1_ratio': 0.38551724137931037},\n",
       "  {'alpha': 1.023292992280754, 'l1_ratio': 0.41965517241379313},\n",
       "  {'alpha': 1.023292992280754, 'l1_ratio': 0.4537931034482759},\n",
       "  {'alpha': 1.023292992280754, 'l1_ratio': 0.48793103448275865},\n",
       "  {'alpha': 1.023292992280754, 'l1_ratio': 0.5220689655172415},\n",
       "  {'alpha': 1.023292992280754, 'l1_ratio': 0.5562068965517242},\n",
       "  {'alpha': 1.023292992280754, 'l1_ratio': 0.5903448275862069},\n",
       "  {'alpha': 1.023292992280754, 'l1_ratio': 0.6244827586206897},\n",
       "  {'alpha': 1.023292992280754, 'l1_ratio': 0.6586206896551725},\n",
       "  {'alpha': 1.023292992280754, 'l1_ratio': 0.6927586206896552},\n",
       "  {'alpha': 1.023292992280754, 'l1_ratio': 0.7268965517241379},\n",
       "  {'alpha': 1.023292992280754, 'l1_ratio': 0.7610344827586207},\n",
       "  {'alpha': 1.023292992280754, 'l1_ratio': 0.7951724137931035},\n",
       "  {'alpha': 1.023292992280754, 'l1_ratio': 0.8293103448275863},\n",
       "  {'alpha': 1.023292992280754, 'l1_ratio': 0.863448275862069},\n",
       "  {'alpha': 1.023292992280754, 'l1_ratio': 0.8975862068965518},\n",
       "  {'alpha': 1.023292992280754, 'l1_ratio': 0.9317241379310346},\n",
       "  {'alpha': 1.023292992280754, 'l1_ratio': 0.9658620689655173},\n",
       "  {'alpha': 1.023292992280754, 'l1_ratio': 1.0},\n",
       "  {'alpha': 1.845669120342149, 'l1_ratio': 0.01},\n",
       "  {'alpha': 1.845669120342149, 'l1_ratio': 0.04413793103448276},\n",
       "  {'alpha': 1.845669120342149, 'l1_ratio': 0.07827586206896552},\n",
       "  {'alpha': 1.845669120342149, 'l1_ratio': 0.11241379310344828},\n",
       "  {'alpha': 1.845669120342149, 'l1_ratio': 0.14655172413793105},\n",
       "  {'alpha': 1.845669120342149, 'l1_ratio': 0.1806896551724138},\n",
       "  {'alpha': 1.845669120342149, 'l1_ratio': 0.21482758620689657},\n",
       "  {'alpha': 1.845669120342149, 'l1_ratio': 0.24896551724137933},\n",
       "  {'alpha': 1.845669120342149, 'l1_ratio': 0.2831034482758621},\n",
       "  {'alpha': 1.845669120342149, 'l1_ratio': 0.31724137931034485},\n",
       "  {'alpha': 1.845669120342149, 'l1_ratio': 0.3513793103448276},\n",
       "  {'alpha': 1.845669120342149, 'l1_ratio': 0.38551724137931037},\n",
       "  {'alpha': 1.845669120342149, 'l1_ratio': 0.41965517241379313},\n",
       "  {'alpha': 1.845669120342149, 'l1_ratio': 0.4537931034482759},\n",
       "  {'alpha': 1.845669120342149, 'l1_ratio': 0.48793103448275865},\n",
       "  {'alpha': 1.845669120342149, 'l1_ratio': 0.5220689655172415},\n",
       "  {'alpha': 1.845669120342149, 'l1_ratio': 0.5562068965517242},\n",
       "  {'alpha': 1.845669120342149, 'l1_ratio': 0.5903448275862069},\n",
       "  {'alpha': 1.845669120342149, 'l1_ratio': 0.6244827586206897},\n",
       "  {'alpha': 1.845669120342149, 'l1_ratio': 0.6586206896551725},\n",
       "  {'alpha': 1.845669120342149, 'l1_ratio': 0.6927586206896552},\n",
       "  {'alpha': 1.845669120342149, 'l1_ratio': 0.7268965517241379},\n",
       "  {'alpha': 1.845669120342149, 'l1_ratio': 0.7610344827586207},\n",
       "  {'alpha': 1.845669120342149, 'l1_ratio': 0.7951724137931035},\n",
       "  {'alpha': 1.845669120342149, 'l1_ratio': 0.8293103448275863},\n",
       "  {'alpha': 1.845669120342149, 'l1_ratio': 0.863448275862069},\n",
       "  {'alpha': 1.845669120342149, 'l1_ratio': 0.8975862068965518},\n",
       "  {'alpha': 1.845669120342149, 'l1_ratio': 0.9317241379310346},\n",
       "  {'alpha': 1.845669120342149, 'l1_ratio': 0.9658620689655173},\n",
       "  {'alpha': 1.845669120342149, 'l1_ratio': 1.0},\n",
       "  {'alpha': 3.3289532201251943, 'l1_ratio': 0.01},\n",
       "  {'alpha': 3.3289532201251943, 'l1_ratio': 0.04413793103448276},\n",
       "  {'alpha': 3.3289532201251943, 'l1_ratio': 0.07827586206896552},\n",
       "  {'alpha': 3.3289532201251943, 'l1_ratio': 0.11241379310344828},\n",
       "  {'alpha': 3.3289532201251943, 'l1_ratio': 0.14655172413793105},\n",
       "  {'alpha': 3.3289532201251943, 'l1_ratio': 0.1806896551724138},\n",
       "  {'alpha': 3.3289532201251943, 'l1_ratio': 0.21482758620689657},\n",
       "  {'alpha': 3.3289532201251943, 'l1_ratio': 0.24896551724137933},\n",
       "  {'alpha': 3.3289532201251943, 'l1_ratio': 0.2831034482758621},\n",
       "  {'alpha': 3.3289532201251943, 'l1_ratio': 0.31724137931034485},\n",
       "  {'alpha': 3.3289532201251943, 'l1_ratio': 0.3513793103448276},\n",
       "  {'alpha': 3.3289532201251943, 'l1_ratio': 0.38551724137931037},\n",
       "  {'alpha': 3.3289532201251943, 'l1_ratio': 0.41965517241379313},\n",
       "  {'alpha': 3.3289532201251943, 'l1_ratio': 0.4537931034482759},\n",
       "  {'alpha': 3.3289532201251943, 'l1_ratio': 0.48793103448275865},\n",
       "  {'alpha': 3.3289532201251943, 'l1_ratio': 0.5220689655172415},\n",
       "  {'alpha': 3.3289532201251943, 'l1_ratio': 0.5562068965517242},\n",
       "  {'alpha': 3.3289532201251943, 'l1_ratio': 0.5903448275862069},\n",
       "  {'alpha': 3.3289532201251943, 'l1_ratio': 0.6244827586206897},\n",
       "  {'alpha': 3.3289532201251943, 'l1_ratio': 0.6586206896551725},\n",
       "  {'alpha': 3.3289532201251943, 'l1_ratio': 0.6927586206896552},\n",
       "  {'alpha': 3.3289532201251943, 'l1_ratio': 0.7268965517241379},\n",
       "  {'alpha': 3.3289532201251943, 'l1_ratio': 0.7610344827586207},\n",
       "  {'alpha': 3.3289532201251943, 'l1_ratio': 0.7951724137931035},\n",
       "  {'alpha': 3.3289532201251943, 'l1_ratio': 0.8293103448275863},\n",
       "  {'alpha': 3.3289532201251943, 'l1_ratio': 0.863448275862069},\n",
       "  {'alpha': 3.3289532201251943, 'l1_ratio': 0.8975862068965518},\n",
       "  {'alpha': 3.3289532201251943, 'l1_ratio': 0.9317241379310346},\n",
       "  {'alpha': 3.3289532201251943, 'l1_ratio': 0.9658620689655173},\n",
       "  {'alpha': 3.3289532201251943, 'l1_ratio': 1.0},\n",
       "  {'alpha': 6.004288319960373, 'l1_ratio': 0.01},\n",
       "  {'alpha': 6.004288319960373, 'l1_ratio': 0.04413793103448276},\n",
       "  {'alpha': 6.004288319960373, 'l1_ratio': 0.07827586206896552},\n",
       "  {'alpha': 6.004288319960373, 'l1_ratio': 0.11241379310344828},\n",
       "  {'alpha': 6.004288319960373, 'l1_ratio': 0.14655172413793105},\n",
       "  {'alpha': 6.004288319960373, 'l1_ratio': 0.1806896551724138},\n",
       "  {'alpha': 6.004288319960373, 'l1_ratio': 0.21482758620689657},\n",
       "  {'alpha': 6.004288319960373, 'l1_ratio': 0.24896551724137933},\n",
       "  {'alpha': 6.004288319960373, 'l1_ratio': 0.2831034482758621},\n",
       "  {'alpha': 6.004288319960373, 'l1_ratio': 0.31724137931034485},\n",
       "  {'alpha': 6.004288319960373, 'l1_ratio': 0.3513793103448276},\n",
       "  {'alpha': 6.004288319960373, 'l1_ratio': 0.38551724137931037},\n",
       "  {'alpha': 6.004288319960373, 'l1_ratio': 0.41965517241379313},\n",
       "  {'alpha': 6.004288319960373, 'l1_ratio': 0.4537931034482759},\n",
       "  {'alpha': 6.004288319960373, 'l1_ratio': 0.48793103448275865},\n",
       "  {'alpha': 6.004288319960373, 'l1_ratio': 0.5220689655172415},\n",
       "  {'alpha': 6.004288319960373, 'l1_ratio': 0.5562068965517242},\n",
       "  {'alpha': 6.004288319960373, 'l1_ratio': 0.5903448275862069},\n",
       "  {'alpha': 6.004288319960373, 'l1_ratio': 0.6244827586206897},\n",
       "  {'alpha': 6.004288319960373, 'l1_ratio': 0.6586206896551725},\n",
       "  {'alpha': 6.004288319960373, 'l1_ratio': 0.6927586206896552},\n",
       "  {'alpha': 6.004288319960373, 'l1_ratio': 0.7268965517241379},\n",
       "  {'alpha': 6.004288319960373, 'l1_ratio': 0.7610344827586207},\n",
       "  {'alpha': 6.004288319960373, 'l1_ratio': 0.7951724137931035},\n",
       "  {'alpha': 6.004288319960373, 'l1_ratio': 0.8293103448275863},\n",
       "  {'alpha': 6.004288319960373, 'l1_ratio': 0.863448275862069},\n",
       "  {'alpha': 6.004288319960373, 'l1_ratio': 0.8975862068965518},\n",
       "  {'alpha': 6.004288319960373, 'l1_ratio': 0.9317241379310346},\n",
       "  {'alpha': 6.004288319960373, 'l1_ratio': 0.9658620689655173},\n",
       "  {'alpha': 6.004288319960373, 'l1_ratio': 1.0},\n",
       "  {'alpha': 10.829674028239044, 'l1_ratio': 0.01},\n",
       "  {'alpha': 10.829674028239044, 'l1_ratio': 0.04413793103448276},\n",
       "  {'alpha': 10.829674028239044, 'l1_ratio': 0.07827586206896552},\n",
       "  {'alpha': 10.829674028239044, 'l1_ratio': 0.11241379310344828},\n",
       "  {'alpha': 10.829674028239044, 'l1_ratio': 0.14655172413793105},\n",
       "  {'alpha': 10.829674028239044, 'l1_ratio': 0.1806896551724138},\n",
       "  {'alpha': 10.829674028239044, 'l1_ratio': 0.21482758620689657},\n",
       "  {'alpha': 10.829674028239044, 'l1_ratio': 0.24896551724137933},\n",
       "  {'alpha': 10.829674028239044, 'l1_ratio': 0.2831034482758621},\n",
       "  {'alpha': 10.829674028239044, 'l1_ratio': 0.31724137931034485},\n",
       "  {'alpha': 10.829674028239044, 'l1_ratio': 0.3513793103448276},\n",
       "  {'alpha': 10.829674028239044, 'l1_ratio': 0.38551724137931037},\n",
       "  {'alpha': 10.829674028239044, 'l1_ratio': 0.41965517241379313},\n",
       "  {'alpha': 10.829674028239044, 'l1_ratio': 0.4537931034482759},\n",
       "  {'alpha': 10.829674028239044, 'l1_ratio': 0.48793103448275865},\n",
       "  {'alpha': 10.829674028239044, 'l1_ratio': 0.5220689655172415},\n",
       "  {'alpha': 10.829674028239044, 'l1_ratio': 0.5562068965517242},\n",
       "  {'alpha': 10.829674028239044, 'l1_ratio': 0.5903448275862069},\n",
       "  {'alpha': 10.829674028239044, 'l1_ratio': 0.6244827586206897},\n",
       "  {'alpha': 10.829674028239044, 'l1_ratio': 0.6586206896551725},\n",
       "  {'alpha': 10.829674028239044, 'l1_ratio': 0.6927586206896552},\n",
       "  {'alpha': 10.829674028239044, 'l1_ratio': 0.7268965517241379},\n",
       "  {'alpha': 10.829674028239044, 'l1_ratio': 0.7610344827586207},\n",
       "  {'alpha': 10.829674028239044, 'l1_ratio': 0.7951724137931035},\n",
       "  {'alpha': 10.829674028239044, 'l1_ratio': 0.8293103448275863},\n",
       "  {'alpha': 10.829674028239044, 'l1_ratio': 0.863448275862069},\n",
       "  {'alpha': 10.829674028239044, 'l1_ratio': 0.8975862068965518},\n",
       "  {'alpha': 10.829674028239044, 'l1_ratio': 0.9317241379310346},\n",
       "  {'alpha': 10.829674028239044, 'l1_ratio': 0.9658620689655173},\n",
       "  {'alpha': 10.829674028239044, 'l1_ratio': 1.0},\n",
       "  {'alpha': 19.533012624998218, 'l1_ratio': 0.01},\n",
       "  {'alpha': 19.533012624998218, 'l1_ratio': 0.04413793103448276},\n",
       "  {'alpha': 19.533012624998218, 'l1_ratio': 0.07827586206896552},\n",
       "  {'alpha': 19.533012624998218, 'l1_ratio': 0.11241379310344828},\n",
       "  {'alpha': 19.533012624998218, 'l1_ratio': 0.14655172413793105},\n",
       "  {'alpha': 19.533012624998218, 'l1_ratio': 0.1806896551724138},\n",
       "  {'alpha': 19.533012624998218, 'l1_ratio': 0.21482758620689657},\n",
       "  {'alpha': 19.533012624998218, 'l1_ratio': 0.24896551724137933},\n",
       "  {'alpha': 19.533012624998218, 'l1_ratio': 0.2831034482758621},\n",
       "  {'alpha': 19.533012624998218, 'l1_ratio': 0.31724137931034485},\n",
       "  {'alpha': 19.533012624998218, 'l1_ratio': 0.3513793103448276},\n",
       "  {'alpha': 19.533012624998218, 'l1_ratio': 0.38551724137931037},\n",
       "  {'alpha': 19.533012624998218, 'l1_ratio': 0.41965517241379313},\n",
       "  {'alpha': 19.533012624998218, 'l1_ratio': 0.4537931034482759},\n",
       "  {'alpha': 19.533012624998218, 'l1_ratio': 0.48793103448275865},\n",
       "  {'alpha': 19.533012624998218, 'l1_ratio': 0.5220689655172415},\n",
       "  {'alpha': 19.533012624998218, 'l1_ratio': 0.5562068965517242},\n",
       "  {'alpha': 19.533012624998218, 'l1_ratio': 0.5903448275862069},\n",
       "  {'alpha': 19.533012624998218, 'l1_ratio': 0.6244827586206897},\n",
       "  {'alpha': 19.533012624998218, 'l1_ratio': 0.6586206896551725},\n",
       "  {'alpha': 19.533012624998218, 'l1_ratio': 0.6927586206896552},\n",
       "  {'alpha': 19.533012624998218, 'l1_ratio': 0.7268965517241379},\n",
       "  {'alpha': 19.533012624998218, 'l1_ratio': 0.7610344827586207},\n",
       "  {'alpha': 19.533012624998218, 'l1_ratio': 0.7951724137931035},\n",
       "  {'alpha': 19.533012624998218, 'l1_ratio': 0.8293103448275863},\n",
       "  {'alpha': 19.533012624998218, 'l1_ratio': 0.863448275862069},\n",
       "  {'alpha': 19.533012624998218, 'l1_ratio': 0.8975862068965518},\n",
       "  {'alpha': 19.533012624998218, 'l1_ratio': 0.9317241379310346},\n",
       "  {'alpha': 19.533012624998218, 'l1_ratio': 0.9658620689655173},\n",
       "  {'alpha': 19.533012624998218, 'l1_ratio': 1.0},\n",
       "  {'alpha': 35.230846396064585, 'l1_ratio': 0.01},\n",
       "  {'alpha': 35.230846396064585, 'l1_ratio': 0.04413793103448276},\n",
       "  {'alpha': 35.230846396064585, 'l1_ratio': 0.07827586206896552},\n",
       "  {'alpha': 35.230846396064585, 'l1_ratio': 0.11241379310344828},\n",
       "  {'alpha': 35.230846396064585, 'l1_ratio': 0.14655172413793105},\n",
       "  {'alpha': 35.230846396064585, 'l1_ratio': 0.1806896551724138},\n",
       "  {'alpha': 35.230846396064585, 'l1_ratio': 0.21482758620689657},\n",
       "  {'alpha': 35.230846396064585, 'l1_ratio': 0.24896551724137933},\n",
       "  {'alpha': 35.230846396064585, 'l1_ratio': 0.2831034482758621},\n",
       "  {'alpha': 35.230846396064585, 'l1_ratio': 0.31724137931034485},\n",
       "  {'alpha': 35.230846396064585, 'l1_ratio': 0.3513793103448276},\n",
       "  {'alpha': 35.230846396064585, 'l1_ratio': 0.38551724137931037},\n",
       "  {'alpha': 35.230846396064585, 'l1_ratio': 0.41965517241379313},\n",
       "  {'alpha': 35.230846396064585, 'l1_ratio': 0.4537931034482759},\n",
       "  {'alpha': 35.230846396064585, 'l1_ratio': 0.48793103448275865},\n",
       "  {'alpha': 35.230846396064585, 'l1_ratio': 0.5220689655172415},\n",
       "  {'alpha': 35.230846396064585, 'l1_ratio': 0.5562068965517242},\n",
       "  {'alpha': 35.230846396064585, 'l1_ratio': 0.5903448275862069},\n",
       "  {'alpha': 35.230846396064585, 'l1_ratio': 0.6244827586206897},\n",
       "  {'alpha': 35.230846396064585, 'l1_ratio': 0.6586206896551725},\n",
       "  {'alpha': 35.230846396064585, 'l1_ratio': 0.6927586206896552},\n",
       "  {'alpha': 35.230846396064585, 'l1_ratio': 0.7268965517241379},\n",
       "  {'alpha': 35.230846396064585, 'l1_ratio': 0.7610344827586207},\n",
       "  {'alpha': 35.230846396064585, 'l1_ratio': 0.7951724137931035},\n",
       "  {'alpha': 35.230846396064585, 'l1_ratio': 0.8293103448275863},\n",
       "  {'alpha': 35.230846396064585, 'l1_ratio': 0.863448275862069},\n",
       "  {'alpha': 35.230846396064585, 'l1_ratio': 0.8975862068965518},\n",
       "  {'alpha': 35.230846396064585, 'l1_ratio': 0.9317241379310346},\n",
       "  {'alpha': 35.230846396064585, 'l1_ratio': 0.9658620689655173},\n",
       "  {'alpha': 35.230846396064585, 'l1_ratio': 1.0},\n",
       "  {'alpha': 63.54434728591745, 'l1_ratio': 0.01},\n",
       "  {'alpha': 63.54434728591745, 'l1_ratio': 0.04413793103448276},\n",
       "  {'alpha': 63.54434728591745, 'l1_ratio': 0.07827586206896552},\n",
       "  {'alpha': 63.54434728591745, 'l1_ratio': 0.11241379310344828},\n",
       "  {'alpha': 63.54434728591745, 'l1_ratio': 0.14655172413793105},\n",
       "  {'alpha': 63.54434728591745, 'l1_ratio': 0.1806896551724138},\n",
       "  {'alpha': 63.54434728591745, 'l1_ratio': 0.21482758620689657},\n",
       "  {'alpha': 63.54434728591745, 'l1_ratio': 0.24896551724137933},\n",
       "  {'alpha': 63.54434728591745, 'l1_ratio': 0.2831034482758621},\n",
       "  {'alpha': 63.54434728591745, 'l1_ratio': 0.31724137931034485},\n",
       "  {'alpha': 63.54434728591745, 'l1_ratio': 0.3513793103448276},\n",
       "  {'alpha': 63.54434728591745, 'l1_ratio': 0.38551724137931037},\n",
       "  {'alpha': 63.54434728591745, 'l1_ratio': 0.41965517241379313},\n",
       "  {'alpha': 63.54434728591745, 'l1_ratio': 0.4537931034482759},\n",
       "  {'alpha': 63.54434728591745, 'l1_ratio': 0.48793103448275865},\n",
       "  {'alpha': 63.54434728591745, 'l1_ratio': 0.5220689655172415},\n",
       "  {'alpha': 63.54434728591745, 'l1_ratio': 0.5562068965517242},\n",
       "  {'alpha': 63.54434728591745, 'l1_ratio': 0.5903448275862069},\n",
       "  {'alpha': 63.54434728591745, 'l1_ratio': 0.6244827586206897},\n",
       "  {'alpha': 63.54434728591745, 'l1_ratio': 0.6586206896551725},\n",
       "  {'alpha': 63.54434728591745, 'l1_ratio': 0.6927586206896552},\n",
       "  {'alpha': 63.54434728591745, 'l1_ratio': 0.7268965517241379},\n",
       "  {'alpha': 63.54434728591745, 'l1_ratio': 0.7610344827586207},\n",
       "  {'alpha': 63.54434728591745, 'l1_ratio': 0.7951724137931035},\n",
       "  {'alpha': 63.54434728591745, 'l1_ratio': 0.8293103448275863},\n",
       "  {'alpha': 63.54434728591745, 'l1_ratio': 0.863448275862069},\n",
       "  {'alpha': 63.54434728591745, 'l1_ratio': 0.8975862068965518},\n",
       "  {'alpha': 63.54434728591745, 'l1_ratio': 0.9317241379310346},\n",
       "  {'alpha': 63.54434728591745, 'l1_ratio': 0.9658620689655173},\n",
       "  {'alpha': 63.54434728591745, 'l1_ratio': 1.0},\n",
       "  {'alpha': 114.61217895816235, 'l1_ratio': 0.01},\n",
       "  {'alpha': 114.61217895816235, 'l1_ratio': 0.04413793103448276},\n",
       "  {'alpha': 114.61217895816235, 'l1_ratio': 0.07827586206896552},\n",
       "  {'alpha': 114.61217895816235, 'l1_ratio': 0.11241379310344828},\n",
       "  {'alpha': 114.61217895816235, 'l1_ratio': 0.14655172413793105},\n",
       "  {'alpha': 114.61217895816235, 'l1_ratio': 0.1806896551724138},\n",
       "  {'alpha': 114.61217895816235, 'l1_ratio': 0.21482758620689657},\n",
       "  {'alpha': 114.61217895816235, 'l1_ratio': 0.24896551724137933},\n",
       "  {'alpha': 114.61217895816235, 'l1_ratio': 0.2831034482758621},\n",
       "  {'alpha': 114.61217895816235, 'l1_ratio': 0.31724137931034485},\n",
       "  {'alpha': 114.61217895816235, 'l1_ratio': 0.3513793103448276},\n",
       "  {'alpha': 114.61217895816235, 'l1_ratio': 0.38551724137931037},\n",
       "  {'alpha': 114.61217895816235, 'l1_ratio': 0.41965517241379313},\n",
       "  {'alpha': 114.61217895816235, 'l1_ratio': 0.4537931034482759},\n",
       "  {'alpha': 114.61217895816235, 'l1_ratio': 0.48793103448275865},\n",
       "  {'alpha': 114.61217895816235, 'l1_ratio': 0.5220689655172415},\n",
       "  {'alpha': 114.61217895816235, 'l1_ratio': 0.5562068965517242},\n",
       "  {'alpha': 114.61217895816235, 'l1_ratio': 0.5903448275862069},\n",
       "  {'alpha': 114.61217895816235, 'l1_ratio': 0.6244827586206897},\n",
       "  {'alpha': 114.61217895816235, 'l1_ratio': 0.6586206896551725},\n",
       "  {'alpha': 114.61217895816235, 'l1_ratio': 0.6927586206896552},\n",
       "  {'alpha': 114.61217895816235, 'l1_ratio': 0.7268965517241379},\n",
       "  {'alpha': 114.61217895816235, 'l1_ratio': 0.7610344827586207},\n",
       "  {'alpha': 114.61217895816235, 'l1_ratio': 0.7951724137931035},\n",
       "  {'alpha': 114.61217895816235, 'l1_ratio': 0.8293103448275863},\n",
       "  {'alpha': 114.61217895816235, 'l1_ratio': 0.863448275862069},\n",
       "  {'alpha': 114.61217895816235, 'l1_ratio': 0.8975862068965518},\n",
       "  {'alpha': 114.61217895816235, 'l1_ratio': 0.9317241379310346},\n",
       "  {'alpha': 114.61217895816235, 'l1_ratio': 0.9658620689655173},\n",
       "  {'alpha': 114.61217895816235, 'l1_ratio': 1.0},\n",
       "  {'alpha': 206.72100865923898, 'l1_ratio': 0.01},\n",
       "  {'alpha': 206.72100865923898, 'l1_ratio': 0.04413793103448276},\n",
       "  {'alpha': 206.72100865923898, 'l1_ratio': 0.07827586206896552},\n",
       "  {'alpha': 206.72100865923898, 'l1_ratio': 0.11241379310344828},\n",
       "  {'alpha': 206.72100865923898, 'l1_ratio': 0.14655172413793105},\n",
       "  {'alpha': 206.72100865923898, 'l1_ratio': 0.1806896551724138},\n",
       "  {'alpha': 206.72100865923898, 'l1_ratio': 0.21482758620689657},\n",
       "  {'alpha': 206.72100865923898, 'l1_ratio': 0.24896551724137933},\n",
       "  {'alpha': 206.72100865923898, 'l1_ratio': 0.2831034482758621},\n",
       "  {'alpha': 206.72100865923898, 'l1_ratio': 0.31724137931034485},\n",
       "  {'alpha': 206.72100865923898, 'l1_ratio': 0.3513793103448276},\n",
       "  {'alpha': 206.72100865923898, 'l1_ratio': 0.38551724137931037},\n",
       "  {'alpha': 206.72100865923898, 'l1_ratio': 0.41965517241379313},\n",
       "  {'alpha': 206.72100865923898, 'l1_ratio': 0.4537931034482759},\n",
       "  {'alpha': 206.72100865923898, 'l1_ratio': 0.48793103448275865},\n",
       "  {'alpha': 206.72100865923898, 'l1_ratio': 0.5220689655172415},\n",
       "  {'alpha': 206.72100865923898, 'l1_ratio': 0.5562068965517242},\n",
       "  {'alpha': 206.72100865923898, 'l1_ratio': 0.5903448275862069},\n",
       "  {'alpha': 206.72100865923898, 'l1_ratio': 0.6244827586206897},\n",
       "  {'alpha': 206.72100865923898, 'l1_ratio': 0.6586206896551725},\n",
       "  {'alpha': 206.72100865923898, 'l1_ratio': 0.6927586206896552},\n",
       "  {'alpha': 206.72100865923898, 'l1_ratio': 0.7268965517241379},\n",
       "  {'alpha': 206.72100865923898, 'l1_ratio': 0.7610344827586207},\n",
       "  {'alpha': 206.72100865923898, 'l1_ratio': 0.7951724137931035},\n",
       "  {'alpha': 206.72100865923898, 'l1_ratio': 0.8293103448275863},\n",
       "  {'alpha': 206.72100865923898, 'l1_ratio': 0.863448275862069},\n",
       "  {'alpha': 206.72100865923898, 'l1_ratio': 0.8975862068965518},\n",
       "  {'alpha': 206.72100865923898, 'l1_ratio': 0.9317241379310346},\n",
       "  {'alpha': 206.72100865923898, 'l1_ratio': 0.9658620689655173},\n",
       "  {'alpha': 206.72100865923898, 'l1_ratio': 1.0},\n",
       "  {'alpha': 372.85370376469785, 'l1_ratio': 0.01},\n",
       "  {'alpha': 372.85370376469785, 'l1_ratio': 0.04413793103448276},\n",
       "  {'alpha': 372.85370376469785, 'l1_ratio': 0.07827586206896552},\n",
       "  {'alpha': 372.85370376469785, 'l1_ratio': 0.11241379310344828},\n",
       "  {'alpha': 372.85370376469785, 'l1_ratio': 0.14655172413793105},\n",
       "  {'alpha': 372.85370376469785, 'l1_ratio': 0.1806896551724138},\n",
       "  {'alpha': 372.85370376469785, 'l1_ratio': 0.21482758620689657},\n",
       "  {'alpha': 372.85370376469785, 'l1_ratio': 0.24896551724137933},\n",
       "  {'alpha': 372.85370376469785, 'l1_ratio': 0.2831034482758621},\n",
       "  {'alpha': 372.85370376469785, 'l1_ratio': 0.31724137931034485},\n",
       "  {'alpha': 372.85370376469785, 'l1_ratio': 0.3513793103448276},\n",
       "  {'alpha': 372.85370376469785, 'l1_ratio': 0.38551724137931037},\n",
       "  {'alpha': 372.85370376469785, 'l1_ratio': 0.41965517241379313},\n",
       "  {'alpha': 372.85370376469785, 'l1_ratio': 0.4537931034482759},\n",
       "  {'alpha': 372.85370376469785, 'l1_ratio': 0.48793103448275865},\n",
       "  {'alpha': 372.85370376469785, 'l1_ratio': 0.5220689655172415},\n",
       "  {'alpha': 372.85370376469785, 'l1_ratio': 0.5562068965517242},\n",
       "  {'alpha': 372.85370376469785, 'l1_ratio': 0.5903448275862069},\n",
       "  {'alpha': 372.85370376469785, 'l1_ratio': 0.6244827586206897},\n",
       "  {'alpha': 372.85370376469785, 'l1_ratio': 0.6586206896551725},\n",
       "  {'alpha': 372.85370376469785, 'l1_ratio': 0.6927586206896552},\n",
       "  {'alpha': 372.85370376469785, 'l1_ratio': 0.7268965517241379},\n",
       "  {'alpha': 372.85370376469785, 'l1_ratio': 0.7610344827586207},\n",
       "  {'alpha': 372.85370376469785, 'l1_ratio': 0.7951724137931035},\n",
       "  {'alpha': 372.85370376469785, 'l1_ratio': 0.8293103448275863},\n",
       "  {'alpha': 372.85370376469785, 'l1_ratio': 0.863448275862069},\n",
       "  {'alpha': 372.85370376469785, 'l1_ratio': 0.8975862068965518},\n",
       "  {'alpha': 372.85370376469785, 'l1_ratio': 0.9317241379310346},\n",
       "  {'alpha': 372.85370376469785, 'l1_ratio': 0.9658620689655173},\n",
       "  {'alpha': 372.85370376469785, 'l1_ratio': 1.0},\n",
       "  {'alpha': 672.5000294489413, 'l1_ratio': 0.01},\n",
       "  {'alpha': 672.5000294489413, 'l1_ratio': 0.04413793103448276},\n",
       "  {'alpha': 672.5000294489413, 'l1_ratio': 0.07827586206896552},\n",
       "  {'alpha': 672.5000294489413, 'l1_ratio': 0.11241379310344828},\n",
       "  {'alpha': 672.5000294489413, 'l1_ratio': 0.14655172413793105},\n",
       "  {'alpha': 672.5000294489413, 'l1_ratio': 0.1806896551724138},\n",
       "  {'alpha': 672.5000294489413, 'l1_ratio': 0.21482758620689657},\n",
       "  {'alpha': 672.5000294489413, 'l1_ratio': 0.24896551724137933},\n",
       "  {'alpha': 672.5000294489413, 'l1_ratio': 0.2831034482758621},\n",
       "  {'alpha': 672.5000294489413, 'l1_ratio': 0.31724137931034485},\n",
       "  {'alpha': 672.5000294489413, 'l1_ratio': 0.3513793103448276},\n",
       "  {'alpha': 672.5000294489413, 'l1_ratio': 0.38551724137931037},\n",
       "  {'alpha': 672.5000294489413, 'l1_ratio': 0.41965517241379313},\n",
       "  {'alpha': 672.5000294489413, 'l1_ratio': 0.4537931034482759},\n",
       "  {'alpha': 672.5000294489413, 'l1_ratio': 0.48793103448275865},\n",
       "  {'alpha': 672.5000294489413, 'l1_ratio': 0.5220689655172415},\n",
       "  {'alpha': 672.5000294489413, 'l1_ratio': 0.5562068965517242},\n",
       "  {'alpha': 672.5000294489413, 'l1_ratio': 0.5903448275862069},\n",
       "  {'alpha': 672.5000294489413, 'l1_ratio': 0.6244827586206897},\n",
       "  {'alpha': 672.5000294489413, 'l1_ratio': 0.6586206896551725},\n",
       "  {'alpha': 672.5000294489413, 'l1_ratio': 0.6927586206896552},\n",
       "  {'alpha': 672.5000294489413, 'l1_ratio': 0.7268965517241379},\n",
       "  {'alpha': 672.5000294489413, 'l1_ratio': 0.7610344827586207},\n",
       "  {'alpha': 672.5000294489413, 'l1_ratio': 0.7951724137931035},\n",
       "  {'alpha': 672.5000294489413, 'l1_ratio': 0.8293103448275863},\n",
       "  {'alpha': 672.5000294489413, 'l1_ratio': 0.863448275862069},\n",
       "  {'alpha': 672.5000294489413, 'l1_ratio': 0.8975862068965518},\n",
       "  {'alpha': 672.5000294489413, 'l1_ratio': 0.9317241379310346},\n",
       "  {'alpha': 672.5000294489413, 'l1_ratio': 0.9658620689655173},\n",
       "  {'alpha': 672.5000294489413, 'l1_ratio': 1.0},\n",
       "  {'alpha': 1212.959091038662, 'l1_ratio': 0.01},\n",
       "  {'alpha': 1212.959091038662, 'l1_ratio': 0.04413793103448276},\n",
       "  {'alpha': 1212.959091038662, 'l1_ratio': 0.07827586206896552},\n",
       "  {'alpha': 1212.959091038662, 'l1_ratio': 0.11241379310344828},\n",
       "  {'alpha': 1212.959091038662, 'l1_ratio': 0.14655172413793105},\n",
       "  {'alpha': 1212.959091038662, 'l1_ratio': 0.1806896551724138},\n",
       "  {'alpha': 1212.959091038662, 'l1_ratio': 0.21482758620689657},\n",
       "  {'alpha': 1212.959091038662, 'l1_ratio': 0.24896551724137933},\n",
       "  {'alpha': 1212.959091038662, 'l1_ratio': 0.2831034482758621},\n",
       "  {'alpha': 1212.959091038662, 'l1_ratio': 0.31724137931034485},\n",
       "  {'alpha': 1212.959091038662, 'l1_ratio': 0.3513793103448276},\n",
       "  {'alpha': 1212.959091038662, 'l1_ratio': 0.38551724137931037},\n",
       "  {'alpha': 1212.959091038662, 'l1_ratio': 0.41965517241379313},\n",
       "  {'alpha': 1212.959091038662, 'l1_ratio': 0.4537931034482759},\n",
       "  {'alpha': 1212.959091038662, 'l1_ratio': 0.48793103448275865},\n",
       "  {'alpha': 1212.959091038662, 'l1_ratio': 0.5220689655172415},\n",
       "  {'alpha': 1212.959091038662, 'l1_ratio': 0.5562068965517242},\n",
       "  {'alpha': 1212.959091038662, 'l1_ratio': 0.5903448275862069},\n",
       "  {'alpha': 1212.959091038662, 'l1_ratio': 0.6244827586206897},\n",
       "  {'alpha': 1212.959091038662, 'l1_ratio': 0.6586206896551725},\n",
       "  {'alpha': 1212.959091038662, 'l1_ratio': 0.6927586206896552},\n",
       "  {'alpha': 1212.959091038662, 'l1_ratio': 0.7268965517241379},\n",
       "  {'alpha': 1212.959091038662, 'l1_ratio': 0.7610344827586207},\n",
       "  {'alpha': 1212.959091038662, 'l1_ratio': 0.7951724137931035},\n",
       "  {'alpha': 1212.959091038662, 'l1_ratio': 0.8293103448275863},\n",
       "  {'alpha': 1212.959091038662, 'l1_ratio': 0.863448275862069},\n",
       "  {'alpha': 1212.959091038662, 'l1_ratio': 0.8975862068965518},\n",
       "  {'alpha': 1212.959091038662, 'l1_ratio': 0.9317241379310346},\n",
       "  {'alpha': 1212.959091038662, 'l1_ratio': 0.9658620689655173},\n",
       "  {'alpha': 1212.959091038662, 'l1_ratio': 1.0},\n",
       "  {'alpha': 2187.761623949552, 'l1_ratio': 0.01},\n",
       "  {'alpha': 2187.761623949552, 'l1_ratio': 0.04413793103448276},\n",
       "  {'alpha': 2187.761623949552, 'l1_ratio': 0.07827586206896552},\n",
       "  {'alpha': 2187.761623949552, 'l1_ratio': 0.11241379310344828},\n",
       "  {'alpha': 2187.761623949552, 'l1_ratio': 0.14655172413793105},\n",
       "  {'alpha': 2187.761623949552, 'l1_ratio': 0.1806896551724138},\n",
       "  {'alpha': 2187.761623949552, 'l1_ratio': 0.21482758620689657},\n",
       "  {'alpha': 2187.761623949552, 'l1_ratio': 0.24896551724137933},\n",
       "  {'alpha': 2187.761623949552, 'l1_ratio': 0.2831034482758621},\n",
       "  {'alpha': 2187.761623949552, 'l1_ratio': 0.31724137931034485},\n",
       "  {'alpha': 2187.761623949552, 'l1_ratio': 0.3513793103448276},\n",
       "  {'alpha': 2187.761623949552, 'l1_ratio': 0.38551724137931037},\n",
       "  {'alpha': 2187.761623949552, 'l1_ratio': 0.41965517241379313},\n",
       "  {'alpha': 2187.761623949552, 'l1_ratio': 0.4537931034482759},\n",
       "  {'alpha': 2187.761623949552, 'l1_ratio': 0.48793103448275865},\n",
       "  {'alpha': 2187.761623949552, 'l1_ratio': 0.5220689655172415},\n",
       "  {'alpha': 2187.761623949552, 'l1_ratio': 0.5562068965517242},\n",
       "  {'alpha': 2187.761623949552, 'l1_ratio': 0.5903448275862069},\n",
       "  {'alpha': 2187.761623949552, 'l1_ratio': 0.6244827586206897},\n",
       "  {'alpha': 2187.761623949552, 'l1_ratio': 0.6586206896551725},\n",
       "  {'alpha': 2187.761623949552, 'l1_ratio': 0.6927586206896552},\n",
       "  {'alpha': 2187.761623949552, 'l1_ratio': 0.7268965517241379},\n",
       "  {'alpha': 2187.761623949552, 'l1_ratio': 0.7610344827586207},\n",
       "  {'alpha': 2187.761623949552, 'l1_ratio': 0.7951724137931035},\n",
       "  {'alpha': 2187.761623949552, 'l1_ratio': 0.8293103448275863},\n",
       "  {'alpha': 2187.761623949552, 'l1_ratio': 0.863448275862069},\n",
       "  {'alpha': 2187.761623949552, 'l1_ratio': 0.8975862068965518},\n",
       "  {'alpha': 2187.761623949552, 'l1_ratio': 0.9317241379310346},\n",
       "  {'alpha': 2187.761623949552, 'l1_ratio': 0.9658620689655173},\n",
       "  {'alpha': 2187.761623949552, 'l1_ratio': 1.0},\n",
       "  {'alpha': 3945.970609056448, 'l1_ratio': 0.01},\n",
       "  {'alpha': 3945.970609056448, 'l1_ratio': 0.04413793103448276},\n",
       "  {'alpha': 3945.970609056448, 'l1_ratio': 0.07827586206896552},\n",
       "  {'alpha': 3945.970609056448, 'l1_ratio': 0.11241379310344828},\n",
       "  {'alpha': 3945.970609056448, 'l1_ratio': 0.14655172413793105},\n",
       "  {'alpha': 3945.970609056448, 'l1_ratio': 0.1806896551724138},\n",
       "  {'alpha': 3945.970609056448, 'l1_ratio': 0.21482758620689657},\n",
       "  {'alpha': 3945.970609056448, 'l1_ratio': 0.24896551724137933},\n",
       "  {'alpha': 3945.970609056448, 'l1_ratio': 0.2831034482758621},\n",
       "  {'alpha': 3945.970609056448, 'l1_ratio': 0.31724137931034485},\n",
       "  {'alpha': 3945.970609056448, 'l1_ratio': 0.3513793103448276},\n",
       "  {'alpha': 3945.970609056448, 'l1_ratio': 0.38551724137931037},\n",
       "  {'alpha': 3945.970609056448, 'l1_ratio': 0.41965517241379313},\n",
       "  {'alpha': 3945.970609056448, 'l1_ratio': 0.4537931034482759},\n",
       "  {'alpha': 3945.970609056448, 'l1_ratio': 0.48793103448275865},\n",
       "  {'alpha': 3945.970609056448, 'l1_ratio': 0.5220689655172415},\n",
       "  {'alpha': 3945.970609056448, 'l1_ratio': 0.5562068965517242},\n",
       "  {'alpha': 3945.970609056448, 'l1_ratio': 0.5903448275862069},\n",
       "  {'alpha': 3945.970609056448, 'l1_ratio': 0.6244827586206897},\n",
       "  {'alpha': 3945.970609056448, 'l1_ratio': 0.6586206896551725},\n",
       "  {'alpha': 3945.970609056448, 'l1_ratio': 0.6927586206896552},\n",
       "  {'alpha': 3945.970609056448, 'l1_ratio': 0.7268965517241379},\n",
       "  {'alpha': 3945.970609056448, 'l1_ratio': 0.7610344827586207},\n",
       "  {'alpha': 3945.970609056448, 'l1_ratio': 0.7951724137931035},\n",
       "  {'alpha': 3945.970609056448, 'l1_ratio': 0.8293103448275863},\n",
       "  {'alpha': 3945.970609056448, 'l1_ratio': 0.863448275862069},\n",
       "  {'alpha': 3945.970609056448, 'l1_ratio': 0.8975862068965518},\n",
       "  {'alpha': 3945.970609056448, 'l1_ratio': 0.9317241379310346},\n",
       "  {'alpha': 3945.970609056448, 'l1_ratio': 0.9658620689655173},\n",
       "  {'alpha': 3945.970609056448, 'l1_ratio': 1.0},\n",
       "  {'alpha': 7117.175782354049, 'l1_ratio': 0.01},\n",
       "  {'alpha': 7117.175782354049, 'l1_ratio': 0.04413793103448276},\n",
       "  {'alpha': 7117.175782354049, 'l1_ratio': 0.07827586206896552},\n",
       "  {'alpha': 7117.175782354049, 'l1_ratio': 0.11241379310344828},\n",
       "  {'alpha': 7117.175782354049, 'l1_ratio': 0.14655172413793105},\n",
       "  {'alpha': 7117.175782354049, 'l1_ratio': 0.1806896551724138},\n",
       "  {'alpha': 7117.175782354049, 'l1_ratio': 0.21482758620689657},\n",
       "  {'alpha': 7117.175782354049, 'l1_ratio': 0.24896551724137933},\n",
       "  {'alpha': 7117.175782354049, 'l1_ratio': 0.2831034482758621},\n",
       "  {'alpha': 7117.175782354049, 'l1_ratio': 0.31724137931034485},\n",
       "  {'alpha': 7117.175782354049, 'l1_ratio': 0.3513793103448276},\n",
       "  {'alpha': 7117.175782354049, 'l1_ratio': 0.38551724137931037},\n",
       "  {'alpha': 7117.175782354049, 'l1_ratio': 0.41965517241379313},\n",
       "  {'alpha': 7117.175782354049, 'l1_ratio': 0.4537931034482759},\n",
       "  {'alpha': 7117.175782354049, 'l1_ratio': 0.48793103448275865},\n",
       "  {'alpha': 7117.175782354049, 'l1_ratio': 0.5220689655172415},\n",
       "  {'alpha': 7117.175782354049, 'l1_ratio': 0.5562068965517242},\n",
       "  {'alpha': 7117.175782354049, 'l1_ratio': 0.5903448275862069},\n",
       "  {'alpha': 7117.175782354049, 'l1_ratio': 0.6244827586206897},\n",
       "  {'alpha': 7117.175782354049, 'l1_ratio': 0.6586206896551725},\n",
       "  {'alpha': 7117.175782354049, 'l1_ratio': 0.6927586206896552},\n",
       "  {'alpha': 7117.175782354049, 'l1_ratio': 0.7268965517241379},\n",
       "  {'alpha': 7117.175782354049, 'l1_ratio': 0.7610344827586207},\n",
       "  {'alpha': 7117.175782354049, 'l1_ratio': 0.7951724137931035},\n",
       "  {'alpha': 7117.175782354049, 'l1_ratio': 0.8293103448275863},\n",
       "  {'alpha': 7117.175782354049, 'l1_ratio': 0.863448275862069},\n",
       "  {'alpha': 7117.175782354049, 'l1_ratio': 0.8975862068965518},\n",
       "  {'alpha': 7117.175782354049, 'l1_ratio': 0.9317241379310346},\n",
       "  {'alpha': 7117.175782354049, 'l1_ratio': 0.9658620689655173},\n",
       "  {'alpha': 7117.175782354049, 'l1_ratio': 1.0},\n",
       "  {'alpha': 12836.940802516327, 'l1_ratio': 0.01},\n",
       "  {'alpha': 12836.940802516327, 'l1_ratio': 0.04413793103448276},\n",
       "  {'alpha': 12836.940802516327, 'l1_ratio': 0.07827586206896552},\n",
       "  {'alpha': 12836.940802516327, 'l1_ratio': 0.11241379310344828},\n",
       "  {'alpha': 12836.940802516327, 'l1_ratio': 0.14655172413793105},\n",
       "  {'alpha': 12836.940802516327, 'l1_ratio': 0.1806896551724138},\n",
       "  {'alpha': 12836.940802516327, 'l1_ratio': 0.21482758620689657},\n",
       "  {'alpha': 12836.940802516327, 'l1_ratio': 0.24896551724137933},\n",
       "  {'alpha': 12836.940802516327, 'l1_ratio': 0.2831034482758621},\n",
       "  {'alpha': 12836.940802516327, 'l1_ratio': 0.31724137931034485},\n",
       "  {'alpha': 12836.940802516327, 'l1_ratio': 0.3513793103448276},\n",
       "  {'alpha': 12836.940802516327, 'l1_ratio': 0.38551724137931037},\n",
       "  {'alpha': 12836.940802516327, 'l1_ratio': 0.41965517241379313},\n",
       "  {'alpha': 12836.940802516327, 'l1_ratio': 0.4537931034482759},\n",
       "  {'alpha': 12836.940802516327, 'l1_ratio': 0.48793103448275865},\n",
       "  {'alpha': 12836.940802516327, 'l1_ratio': 0.5220689655172415},\n",
       "  {'alpha': 12836.940802516327, 'l1_ratio': 0.5562068965517242},\n",
       "  {'alpha': 12836.940802516327, 'l1_ratio': 0.5903448275862069},\n",
       "  {'alpha': 12836.940802516327, 'l1_ratio': 0.6244827586206897},\n",
       "  {'alpha': 12836.940802516327, 'l1_ratio': 0.6586206896551725},\n",
       "  {'alpha': 12836.940802516327, 'l1_ratio': 0.6927586206896552},\n",
       "  {'alpha': 12836.940802516327, 'l1_ratio': 0.7268965517241379},\n",
       "  {'alpha': 12836.940802516327, 'l1_ratio': 0.7610344827586207},\n",
       "  {'alpha': 12836.940802516327, 'l1_ratio': 0.7951724137931035},\n",
       "  {'alpha': 12836.940802516327, 'l1_ratio': 0.8293103448275863},\n",
       "  {'alpha': 12836.940802516327, 'l1_ratio': 0.863448275862069},\n",
       "  {'alpha': 12836.940802516327, 'l1_ratio': 0.8975862068965518},\n",
       "  {'alpha': 12836.940802516327, 'l1_ratio': 0.9317241379310346},\n",
       "  {'alpha': 12836.940802516327, 'l1_ratio': 0.9658620689655173},\n",
       "  {'alpha': 12836.940802516327, 'l1_ratio': 1.0},\n",
       "  {'alpha': 23153.432514041993, 'l1_ratio': 0.01},\n",
       "  {'alpha': 23153.432514041993, 'l1_ratio': 0.04413793103448276},\n",
       "  {'alpha': 23153.432514041993, 'l1_ratio': 0.07827586206896552},\n",
       "  {'alpha': 23153.432514041993, 'l1_ratio': 0.11241379310344828},\n",
       "  {'alpha': 23153.432514041993, 'l1_ratio': 0.14655172413793105},\n",
       "  {'alpha': 23153.432514041993, 'l1_ratio': 0.1806896551724138},\n",
       "  {'alpha': 23153.432514041993, 'l1_ratio': 0.21482758620689657},\n",
       "  {'alpha': 23153.432514041993, 'l1_ratio': 0.24896551724137933},\n",
       "  {'alpha': 23153.432514041993, 'l1_ratio': 0.2831034482758621},\n",
       "  {'alpha': 23153.432514041993, 'l1_ratio': 0.31724137931034485},\n",
       "  {'alpha': 23153.432514041993, 'l1_ratio': 0.3513793103448276},\n",
       "  {'alpha': 23153.432514041993, 'l1_ratio': 0.38551724137931037},\n",
       "  {'alpha': 23153.432514041993, 'l1_ratio': 0.41965517241379313},\n",
       "  {'alpha': 23153.432514041993, 'l1_ratio': 0.4537931034482759},\n",
       "  {'alpha': 23153.432514041993, 'l1_ratio': 0.48793103448275865},\n",
       "  {'alpha': 23153.432514041993, 'l1_ratio': 0.5220689655172415},\n",
       "  {'alpha': 23153.432514041993, 'l1_ratio': 0.5562068965517242},\n",
       "  {'alpha': 23153.432514041993, 'l1_ratio': 0.5903448275862069},\n",
       "  {'alpha': 23153.432514041993, 'l1_ratio': 0.6244827586206897},\n",
       "  {'alpha': 23153.432514041993, 'l1_ratio': 0.6586206896551725},\n",
       "  {'alpha': 23153.432514041993, 'l1_ratio': 0.6927586206896552},\n",
       "  {'alpha': 23153.432514041993, 'l1_ratio': 0.7268965517241379},\n",
       "  {'alpha': 23153.432514041993, 'l1_ratio': 0.7610344827586207},\n",
       "  {'alpha': 23153.432514041993, 'l1_ratio': 0.7951724137931035},\n",
       "  {'alpha': 23153.432514041993, 'l1_ratio': 0.8293103448275863},\n",
       "  {'alpha': 23153.432514041993, 'l1_ratio': 0.863448275862069},\n",
       "  {'alpha': 23153.432514041993, 'l1_ratio': 0.8975862068965518},\n",
       "  {'alpha': 23153.432514041993, 'l1_ratio': 0.9317241379310346},\n",
       "  {'alpha': 23153.432514041993, 'l1_ratio': 0.9658620689655173},\n",
       "  {'alpha': 23153.432514041993, 'l1_ratio': 1.0},\n",
       "  {'alpha': 41760.84048601463, 'l1_ratio': 0.01},\n",
       "  {'alpha': 41760.84048601463, 'l1_ratio': 0.04413793103448276},\n",
       "  {'alpha': 41760.84048601463, 'l1_ratio': 0.07827586206896552},\n",
       "  {'alpha': 41760.84048601463, 'l1_ratio': 0.11241379310344828},\n",
       "  {'alpha': 41760.84048601463, 'l1_ratio': 0.14655172413793105},\n",
       "  {'alpha': 41760.84048601463, 'l1_ratio': 0.1806896551724138},\n",
       "  {'alpha': 41760.84048601463, 'l1_ratio': 0.21482758620689657},\n",
       "  {'alpha': 41760.84048601463, 'l1_ratio': 0.24896551724137933},\n",
       "  {'alpha': 41760.84048601463, 'l1_ratio': 0.2831034482758621},\n",
       "  {'alpha': 41760.84048601463, 'l1_ratio': 0.31724137931034485},\n",
       "  {'alpha': 41760.84048601463, 'l1_ratio': 0.3513793103448276},\n",
       "  {'alpha': 41760.84048601463, 'l1_ratio': 0.38551724137931037},\n",
       "  {'alpha': 41760.84048601463, 'l1_ratio': 0.41965517241379313},\n",
       "  {'alpha': 41760.84048601463, 'l1_ratio': 0.4537931034482759},\n",
       "  {'alpha': 41760.84048601463, 'l1_ratio': 0.48793103448275865},\n",
       "  {'alpha': 41760.84048601463, 'l1_ratio': 0.5220689655172415},\n",
       "  {'alpha': 41760.84048601463, 'l1_ratio': 0.5562068965517242},\n",
       "  {'alpha': 41760.84048601463, 'l1_ratio': 0.5903448275862069},\n",
       "  {'alpha': 41760.84048601463, 'l1_ratio': 0.6244827586206897},\n",
       "  {'alpha': 41760.84048601463, 'l1_ratio': 0.6586206896551725},\n",
       "  {'alpha': 41760.84048601463, 'l1_ratio': 0.6927586206896552},\n",
       "  {'alpha': 41760.84048601463, 'l1_ratio': 0.7268965517241379},\n",
       "  {'alpha': 41760.84048601463, 'l1_ratio': 0.7610344827586207},\n",
       "  {'alpha': 41760.84048601463, 'l1_ratio': 0.7951724137931035},\n",
       "  {'alpha': 41760.84048601463, 'l1_ratio': 0.8293103448275863},\n",
       "  {'alpha': 41760.84048601463, 'l1_ratio': 0.863448275862069},\n",
       "  {'alpha': 41760.84048601463, 'l1_ratio': 0.8975862068965518},\n",
       "  {'alpha': 41760.84048601463, 'l1_ratio': 0.9317241379310346},\n",
       "  {'alpha': 41760.84048601463, 'l1_ratio': 0.9658620689655173},\n",
       "  {'alpha': 41760.84048601463, 'l1_ratio': 1.0},\n",
       "  {'alpha': 75322.21397586247, 'l1_ratio': 0.01},\n",
       "  {'alpha': 75322.21397586247, 'l1_ratio': 0.04413793103448276},\n",
       "  {'alpha': 75322.21397586247, 'l1_ratio': 0.07827586206896552},\n",
       "  {'alpha': 75322.21397586247, 'l1_ratio': 0.11241379310344828},\n",
       "  {'alpha': 75322.21397586247, 'l1_ratio': 0.14655172413793105},\n",
       "  {'alpha': 75322.21397586247, 'l1_ratio': 0.1806896551724138},\n",
       "  {'alpha': 75322.21397586247, 'l1_ratio': 0.21482758620689657},\n",
       "  {'alpha': 75322.21397586247, 'l1_ratio': 0.24896551724137933},\n",
       "  {'alpha': 75322.21397586247, 'l1_ratio': 0.2831034482758621},\n",
       "  {'alpha': 75322.21397586247, 'l1_ratio': 0.31724137931034485},\n",
       "  {'alpha': 75322.21397586247, 'l1_ratio': 0.3513793103448276},\n",
       "  {'alpha': 75322.21397586247, 'l1_ratio': 0.38551724137931037},\n",
       "  {'alpha': 75322.21397586247, 'l1_ratio': 0.41965517241379313},\n",
       "  {'alpha': 75322.21397586247, 'l1_ratio': 0.4537931034482759},\n",
       "  {'alpha': 75322.21397586247, 'l1_ratio': 0.48793103448275865},\n",
       "  {'alpha': 75322.21397586247, 'l1_ratio': 0.5220689655172415},\n",
       "  {'alpha': 75322.21397586247, 'l1_ratio': 0.5562068965517242},\n",
       "  {'alpha': 75322.21397586247, 'l1_ratio': 0.5903448275862069},\n",
       "  {'alpha': 75322.21397586247, 'l1_ratio': 0.6244827586206897},\n",
       "  {'alpha': 75322.21397586247, 'l1_ratio': 0.6586206896551725},\n",
       "  {'alpha': 75322.21397586247, 'l1_ratio': 0.6927586206896552},\n",
       "  {'alpha': 75322.21397586247, 'l1_ratio': 0.7268965517241379},\n",
       "  {'alpha': 75322.21397586247, 'l1_ratio': 0.7610344827586207},\n",
       "  {'alpha': 75322.21397586247, 'l1_ratio': 0.7951724137931035},\n",
       "  {'alpha': 75322.21397586247, 'l1_ratio': 0.8293103448275863},\n",
       "  {'alpha': 75322.21397586247, 'l1_ratio': 0.863448275862069},\n",
       "  {'alpha': 75322.21397586247, 'l1_ratio': 0.8975862068965518},\n",
       "  {'alpha': 75322.21397586247, 'l1_ratio': 0.9317241379310346},\n",
       "  {'alpha': 75322.21397586247, 'l1_ratio': 0.9658620689655173},\n",
       "  {'alpha': 75322.21397586247, 'l1_ratio': 1.0},\n",
       "  {'alpha': 135855.4054994556, 'l1_ratio': 0.01},\n",
       "  {'alpha': 135855.4054994556, 'l1_ratio': 0.04413793103448276},\n",
       "  {'alpha': 135855.4054994556, 'l1_ratio': 0.07827586206896552},\n",
       "  {'alpha': 135855.4054994556, 'l1_ratio': 0.11241379310344828},\n",
       "  {'alpha': 135855.4054994556, 'l1_ratio': 0.14655172413793105},\n",
       "  {'alpha': 135855.4054994556, 'l1_ratio': 0.1806896551724138},\n",
       "  {'alpha': 135855.4054994556, 'l1_ratio': 0.21482758620689657},\n",
       "  {'alpha': 135855.4054994556, 'l1_ratio': 0.24896551724137933},\n",
       "  {'alpha': 135855.4054994556, 'l1_ratio': 0.2831034482758621},\n",
       "  {'alpha': 135855.4054994556, 'l1_ratio': 0.31724137931034485},\n",
       "  {'alpha': 135855.4054994556, 'l1_ratio': 0.3513793103448276},\n",
       "  {'alpha': 135855.4054994556, 'l1_ratio': 0.38551724137931037},\n",
       "  {'alpha': 135855.4054994556, 'l1_ratio': 0.41965517241379313},\n",
       "  {'alpha': 135855.4054994556, 'l1_ratio': 0.4537931034482759},\n",
       "  {'alpha': 135855.4054994556, 'l1_ratio': 0.48793103448275865},\n",
       "  {'alpha': 135855.4054994556, 'l1_ratio': 0.5220689655172415},\n",
       "  {'alpha': 135855.4054994556, 'l1_ratio': 0.5562068965517242},\n",
       "  {'alpha': 135855.4054994556, 'l1_ratio': 0.5903448275862069},\n",
       "  {'alpha': 135855.4054994556, 'l1_ratio': 0.6244827586206897},\n",
       "  {'alpha': 135855.4054994556, 'l1_ratio': 0.6586206896551725},\n",
       "  {'alpha': 135855.4054994556, 'l1_ratio': 0.6927586206896552},\n",
       "  {'alpha': 135855.4054994556, 'l1_ratio': 0.7268965517241379},\n",
       "  {'alpha': 135855.4054994556, 'l1_ratio': 0.7610344827586207},\n",
       "  {'alpha': 135855.4054994556, 'l1_ratio': 0.7951724137931035},\n",
       "  {'alpha': 135855.4054994556, 'l1_ratio': 0.8293103448275863},\n",
       "  {'alpha': 135855.4054994556, 'l1_ratio': 0.863448275862069},\n",
       "  {'alpha': 135855.4054994556, 'l1_ratio': 0.8975862068965518},\n",
       "  {'alpha': 135855.4054994556, 'l1_ratio': 0.9317241379310346},\n",
       "  {'alpha': 135855.4054994556, 'l1_ratio': 0.9658620689655173},\n",
       "  {'alpha': 135855.4054994556, 'l1_ratio': 1.0},\n",
       "  {'alpha': 245036.49360779655, 'l1_ratio': 0.01},\n",
       "  {'alpha': 245036.49360779655, 'l1_ratio': 0.04413793103448276},\n",
       "  {'alpha': 245036.49360779655, 'l1_ratio': 0.07827586206896552},\n",
       "  {'alpha': 245036.49360779655, 'l1_ratio': 0.11241379310344828},\n",
       "  {'alpha': 245036.49360779655, 'l1_ratio': 0.14655172413793105},\n",
       "  {'alpha': 245036.49360779655, 'l1_ratio': 0.1806896551724138},\n",
       "  {'alpha': 245036.49360779655, 'l1_ratio': 0.21482758620689657},\n",
       "  {'alpha': 245036.49360779655, 'l1_ratio': 0.24896551724137933},\n",
       "  {'alpha': 245036.49360779655, 'l1_ratio': 0.2831034482758621},\n",
       "  {'alpha': 245036.49360779655, 'l1_ratio': 0.31724137931034485},\n",
       "  {'alpha': 245036.49360779655, 'l1_ratio': 0.3513793103448276},\n",
       "  {'alpha': 245036.49360779655, 'l1_ratio': 0.38551724137931037},\n",
       "  {'alpha': 245036.49360779655, 'l1_ratio': 0.41965517241379313},\n",
       "  {'alpha': 245036.49360779655, 'l1_ratio': 0.4537931034482759},\n",
       "  {'alpha': 245036.49360779655, 'l1_ratio': 0.48793103448275865},\n",
       "  {'alpha': 245036.49360779655, 'l1_ratio': 0.5220689655172415},\n",
       "  {'alpha': 245036.49360779655, 'l1_ratio': 0.5562068965517242},\n",
       "  {'alpha': 245036.49360779655, 'l1_ratio': 0.5903448275862069},\n",
       "  {'alpha': 245036.49360779655, 'l1_ratio': 0.6244827586206897},\n",
       "  {'alpha': 245036.49360779655, 'l1_ratio': 0.6586206896551725},\n",
       "  {'alpha': 245036.49360779655, 'l1_ratio': 0.6927586206896552},\n",
       "  {'alpha': 245036.49360779655, 'l1_ratio': 0.7268965517241379},\n",
       "  {'alpha': 245036.49360779655, 'l1_ratio': 0.7610344827586207},\n",
       "  {'alpha': 245036.49360779655, 'l1_ratio': 0.7951724137931035},\n",
       "  {'alpha': 245036.49360779655, 'l1_ratio': 0.8293103448275863},\n",
       "  {'alpha': 245036.49360779655, 'l1_ratio': 0.863448275862069},\n",
       "  {'alpha': 245036.49360779655, 'l1_ratio': 0.8975862068965518},\n",
       "  {'alpha': 245036.49360779655, 'l1_ratio': 0.9317241379310346},\n",
       "  {'alpha': 245036.49360779655, 'l1_ratio': 0.9658620689655173},\n",
       "  {'alpha': 245036.49360779655, 'l1_ratio': 1.0},\n",
       "  {'alpha': 441961.6796171166, 'l1_ratio': 0.01},\n",
       "  {'alpha': 441961.6796171166, 'l1_ratio': 0.04413793103448276},\n",
       "  {'alpha': 441961.6796171166, 'l1_ratio': 0.07827586206896552},\n",
       "  {'alpha': 441961.6796171166, 'l1_ratio': 0.11241379310344828},\n",
       "  {'alpha': 441961.6796171166, 'l1_ratio': 0.14655172413793105},\n",
       "  {'alpha': 441961.6796171166, 'l1_ratio': 0.1806896551724138},\n",
       "  {'alpha': 441961.6796171166, 'l1_ratio': 0.21482758620689657},\n",
       "  {'alpha': 441961.6796171166, 'l1_ratio': 0.24896551724137933},\n",
       "  {'alpha': 441961.6796171166, 'l1_ratio': 0.2831034482758621},\n",
       "  {'alpha': 441961.6796171166, 'l1_ratio': 0.31724137931034485},\n",
       "  {'alpha': 441961.6796171166, 'l1_ratio': 0.3513793103448276},\n",
       "  {'alpha': 441961.6796171166, 'l1_ratio': 0.38551724137931037},\n",
       "  {'alpha': 441961.6796171166, 'l1_ratio': 0.41965517241379313},\n",
       "  {'alpha': 441961.6796171166, 'l1_ratio': 0.4537931034482759},\n",
       "  {'alpha': 441961.6796171166, 'l1_ratio': 0.48793103448275865},\n",
       "  {'alpha': 441961.6796171166, 'l1_ratio': 0.5220689655172415},\n",
       "  {'alpha': 441961.6796171166, 'l1_ratio': 0.5562068965517242},\n",
       "  {'alpha': 441961.6796171166, 'l1_ratio': 0.5903448275862069},\n",
       "  {'alpha': 441961.6796171166, 'l1_ratio': 0.6244827586206897},\n",
       "  {'alpha': 441961.6796171166, 'l1_ratio': 0.6586206896551725},\n",
       "  {'alpha': 441961.6796171166, 'l1_ratio': 0.6927586206896552},\n",
       "  {'alpha': 441961.6796171166, 'l1_ratio': 0.7268965517241379},\n",
       "  {'alpha': 441961.6796171166, 'l1_ratio': 0.7610344827586207},\n",
       "  {'alpha': 441961.6796171166, 'l1_ratio': 0.7951724137931035},\n",
       "  {'alpha': 441961.6796171166, 'l1_ratio': 0.8293103448275863},\n",
       "  {'alpha': 441961.6796171166, 'l1_ratio': 0.863448275862069},\n",
       "  {'alpha': 441961.6796171166, 'l1_ratio': 0.8975862068965518},\n",
       "  {'alpha': 441961.6796171166, 'l1_ratio': 0.9317241379310346},\n",
       "  {'alpha': 441961.6796171166, 'l1_ratio': 0.9658620689655173},\n",
       "  {'alpha': 441961.6796171166, 'l1_ratio': 1.0},\n",
       "  {'alpha': 797147.0835794207, 'l1_ratio': 0.01},\n",
       "  {'alpha': 797147.0835794207, 'l1_ratio': 0.04413793103448276},\n",
       "  {'alpha': 797147.0835794207, 'l1_ratio': 0.07827586206896552},\n",
       "  {'alpha': 797147.0835794207, 'l1_ratio': 0.11241379310344828},\n",
       "  {'alpha': 797147.0835794207, 'l1_ratio': 0.14655172413793105},\n",
       "  {'alpha': 797147.0835794207, 'l1_ratio': 0.1806896551724138},\n",
       "  {'alpha': 797147.0835794207, 'l1_ratio': 0.21482758620689657},\n",
       "  {'alpha': 797147.0835794207, 'l1_ratio': 0.24896551724137933},\n",
       "  {'alpha': 797147.0835794207, 'l1_ratio': 0.2831034482758621},\n",
       "  {'alpha': 797147.0835794207, 'l1_ratio': 0.31724137931034485},\n",
       "  {'alpha': 797147.0835794207, 'l1_ratio': 0.3513793103448276},\n",
       "  {'alpha': 797147.0835794207, 'l1_ratio': 0.38551724137931037},\n",
       "  {'alpha': 797147.0835794207, 'l1_ratio': 0.41965517241379313},\n",
       "  {'alpha': 797147.0835794207, 'l1_ratio': 0.4537931034482759},\n",
       "  {'alpha': 797147.0835794207, 'l1_ratio': 0.48793103448275865},\n",
       "  {'alpha': 797147.0835794207, 'l1_ratio': 0.5220689655172415},\n",
       "  {'alpha': 797147.0835794207, 'l1_ratio': 0.5562068965517242},\n",
       "  {'alpha': 797147.0835794207, 'l1_ratio': 0.5903448275862069},\n",
       "  {'alpha': 797147.0835794207, 'l1_ratio': 0.6244827586206897},\n",
       "  {'alpha': 797147.0835794207, 'l1_ratio': 0.6586206896551725},\n",
       "  {'alpha': 797147.0835794207, 'l1_ratio': 0.6927586206896552},\n",
       "  {'alpha': 797147.0835794207, 'l1_ratio': 0.7268965517241379},\n",
       "  {'alpha': 797147.0835794207, 'l1_ratio': 0.7610344827586207},\n",
       "  {'alpha': 797147.0835794207, 'l1_ratio': 0.7951724137931035},\n",
       "  {'alpha': 797147.0835794207, 'l1_ratio': 0.8293103448275863},\n",
       "  {'alpha': 797147.0835794207, 'l1_ratio': 0.863448275862069},\n",
       "  {'alpha': 797147.0835794207, 'l1_ratio': 0.8975862068965518},\n",
       "  {'alpha': 797147.0835794207, 'l1_ratio': 0.9317241379310346},\n",
       "  {'alpha': 797147.0835794207, 'l1_ratio': 0.9658620689655173},\n",
       "  {'alpha': 797147.0835794207, 'l1_ratio': 1.0},\n",
       "  {'alpha': 1437779.5681509716, 'l1_ratio': 0.01},\n",
       "  {'alpha': 1437779.5681509716, 'l1_ratio': 0.04413793103448276},\n",
       "  {'alpha': 1437779.5681509716, 'l1_ratio': 0.07827586206896552},\n",
       "  {'alpha': 1437779.5681509716, 'l1_ratio': 0.11241379310344828},\n",
       "  {'alpha': 1437779.5681509716, 'l1_ratio': 0.14655172413793105},\n",
       "  {'alpha': 1437779.5681509716, 'l1_ratio': 0.1806896551724138},\n",
       "  {'alpha': 1437779.5681509716, 'l1_ratio': 0.21482758620689657},\n",
       "  {'alpha': 1437779.5681509716, 'l1_ratio': 0.24896551724137933},\n",
       "  {'alpha': 1437779.5681509716, 'l1_ratio': 0.2831034482758621},\n",
       "  {'alpha': 1437779.5681509716, 'l1_ratio': 0.31724137931034485},\n",
       "  {'alpha': 1437779.5681509716, 'l1_ratio': 0.3513793103448276},\n",
       "  {'alpha': 1437779.5681509716, 'l1_ratio': 0.38551724137931037},\n",
       "  {'alpha': 1437779.5681509716, 'l1_ratio': 0.41965517241379313},\n",
       "  {'alpha': 1437779.5681509716, 'l1_ratio': 0.4537931034482759},\n",
       "  {'alpha': 1437779.5681509716, 'l1_ratio': 0.48793103448275865},\n",
       "  {'alpha': 1437779.5681509716, 'l1_ratio': 0.5220689655172415},\n",
       "  {'alpha': 1437779.5681509716, 'l1_ratio': 0.5562068965517242},\n",
       "  {'alpha': 1437779.5681509716, 'l1_ratio': 0.5903448275862069},\n",
       "  {'alpha': 1437779.5681509716, 'l1_ratio': 0.6244827586206897},\n",
       "  {'alpha': 1437779.5681509716, 'l1_ratio': 0.6586206896551725},\n",
       "  {'alpha': 1437779.5681509716, 'l1_ratio': 0.6927586206896552},\n",
       "  {'alpha': 1437779.5681509716, 'l1_ratio': 0.7268965517241379},\n",
       "  {'alpha': 1437779.5681509716, 'l1_ratio': 0.7610344827586207},\n",
       "  {'alpha': 1437779.5681509716, 'l1_ratio': 0.7951724137931035},\n",
       "  {'alpha': 1437779.5681509716, 'l1_ratio': 0.8293103448275863},\n",
       "  {'alpha': 1437779.5681509716, 'l1_ratio': 0.863448275862069},\n",
       "  {'alpha': 1437779.5681509716, 'l1_ratio': 0.8975862068965518},\n",
       "  {'alpha': 1437779.5681509716, 'l1_ratio': 0.9317241379310346},\n",
       "  {'alpha': 1437779.5681509716, 'l1_ratio': 0.9658620689655173},\n",
       "  {'alpha': 1437779.5681509716, 'l1_ratio': 1.0},\n",
       "  {'alpha': 2593260.5527577465, 'l1_ratio': 0.01},\n",
       "  {'alpha': 2593260.5527577465, 'l1_ratio': 0.04413793103448276},\n",
       "  {'alpha': 2593260.5527577465, 'l1_ratio': 0.07827586206896552},\n",
       "  {'alpha': 2593260.5527577465, 'l1_ratio': 0.11241379310344828},\n",
       "  {'alpha': 2593260.5527577465, 'l1_ratio': 0.14655172413793105},\n",
       "  {'alpha': 2593260.5527577465, 'l1_ratio': 0.1806896551724138},\n",
       "  {'alpha': 2593260.5527577465, 'l1_ratio': 0.21482758620689657},\n",
       "  {'alpha': 2593260.5527577465, 'l1_ratio': 0.24896551724137933},\n",
       "  {'alpha': 2593260.5527577465, 'l1_ratio': 0.2831034482758621},\n",
       "  {'alpha': 2593260.5527577465, 'l1_ratio': 0.31724137931034485},\n",
       "  {'alpha': 2593260.5527577465, 'l1_ratio': 0.3513793103448276},\n",
       "  {'alpha': 2593260.5527577465, 'l1_ratio': 0.38551724137931037},\n",
       "  {'alpha': 2593260.5527577465, 'l1_ratio': 0.41965517241379313},\n",
       "  {'alpha': 2593260.5527577465, 'l1_ratio': 0.4537931034482759},\n",
       "  {'alpha': 2593260.5527577465, 'l1_ratio': 0.48793103448275865},\n",
       "  {'alpha': 2593260.5527577465, 'l1_ratio': 0.5220689655172415},\n",
       "  {'alpha': 2593260.5527577465, 'l1_ratio': 0.5562068965517242},\n",
       "  {'alpha': 2593260.5527577465, 'l1_ratio': 0.5903448275862069},\n",
       "  {'alpha': 2593260.5527577465, 'l1_ratio': 0.6244827586206897},\n",
       "  {'alpha': 2593260.5527577465, 'l1_ratio': 0.6586206896551725},\n",
       "  {'alpha': 2593260.5527577465, 'l1_ratio': 0.6927586206896552},\n",
       "  {'alpha': 2593260.5527577465, 'l1_ratio': 0.7268965517241379},\n",
       "  {'alpha': 2593260.5527577465, 'l1_ratio': 0.7610344827586207},\n",
       "  {'alpha': 2593260.5527577465, 'l1_ratio': 0.7951724137931035},\n",
       "  {'alpha': 2593260.5527577465, 'l1_ratio': 0.8293103448275863},\n",
       "  {'alpha': 2593260.5527577465, 'l1_ratio': 0.863448275862069},\n",
       "  {'alpha': 2593260.5527577465, 'l1_ratio': 0.8975862068965518},\n",
       "  {'alpha': 2593260.5527577465, 'l1_ratio': 0.9317241379310346},\n",
       "  {'alpha': 2593260.5527577465, 'l1_ratio': 0.9658620689655173},\n",
       "  {'alpha': 2593260.5527577465, 'l1_ratio': 1.0},\n",
       "  {'alpha': 4677351.412871981, 'l1_ratio': 0.01},\n",
       "  {'alpha': 4677351.412871981, 'l1_ratio': 0.04413793103448276},\n",
       "  {'alpha': 4677351.412871981, 'l1_ratio': 0.07827586206896552},\n",
       "  {'alpha': 4677351.412871981, 'l1_ratio': 0.11241379310344828},\n",
       "  {'alpha': 4677351.412871981, 'l1_ratio': 0.14655172413793105},\n",
       "  {'alpha': 4677351.412871981, 'l1_ratio': 0.1806896551724138},\n",
       "  {'alpha': 4677351.412871981, 'l1_ratio': 0.21482758620689657},\n",
       "  {'alpha': 4677351.412871981, 'l1_ratio': 0.24896551724137933},\n",
       "  {'alpha': 4677351.412871981, 'l1_ratio': 0.2831034482758621},\n",
       "  {'alpha': 4677351.412871981, 'l1_ratio': 0.31724137931034485},\n",
       "  {'alpha': 4677351.412871981, 'l1_ratio': 0.3513793103448276},\n",
       "  {'alpha': 4677351.412871981, 'l1_ratio': 0.38551724137931037},\n",
       "  {'alpha': 4677351.412871981, 'l1_ratio': 0.41965517241379313},\n",
       "  {'alpha': 4677351.412871981, 'l1_ratio': 0.4537931034482759},\n",
       "  {'alpha': 4677351.412871981, 'l1_ratio': 0.48793103448275865},\n",
       "  {'alpha': 4677351.412871981, 'l1_ratio': 0.5220689655172415},\n",
       "  {'alpha': 4677351.412871981, 'l1_ratio': 0.5562068965517242},\n",
       "  {'alpha': 4677351.412871981, 'l1_ratio': 0.5903448275862069},\n",
       "  {'alpha': 4677351.412871981, 'l1_ratio': 0.6244827586206897},\n",
       "  {'alpha': 4677351.412871981, 'l1_ratio': 0.6586206896551725},\n",
       "  {'alpha': 4677351.412871981, 'l1_ratio': 0.6927586206896552},\n",
       "  {'alpha': 4677351.412871981, 'l1_ratio': 0.7268965517241379},\n",
       "  {'alpha': 4677351.412871981, 'l1_ratio': 0.7610344827586207},\n",
       "  {'alpha': 4677351.412871981, 'l1_ratio': 0.7951724137931035},\n",
       "  {'alpha': 4677351.412871981, 'l1_ratio': 0.8293103448275863},\n",
       "  {'alpha': 4677351.412871981, 'l1_ratio': 0.863448275862069},\n",
       "  {'alpha': 4677351.412871981, 'l1_ratio': 0.8975862068965518},\n",
       "  {'alpha': 4677351.412871981, 'l1_ratio': 0.9317241379310346},\n",
       "  {'alpha': 4677351.412871981, 'l1_ratio': 0.9658620689655173},\n",
       "  {'alpha': 4677351.412871981, 'l1_ratio': 1.0},\n",
       "  {'alpha': 8436335.568452729, 'l1_ratio': 0.01},\n",
       "  {'alpha': 8436335.568452729, 'l1_ratio': 0.04413793103448276},\n",
       "  {'alpha': 8436335.568452729, 'l1_ratio': 0.07827586206896552},\n",
       "  {'alpha': 8436335.568452729, 'l1_ratio': 0.11241379310344828},\n",
       "  {'alpha': 8436335.568452729, 'l1_ratio': 0.14655172413793105},\n",
       "  {'alpha': 8436335.568452729, 'l1_ratio': 0.1806896551724138},\n",
       "  {'alpha': 8436335.568452729, 'l1_ratio': 0.21482758620689657},\n",
       "  {'alpha': 8436335.568452729, 'l1_ratio': 0.24896551724137933},\n",
       "  {'alpha': 8436335.568452729, 'l1_ratio': 0.2831034482758621},\n",
       "  {'alpha': 8436335.568452729, 'l1_ratio': 0.31724137931034485},\n",
       "  {'alpha': 8436335.568452729, 'l1_ratio': 0.3513793103448276},\n",
       "  {'alpha': 8436335.568452729, 'l1_ratio': 0.38551724137931037},\n",
       "  {'alpha': 8436335.568452729, 'l1_ratio': 0.41965517241379313},\n",
       "  {'alpha': 8436335.568452729, 'l1_ratio': 0.4537931034482759},\n",
       "  {'alpha': 8436335.568452729, 'l1_ratio': 0.48793103448275865},\n",
       "  {'alpha': 8436335.568452729, 'l1_ratio': 0.5220689655172415},\n",
       "  {'alpha': 8436335.568452729, 'l1_ratio': 0.5562068965517242},\n",
       "  {'alpha': 8436335.568452729, 'l1_ratio': 0.5903448275862069},\n",
       "  {'alpha': 8436335.568452729, 'l1_ratio': 0.6244827586206897},\n",
       "  {'alpha': 8436335.568452729, 'l1_ratio': 0.6586206896551725},\n",
       "  {'alpha': 8436335.568452729, 'l1_ratio': 0.6927586206896552},\n",
       "  {'alpha': 8436335.568452729, 'l1_ratio': 0.7268965517241379},\n",
       "  {'alpha': 8436335.568452729, 'l1_ratio': 0.7610344827586207},\n",
       "  {'alpha': 8436335.568452729, 'l1_ratio': 0.7951724137931035},\n",
       "  {'alpha': 8436335.568452729, 'l1_ratio': 0.8293103448275863},\n",
       "  {'alpha': 8436335.568452729, 'l1_ratio': 0.863448275862069},\n",
       "  {'alpha': 8436335.568452729, 'l1_ratio': 0.8975862068965518},\n",
       "  {'alpha': 8436335.568452729, 'l1_ratio': 0.9317241379310346},\n",
       "  {'alpha': 8436335.568452729, 'l1_ratio': 0.9658620689655173},\n",
       "  {'alpha': 8436335.568452729, 'l1_ratio': 1.0},\n",
       "  {'alpha': 15216252.006996349, 'l1_ratio': 0.01},\n",
       "  {'alpha': 15216252.006996349, 'l1_ratio': 0.04413793103448276},\n",
       "  {'alpha': 15216252.006996349, 'l1_ratio': 0.07827586206896552},\n",
       "  {'alpha': 15216252.006996349, 'l1_ratio': 0.11241379310344828},\n",
       "  {'alpha': 15216252.006996349, 'l1_ratio': 0.14655172413793105},\n",
       "  {'alpha': 15216252.006996349, 'l1_ratio': 0.1806896551724138},\n",
       "  {'alpha': 15216252.006996349, 'l1_ratio': 0.21482758620689657},\n",
       "  {'alpha': 15216252.006996349, 'l1_ratio': 0.24896551724137933},\n",
       "  {'alpha': 15216252.006996349, 'l1_ratio': 0.2831034482758621},\n",
       "  {'alpha': 15216252.006996349, 'l1_ratio': 0.31724137931034485},\n",
       "  {'alpha': 15216252.006996349, 'l1_ratio': 0.3513793103448276},\n",
       "  {'alpha': 15216252.006996349, 'l1_ratio': 0.38551724137931037},\n",
       "  {'alpha': 15216252.006996349, 'l1_ratio': 0.41965517241379313},\n",
       "  {'alpha': 15216252.006996349, 'l1_ratio': 0.4537931034482759},\n",
       "  {'alpha': 15216252.006996349, 'l1_ratio': 0.48793103448275865},\n",
       "  {'alpha': 15216252.006996349, 'l1_ratio': 0.5220689655172415},\n",
       "  {'alpha': 15216252.006996349, 'l1_ratio': 0.5562068965517242},\n",
       "  {'alpha': 15216252.006996349, 'l1_ratio': 0.5903448275862069},\n",
       "  {'alpha': 15216252.006996349, 'l1_ratio': 0.6244827586206897},\n",
       "  {'alpha': 15216252.006996349, 'l1_ratio': 0.6586206896551725},\n",
       "  {'alpha': 15216252.006996349, 'l1_ratio': 0.6927586206896552},\n",
       "  {'alpha': 15216252.006996349, 'l1_ratio': 0.7268965517241379},\n",
       "  {'alpha': 15216252.006996349, 'l1_ratio': 0.7610344827586207},\n",
       "  {'alpha': 15216252.006996349, 'l1_ratio': 0.7951724137931035},\n",
       "  {'alpha': 15216252.006996349, 'l1_ratio': 0.8293103448275863},\n",
       "  {'alpha': 15216252.006996349, 'l1_ratio': 0.863448275862069},\n",
       "  {'alpha': 15216252.006996349, 'l1_ratio': 0.8975862068965518},\n",
       "  {'alpha': 15216252.006996349, 'l1_ratio': 0.9317241379310346},\n",
       "  {'alpha': 15216252.006996349, 'l1_ratio': 0.9658620689655173},\n",
       "  {'alpha': 15216252.006996349, 'l1_ratio': 1.0},\n",
       "  {'alpha': 27444892.78096427, 'l1_ratio': 0.01},\n",
       "  {'alpha': 27444892.78096427, 'l1_ratio': 0.04413793103448276},\n",
       "  {'alpha': 27444892.78096427, 'l1_ratio': 0.07827586206896552},\n",
       "  {'alpha': 27444892.78096427, 'l1_ratio': 0.11241379310344828},\n",
       "  {'alpha': 27444892.78096427, 'l1_ratio': 0.14655172413793105},\n",
       "  {'alpha': 27444892.78096427, 'l1_ratio': 0.1806896551724138},\n",
       "  {'alpha': 27444892.78096427, 'l1_ratio': 0.21482758620689657},\n",
       "  {'alpha': 27444892.78096427, 'l1_ratio': 0.24896551724137933},\n",
       "  {'alpha': 27444892.78096427, 'l1_ratio': 0.2831034482758621},\n",
       "  {'alpha': 27444892.78096427, 'l1_ratio': 0.31724137931034485},\n",
       "  {'alpha': 27444892.78096427, 'l1_ratio': 0.3513793103448276},\n",
       "  {'alpha': 27444892.78096427, 'l1_ratio': 0.38551724137931037},\n",
       "  {'alpha': 27444892.78096427, 'l1_ratio': 0.41965517241379313},\n",
       "  {'alpha': 27444892.78096427, 'l1_ratio': 0.4537931034482759},\n",
       "  {'alpha': 27444892.78096427, 'l1_ratio': 0.48793103448275865},\n",
       "  {'alpha': 27444892.78096427, 'l1_ratio': 0.5220689655172415},\n",
       "  {'alpha': 27444892.78096427, 'l1_ratio': 0.5562068965517242},\n",
       "  {'alpha': 27444892.78096427, 'l1_ratio': 0.5903448275862069},\n",
       "  {'alpha': 27444892.78096427, 'l1_ratio': 0.6244827586206897},\n",
       "  {'alpha': 27444892.78096427, 'l1_ratio': 0.6586206896551725},\n",
       "  {'alpha': 27444892.78096427, 'l1_ratio': 0.6927586206896552},\n",
       "  {'alpha': 27444892.78096427, 'l1_ratio': 0.7268965517241379},\n",
       "  {'alpha': 27444892.78096427, 'l1_ratio': 0.7610344827586207},\n",
       "  {'alpha': 27444892.78096427, 'l1_ratio': 0.7951724137931035},\n",
       "  {'alpha': 27444892.78096427, 'l1_ratio': 0.8293103448275863},\n",
       "  {'alpha': 27444892.78096427, 'l1_ratio': 0.863448275862069},\n",
       "  {'alpha': 27444892.78096427, 'l1_ratio': 0.8975862068965518},\n",
       "  {'alpha': 27444892.78096427, 'l1_ratio': 0.9317241379310346},\n",
       "  {'alpha': 27444892.78096427, 'l1_ratio': 0.9658620689655173},\n",
       "  {'alpha': 27444892.78096427, 'l1_ratio': 1.0},\n",
       "  {'alpha': 49501160.95687025, 'l1_ratio': 0.01},\n",
       "  {'alpha': 49501160.95687025, 'l1_ratio': 0.04413793103448276},\n",
       "  {'alpha': 49501160.95687025, 'l1_ratio': 0.07827586206896552},\n",
       "  {'alpha': 49501160.95687025, 'l1_ratio': 0.11241379310344828},\n",
       "  {'alpha': 49501160.95687025, 'l1_ratio': 0.14655172413793105},\n",
       "  {'alpha': 49501160.95687025, 'l1_ratio': 0.1806896551724138},\n",
       "  {'alpha': 49501160.95687025, 'l1_ratio': 0.21482758620689657},\n",
       "  {'alpha': 49501160.95687025, 'l1_ratio': 0.24896551724137933},\n",
       "  {'alpha': 49501160.95687025, 'l1_ratio': 0.2831034482758621},\n",
       "  {'alpha': 49501160.95687025, 'l1_ratio': 0.31724137931034485},\n",
       "  {'alpha': 49501160.95687025, 'l1_ratio': 0.3513793103448276},\n",
       "  {'alpha': 49501160.95687025, 'l1_ratio': 0.38551724137931037},\n",
       "  {'alpha': 49501160.95687025, 'l1_ratio': 0.41965517241379313},\n",
       "  {'alpha': 49501160.95687025, 'l1_ratio': 0.4537931034482759},\n",
       "  {'alpha': 49501160.95687025, 'l1_ratio': 0.48793103448275865},\n",
       "  {'alpha': 49501160.95687025, 'l1_ratio': 0.5220689655172415},\n",
       "  {'alpha': 49501160.95687025, 'l1_ratio': 0.5562068965517242},\n",
       "  {'alpha': 49501160.95687025, 'l1_ratio': 0.5903448275862069},\n",
       "  {'alpha': 49501160.95687025, 'l1_ratio': 0.6244827586206897},\n",
       "  {'alpha': 49501160.95687025, 'l1_ratio': 0.6586206896551725},\n",
       "  {'alpha': 49501160.95687025, 'l1_ratio': 0.6927586206896552},\n",
       "  {'alpha': 49501160.95687025, 'l1_ratio': 0.7268965517241379},\n",
       "  {'alpha': 49501160.95687025, 'l1_ratio': 0.7610344827586207},\n",
       "  {'alpha': 49501160.95687025, 'l1_ratio': 0.7951724137931035},\n",
       "  {'alpha': 49501160.95687025, 'l1_ratio': 0.8293103448275863},\n",
       "  {'alpha': 49501160.95687025, 'l1_ratio': 0.863448275862069},\n",
       "  {'alpha': 49501160.95687025, 'l1_ratio': 0.8975862068965518},\n",
       "  {'alpha': 49501160.95687025, 'l1_ratio': 0.9317241379310346},\n",
       "  {'alpha': 49501160.95687025, 'l1_ratio': 0.9658620689655173},\n",
       "  {'alpha': 49501160.95687025, 'l1_ratio': 1.0},\n",
       "  {'alpha': 89283093.78484945, 'l1_ratio': 0.01},\n",
       "  {'alpha': 89283093.78484945, 'l1_ratio': 0.04413793103448276},\n",
       "  {'alpha': 89283093.78484945, 'l1_ratio': 0.07827586206896552},\n",
       "  {'alpha': 89283093.78484945, 'l1_ratio': 0.11241379310344828},\n",
       "  {'alpha': 89283093.78484945, 'l1_ratio': 0.14655172413793105},\n",
       "  {'alpha': 89283093.78484945, 'l1_ratio': 0.1806896551724138},\n",
       "  {'alpha': 89283093.78484945, 'l1_ratio': 0.21482758620689657},\n",
       "  {'alpha': 89283093.78484945, 'l1_ratio': 0.24896551724137933},\n",
       "  {'alpha': 89283093.78484945, 'l1_ratio': 0.2831034482758621},\n",
       "  {'alpha': 89283093.78484945, 'l1_ratio': 0.31724137931034485},\n",
       "  {'alpha': 89283093.78484945, 'l1_ratio': 0.3513793103448276},\n",
       "  {'alpha': 89283093.78484945, 'l1_ratio': 0.38551724137931037},\n",
       "  {'alpha': 89283093.78484945, 'l1_ratio': 0.41965517241379313},\n",
       "  {'alpha': 89283093.78484945, 'l1_ratio': 0.4537931034482759},\n",
       "  {'alpha': 89283093.78484945, 'l1_ratio': 0.48793103448275865},\n",
       "  {'alpha': 89283093.78484945, 'l1_ratio': 0.5220689655172415},\n",
       "  {'alpha': 89283093.78484945, 'l1_ratio': 0.5562068965517242},\n",
       "  {'alpha': 89283093.78484945, 'l1_ratio': 0.5903448275862069},\n",
       "  {'alpha': 89283093.78484945, 'l1_ratio': 0.6244827586206897},\n",
       "  {'alpha': 89283093.78484945, 'l1_ratio': 0.6586206896551725},\n",
       "  {'alpha': 89283093.78484945, 'l1_ratio': 0.6927586206896552},\n",
       "  {'alpha': 89283093.78484945, 'l1_ratio': 0.7268965517241379},\n",
       "  {'alpha': 89283093.78484945, 'l1_ratio': 0.7610344827586207},\n",
       "  {'alpha': 89283093.78484945, 'l1_ratio': 0.7951724137931035},\n",
       "  {'alpha': 89283093.78484945, 'l1_ratio': 0.8293103448275863},\n",
       "  {'alpha': 89283093.78484945, 'l1_ratio': 0.863448275862069},\n",
       "  {'alpha': 89283093.78484945, 'l1_ratio': 0.8975862068965518},\n",
       "  {'alpha': 89283093.78484945, 'l1_ratio': 0.9317241379310346},\n",
       "  {'alpha': 89283093.78484945, 'l1_ratio': 0.9658620689655173},\n",
       "  {'alpha': 89283093.78484945, 'l1_ratio': 1.0},\n",
       "  {'alpha': 161036037.9777692, 'l1_ratio': 0.01},\n",
       "  {'alpha': 161036037.9777692, 'l1_ratio': 0.04413793103448276},\n",
       "  {'alpha': 161036037.9777692, 'l1_ratio': 0.07827586206896552},\n",
       "  {'alpha': 161036037.9777692, 'l1_ratio': 0.11241379310344828},\n",
       "  {'alpha': 161036037.9777692, 'l1_ratio': 0.14655172413793105},\n",
       "  {'alpha': 161036037.9777692, 'l1_ratio': 0.1806896551724138},\n",
       "  {'alpha': 161036037.9777692, 'l1_ratio': 0.21482758620689657},\n",
       "  {'alpha': 161036037.9777692, 'l1_ratio': 0.24896551724137933},\n",
       "  {'alpha': 161036037.9777692, 'l1_ratio': 0.2831034482758621},\n",
       "  {'alpha': 161036037.9777692, 'l1_ratio': 0.31724137931034485},\n",
       "  {'alpha': 161036037.9777692, 'l1_ratio': 0.3513793103448276},\n",
       "  {'alpha': 161036037.9777692, 'l1_ratio': 0.38551724137931037},\n",
       "  {'alpha': 161036037.9777692, 'l1_ratio': 0.41965517241379313},\n",
       "  {'alpha': 161036037.9777692, 'l1_ratio': 0.4537931034482759},\n",
       "  {'alpha': 161036037.9777692, 'l1_ratio': 0.48793103448275865},\n",
       "  {'alpha': 161036037.9777692, 'l1_ratio': 0.5220689655172415},\n",
       "  {'alpha': 161036037.9777692, 'l1_ratio': 0.5562068965517242},\n",
       "  {'alpha': 161036037.9777692, 'l1_ratio': 0.5903448275862069},\n",
       "  {'alpha': 161036037.9777692, 'l1_ratio': 0.6244827586206897},\n",
       "  {'alpha': 161036037.9777692, 'l1_ratio': 0.6586206896551725},\n",
       "  {'alpha': 161036037.9777692, 'l1_ratio': 0.6927586206896552},\n",
       "  {'alpha': 161036037.9777692, 'l1_ratio': 0.7268965517241379},\n",
       "  {'alpha': 161036037.9777692, 'l1_ratio': 0.7610344827586207},\n",
       "  {'alpha': 161036037.9777692, 'l1_ratio': 0.7951724137931035},\n",
       "  {'alpha': 161036037.9777692, 'l1_ratio': 0.8293103448275863},\n",
       "  {'alpha': 161036037.9777692, 'l1_ratio': 0.863448275862069},\n",
       "  {'alpha': 161036037.9777692, 'l1_ratio': 0.8975862068965518},\n",
       "  {'alpha': 161036037.9777692, 'l1_ratio': 0.9317241379310346},\n",
       "  {'alpha': 161036037.9777692, 'l1_ratio': 0.9658620689655173},\n",
       "  {'alpha': 161036037.9777692, 'l1_ratio': 1.0},\n",
       "  {'alpha': 290453706.61178976, 'l1_ratio': 0.01},\n",
       "  {'alpha': 290453706.61178976, 'l1_ratio': 0.04413793103448276},\n",
       "  {'alpha': 290453706.61178976, 'l1_ratio': 0.07827586206896552},\n",
       "  {'alpha': 290453706.61178976, 'l1_ratio': 0.11241379310344828},\n",
       "  {'alpha': 290453706.61178976, 'l1_ratio': 0.14655172413793105},\n",
       "  {'alpha': 290453706.61178976, 'l1_ratio': 0.1806896551724138},\n",
       "  {'alpha': 290453706.61178976, 'l1_ratio': 0.21482758620689657},\n",
       "  {'alpha': 290453706.61178976, 'l1_ratio': 0.24896551724137933},\n",
       "  {'alpha': 290453706.61178976, 'l1_ratio': 0.2831034482758621},\n",
       "  {'alpha': 290453706.61178976, 'l1_ratio': 0.31724137931034485},\n",
       "  ...],\n",
       " 'split0_test_score': array([ 0.82442179,  0.82613219,  0.82784561, ..., -0.00216513,\n",
       "        -0.00216513, -0.00216513]),\n",
       " 'split1_test_score': array([ 8.03017859e-01,  8.04598827e-01,  8.06173921e-01, ...,\n",
       "        -2.88130974e-04, -2.88130974e-04, -2.88130974e-04]),\n",
       " 'split2_test_score': array([ 0.8218123 ,  0.82342609,  0.82503564, ..., -0.00119708,\n",
       "        -0.00119708, -0.00119708]),\n",
       " 'split3_test_score': array([ 0.79349815,  0.79494968,  0.79639114, ..., -0.0008824 ,\n",
       "        -0.0008824 , -0.0008824 ]),\n",
       " 'split4_test_score': array([ 0.74233412,  0.74222908,  0.74207505, ..., -0.00460927,\n",
       "        -0.00460927, -0.00460927]),\n",
       " 'mean_test_score': array([ 0.79701684,  0.79826717,  0.79950427, ..., -0.0018284 ,\n",
       "        -0.0018284 , -0.0018284 ]),\n",
       " 'std_test_score': array([0.02967975, 0.03033412, 0.03100765, ..., 0.0015174 , 0.0015174 ,\n",
       "        0.0015174 ]),\n",
       " 'rank_test_score': array([ 74,  72,  70, ..., 623, 623, 623], dtype=int32)}"
      ]
     },
     "execution_count": 37,
     "metadata": {},
     "output_type": "execute_result"
    }
   ],
   "source": [
    "en_gscv.cv_results_"
   ]
  },
  {
   "cell_type": "markdown",
   "id": "a2a2dbba-14a3-49fb-ace3-9dd5fdfcea93",
   "metadata": {},
   "source": [
    "### Searching for the best hyperparameters\n",
    "\n",
    "- Here, I decided to use GridSearch with ElasticNet as it was the regression model that produced the best results."
   ]
  },
  {
   "cell_type": "code",
   "execution_count": 38,
   "id": "646106d3-c35e-4e3f-906d-d41489e4d9a0",
   "metadata": {},
   "outputs": [],
   "source": [
    "param_grid = {\n",
    "    \"l1_ratio\": np.linspace(0.01,1,30),\n",
    "    \"alpha\": np.logspace(.01, 10, 40)}\n",
    "en = ElasticNet()\n",
    "en_gscv = GridSearchCV(en, param_grid=param_grid, verbose=1, cv=5, n_jobs=-1)"
   ]
  },
  {
   "cell_type": "code",
   "execution_count": 39,
   "id": "b2c1ea82-9b03-44b1-958a-4f8e9e863d19",
   "metadata": {},
   "outputs": [
    {
     "name": "stdout",
     "output_type": "stream",
     "text": [
      "Fitting 5 folds for each of 1200 candidates, totalling 6000 fits\n"
     ]
    }
   ],
   "source": [
    "resid_predict = en_gscv.fit(X_train, y_train).predict(X_train)"
   ]
  },
  {
   "cell_type": "code",
   "execution_count": 40,
   "id": "7890fff0-e8e7-40bf-a47d-c3550cfab869",
   "metadata": {},
   "outputs": [
    {
     "data": {
      "text/plain": [
       "{'alpha': 6.004288319960373, 'l1_ratio': 1.0}"
      ]
     },
     "execution_count": 40,
     "metadata": {},
     "output_type": "execute_result"
    }
   ],
   "source": [
    "en_gscv.best_params_"
   ]
  },
  {
   "cell_type": "code",
   "execution_count": 41,
   "id": "5cdb5138-ffd7-4ec4-8a25-e9fba1bf9024",
   "metadata": {},
   "outputs": [
    {
     "data": {
      "text/plain": [
       "0.8663653532431944"
      ]
     },
     "execution_count": 41,
     "metadata": {},
     "output_type": "execute_result"
    }
   ],
   "source": [
    "en_gscv.score(X_train, y_train)"
   ]
  },
  {
   "cell_type": "markdown",
   "id": "021c5c19-816e-4480-a2af-c29da822f98f",
   "metadata": {},
   "source": [
    "- From this, we can see a slight increase in scores. Furthermore, it seems like the L1 ratio of this ElasticNet is 1, suggesting that it is a Lasso regression. Hence, in the final model below, I will be using Lasso regression, which will also help to zero out some of the features."
   ]
  },
  {
   "cell_type": "markdown",
   "id": "d10891a0-c2b9-4f6e-ae8f-9a08a483e4f1",
   "metadata": {
    "tags": []
   },
   "source": [
    "#### Summary of the train-test scores and RMSE "
   ]
  },
  {
   "cell_type": "markdown",
   "id": "09c04aea-cfaf-459c-b164-ee0e28084336",
   "metadata": {},
   "source": [
    "| Model      | Train score | Test score | Train RMSE | Test RMSE |\n",
    "|------------|-------------|------------|------------|-----------|\n",
    "| LR         | .866        | .808       | 29155.044  | 34373.605 |\n",
    "| Ridge      | .866        | .817       | 29163.091  | 33604.007 |\n",
    "| Lasso      | .861        | .813       | 29666.741  | 33850.437 |\n",
    "| ElasticNet | .859        | .818       | 29992.959  | 33594.587 |"
   ]
  },
  {
   "cell_type": "markdown",
   "id": "5e2ea088-0b1b-4806-9be4-2733688e0d9c",
   "metadata": {},
   "source": [
    "After making the respective submissions on Kaggle, turns out our ElasticNet model returned with the best score in predicting house prices as well. However, like the table above, the scores did not differ significantly from other models. \n",
    "\n",
    "Since the scores do not differ too much from each other, I decided to use Lasso regression as the final model as it does help to cut down on the features, further reducing any potential noise. The  RMSE score on Kaggle is 24978.04."
   ]
  },
  {
   "cell_type": "markdown",
   "id": "8c54940d-bbd8-4c5c-89c6-aa218fcf3f7d",
   "metadata": {},
   "source": [
    "### Fitting model on entire training dataset"
   ]
  },
  {
   "cell_type": "code",
   "execution_count": 42,
   "id": "f55094ec-d338-40e5-b18a-f65aaadfe7e6",
   "metadata": {},
   "outputs": [
    {
     "data": {
      "text/plain": [
       "0.8642166284098514"
      ]
     },
     "execution_count": 42,
     "metadata": {},
     "output_type": "execute_result"
    }
   ],
   "source": [
    "# Refit model on entire training dataset\n",
    "X_scaled = ss.fit_transform(X)\n",
    "lasso = LassoCV()\n",
    "lasso.fit(X_scaled, y)\n",
    "lasso.score(X_scaled,y)"
   ]
  },
  {
   "cell_type": "code",
   "execution_count": 43,
   "id": "385e6181-b5f1-4916-87f1-3ad56d3372b5",
   "metadata": {},
   "outputs": [
    {
     "name": "stdout",
     "output_type": "stream",
     "text": [
      "Total Features before Lasso regression: 85\n",
      "Features Zeroed by Lasso regression: 35\n",
      "Features Remaining after Lasso regression: 50\n"
     ]
    }
   ],
   "source": [
    "# Remaining features after zeroing by lasso regression\n",
    "print('Total Features before Lasso regression:', len(features))\n",
    "print('Features Zeroed by Lasso regression:', len(lasso.coef_[lasso.coef_ == 0]))\n",
    "print('Features Remaining after Lasso regression:', len(features) - len(lasso.coef_[lasso.coef_ == 0]))"
   ]
  },
  {
   "cell_type": "code",
   "execution_count": 44,
   "id": "9aa96762-0c7d-49b0-b8d9-49f32a18f29b",
   "metadata": {},
   "outputs": [],
   "source": [
    "final_test_scaled = ss.transform(test_data)"
   ]
  },
  {
   "cell_type": "code",
   "execution_count": 45,
   "id": "bae5a51e-4926-4406-b5d2-f4dddad43b24",
   "metadata": {},
   "outputs": [],
   "source": [
    "final_predictions = lasso.predict(final_test_scaled)"
   ]
  },
  {
   "cell_type": "code",
   "execution_count": 46,
   "id": "04dc178a-9119-4796-9965-9fd25f029d50",
   "metadata": {},
   "outputs": [],
   "source": [
    "test_data['SalePrice'] = final_predictions"
   ]
  },
  {
   "cell_type": "code",
   "execution_count": 47,
   "id": "363d6807-0b88-4ce8-9ca7-f5c47b576b2c",
   "metadata": {},
   "outputs": [],
   "source": [
    "test_data['Id'] = test_ids"
   ]
  },
  {
   "cell_type": "code",
   "execution_count": 48,
   "id": "68bde2e6-f835-4b98-b296-42309e7eca7c",
   "metadata": {},
   "outputs": [
    {
     "data": {
      "text/html": [
       "<div>\n",
       "<style scoped>\n",
       "    .dataframe tbody tr th:only-of-type {\n",
       "        vertical-align: middle;\n",
       "    }\n",
       "\n",
       "    .dataframe tbody tr th {\n",
       "        vertical-align: top;\n",
       "    }\n",
       "\n",
       "    .dataframe thead th {\n",
       "        text-align: right;\n",
       "    }\n",
       "</style>\n",
       "<table border=\"1\" class=\"dataframe\">\n",
       "  <thead>\n",
       "    <tr style=\"text-align: right;\">\n",
       "      <th></th>\n",
       "      <th>Id</th>\n",
       "      <th>SalePrice</th>\n",
       "    </tr>\n",
       "  </thead>\n",
       "  <tbody>\n",
       "    <tr>\n",
       "      <th>0</th>\n",
       "      <td>2658</td>\n",
       "      <td>136752.594072</td>\n",
       "    </tr>\n",
       "    <tr>\n",
       "      <th>1</th>\n",
       "      <td>2718</td>\n",
       "      <td>168332.693236</td>\n",
       "    </tr>\n",
       "    <tr>\n",
       "      <th>2</th>\n",
       "      <td>2414</td>\n",
       "      <td>218399.571508</td>\n",
       "    </tr>\n",
       "    <tr>\n",
       "      <th>3</th>\n",
       "      <td>1989</td>\n",
       "      <td>102948.182203</td>\n",
       "    </tr>\n",
       "    <tr>\n",
       "      <th>4</th>\n",
       "      <td>625</td>\n",
       "      <td>199475.758802</td>\n",
       "    </tr>\n",
       "  </tbody>\n",
       "</table>\n",
       "</div>"
      ],
      "text/plain": [
       "     Id      SalePrice\n",
       "0  2658  136752.594072\n",
       "1  2718  168332.693236\n",
       "2  2414  218399.571508\n",
       "3  1989  102948.182203\n",
       "4   625  199475.758802"
      ]
     },
     "execution_count": 48,
     "metadata": {},
     "output_type": "execute_result"
    }
   ],
   "source": [
    "# Create csv for submission\n",
    "submission = test_data[['Id','SalePrice']]\n",
    "submission.to_csv('./datasets/lasso_ksubmission.csv', index=True)\n",
    "\n",
    "#View submission\n",
    "submission.head()"
   ]
  },
  {
   "cell_type": "markdown",
   "id": "6c8725df-aaf1-45f1-bbe9-77328ac7512a",
   "metadata": {},
   "source": [
    "## Conclusion and Recommendations"
   ]
  },
  {
   "cell_type": "markdown",
   "id": "99c38936-a9f1-41fc-828a-68c335d4383e",
   "metadata": {},
   "source": [
    "To conclude, I used the Lasso regression model as the final model to provide a more efficient and accurate service for realtors to predict the future sale prices of houses in Ames, Iowa. \n",
    "- In this model, 85 features were included in the model and 35 features were zeroed out by Lasso regression, which leaves a total of 50 features.\n",
    "\n",
    "Here is the list of main features that were included: \n",
    "- Lot Frontage, Lot Area, Overall Cond, Year Remod/Add, Mas Vnr Area, Exter Cond, Bsmt Qual, Bsmt Exposure, BsmtFin SF 1, BsmtFin SF 2, Bsmt Unf SF, Low Qual Fin SF, Gr Liv Area, Bedroom AbvGr, Kitchen AbvGr, Fireplace Qu, Garage Finish, Garage Area, Wood Deck SF, Open Porch SF, Enclosed Porch, 3Ssn Porch, Screen Porch, Pool Area, Misc Val, Mo Sold, TotalBathroom, isNew, Exterior 1st, Exterior 2nd, Foundation, MS SubClass, Neighborhood. \n",
    "    \n",
    "According to the barplot below, the sqfeet of above grade (ground) living area (Gr Liv Area), selected neighborhoods (Neighborhood_NridgHt and Neighborhood_StoneBr), height of basement (Bsmt Qual), and the size of the garage (Garage Area) are the top few housing features that could predict higher sale prices. \n",
    "\n",
    "Moreover, I tried to include these 30 features into the main model, but the RMSE scores did not change significantly (refer to Appendix below for model scores). As such, the final model used is still the Lasso regression model. "
   ]
  },
  {
   "cell_type": "code",
   "execution_count": 49,
   "id": "f1c84be9-9758-4925-8c03-4d04c924cc90",
   "metadata": {},
   "outputs": [
    {
     "data": {
      "image/png": "[encoded data removed]",
      "text/plain": [
       "<Figure size 1200x1000 with 1 Axes>"
      ]
     },
     "metadata": {},
     "output_type": "display_data"
    }
   ],
   "source": [
    "# Create dataframe of features, coefficients and absolute coefficients\n",
    "lasso_df = pd.DataFrame(columns=['Feature', 'Coef', 'Abs Coef'])\n",
    "lasso_df['Abs Coef'] = abs(lasso.coef_)\n",
    "lasso_df['Coef'] = lasso.coef_\n",
    "lasso_df['Feature'] = features\n",
    "\n",
    "# Plot top 30 features (sorted by absolute regression coefficient)\n",
    "plt.figure(figsize=(12,10))\n",
    "data = lasso_df.sort_values(by='Abs Coef', ascending=False).head(30)[['Feature', 'Coef']] \\\n",
    "               .sort_values(by='Coef', ascending=False).reset_index(drop=True)\n",
    "    \n",
    "ax = sns.barplot(data=data, y='Feature', x='Coef', orient='h', palette='Spectral')\n",
    "ax.set_ylabel('')\n",
    "ax.set_yticklabels(data['Feature'], size=11)\n",
    "ax.set_xlabel('Lasso Regression Coefficient', fontsize=14)\n",
    "plt.title('Top 30 Housing Features', fontsize=20);"
   ]
  },
  {
   "cell_type": "markdown",
   "id": "28be2d29-7e2e-4137-8d21-7cc04ee2994f",
   "metadata": {},
   "source": [
    "## Recommendations"
   ]
  },
  {
   "cell_type": "markdown",
   "id": "33f94921-e9f3-404c-8b60-07aa423d9709",
   "metadata": {},
   "source": [
    "This model will help realtors make better recommendations to others. For example, sellers will be able to know which features to highlight when thinking about selling their house. Realtors will be able to create better proposals that allow them to sell property at current pricings and not undersell their property. Similarly, realtors can help prevent buyers from overpaying and perhaps look for better deals. \n",
    "\n",
    "More specifically, I would also recommend realtors to ask their clients to do invest in houses that have a higher above grade living area, be in a better neighborhood (specifically North Ridge or Stone Bridge), have a basement with higher ceilings, or bigger garage area. If the clients are buyers, they should also think about these features before buying so it can help them to earn more profits if they were to sell in the future. "
   ]
  },
  {
   "cell_type": "markdown",
   "id": "ce23863e-bf7a-4a21-863a-b8665cea6d30",
   "metadata": {},
   "source": [
    "## Limitations and Future Considerations"
   ]
  },
  {
   "cell_type": "markdown",
   "id": "dec91596-5c79-4a18-b706-718df733f5fc",
   "metadata": {},
   "source": [
    "These are the limitations and possible solutions related to the dataset:\n",
    "\n",
    "- Data was collected between 2006-2010, which is more than a decade old. To build an even more accurate model, it would be better to gather new data so as to create a more effective model. This would take into account inflation over the past decade.\n",
    "\n",
    "- The current model can only be applied to houses in Ames, Iowa, and not be generalized to other cities or states in the US. Perhaps collecting data from neighboring cities would be useful to see if the results hold.\n",
    "\n",
    "These are the limitations and possible solutions related to the model: \n",
    "\n",
    "- The usage of other methods to eliminate features. Perhaps future work could examine other approaches that can also reduce dimentionality (e.g., principal compoenent analysis). \n",
    "\n",
    "- One of the cons of the current model is that it included outliers. I did attempt to exclude outliers from the model, but it did not increase the scores significantly. However, after collecting more data, it would be good to re-examine if outliers would influence the model. "
   ]
  },
  {
   "cell_type": "markdown",
   "id": "0422f29f-79e1-43d9-b413-58affa5488af",
   "metadata": {},
   "source": [
    "## Appendix\n",
    "- The section below shows that when I use the top 30 features, the scores do not improve significantly. I used the ElasticNet regression model to examine the scores."
   ]
  },
  {
   "cell_type": "code",
   "execution_count": 50,
   "id": "edbb08ec-bd29-4e9f-8472-af1623715ec0",
   "metadata": {},
   "outputs": [],
   "source": [
    "# choosing top 30 features based on enet regerssion coefficient \n",
    "new_train_data = train_data[['Gr Liv Area', 'Neighborhood_NridgHt', 'Bsmt Qual', 'Neighborhood_StoneBr', 'Garage Area', 'TotalBathroom', 'BsmtFin SF 1', 'Fireplace Qu', 'Mas Vnr Area', 'Bsmt Exposure', 'Neighborhood_NoRidge', 'Overall Cond', 'Year Remod/Add', 'Screen Porch', 'MS SubClass_20', 'Bsmt Unf SF', 'Foundation_PConc', 'Garage Finish', 'Exterior 1st_CemntBd', 'Lot Area', 'Exterior 1st_BrkFace', 'isNew', 'Neighborhood_Gilbert', 'MS SubClass_120', 'Neighborhood_OldTown', 'Neighborhood_NAmes', 'Neighborhood_MeadowV', 'MS SubClass_160', 'Neighborhood_Edwards', 'Misc Val', 'SalePrice']]\n",
    "new_test_data = test_data[['Gr Liv Area', 'Neighborhood_NridgHt', 'Bsmt Qual', 'Neighborhood_StoneBr', 'Garage Area', 'TotalBathroom', 'BsmtFin SF 1', 'Fireplace Qu', 'Mas Vnr Area', 'Bsmt Exposure', 'Neighborhood_NoRidge', 'Overall Cond', 'Year Remod/Add', 'Screen Porch', 'MS SubClass_20', 'Bsmt Unf SF', 'Foundation_PConc', 'Garage Finish', 'Exterior 1st_CemntBd', 'Lot Area', 'Exterior 1st_BrkFace', 'isNew', 'Neighborhood_Gilbert', 'MS SubClass_120', 'Neighborhood_OldTown', 'Neighborhood_NAmes', 'Neighborhood_MeadowV', 'MS SubClass_160', 'Neighborhood_Edwards', 'Misc Val']]\n",
    "                             \n",
    "                                             "
   ]
  },
  {
   "cell_type": "code",
   "execution_count": 51,
   "id": "e04cd5fc-c996-4993-afe9-6dd8dac14eef",
   "metadata": {},
   "outputs": [],
   "source": [
    "features = [col for col in new_train_data._get_numeric_data().columns if col !='SalePrice']\n",
    "features\n",
    "X_1 = new_train_data[features]\n",
    "y_1 = new_train_data['SalePrice']"
   ]
  },
  {
   "cell_type": "code",
   "execution_count": 52,
   "id": "082fee7b-4e7b-47e6-b05a-5dad4f8a38ab",
   "metadata": {},
   "outputs": [],
   "source": [
    "X_train_1, X_test_1, y_train_1, y_test_1 = train_test_split(X_1, y_1, test_size=0.2, random_state=42)"
   ]
  },
  {
   "cell_type": "code",
   "execution_count": 53,
   "id": "f9882e0f-6e8f-4991-9e46-ad5922c3d57e",
   "metadata": {},
   "outputs": [],
   "source": [
    "ss = StandardScaler()\n",
    "ss.fit(X_train_1)\n",
    "\n",
    "X_train_sc1 = ss.transform(X_train_1)\n",
    "X_test_sc1 = ss.transform(X_test_1)"
   ]
  },
  {
   "cell_type": "code",
   "execution_count": 54,
   "id": "17afdb95-b0db-41f4-bdc4-d7d9a75b3341",
   "metadata": {},
   "outputs": [],
   "source": [
    "# set up a list of alphas to check\n",
    "\n",
    "enet_alphas = np.arange(0.01, 1.0, 0.005)\n",
    "enet_ratio = 0.5\n",
    "\n",
    "# instantiate model\n",
    "enet = ElasticNetCV(alphas=enet_alphas, l1_ratio=enet_ratio, cv=5, max_iter=5_000)\n",
    "\n",
    "# fit model using optimal alphas\n",
    "enet = enet.fit(X_train_sc1, y_train_1)"
   ]
  },
  {
   "cell_type": "code",
   "execution_count": 55,
   "id": "28a1655d-1904-4e92-8917-718c01ca8989",
   "metadata": {},
   "outputs": [
    {
     "data": {
      "text/plain": [
       "0.31499999999999995"
      ]
     },
     "execution_count": 55,
     "metadata": {},
     "output_type": "execute_result"
    }
   ],
   "source": [
    "# here is the optimal value of alpha\n",
    "enet_optimal_alpha_1 = enet.alpha_\n",
    "enet_optimal_alpha_1"
   ]
  },
  {
   "cell_type": "code",
   "execution_count": 56,
   "id": "20fe42af-f056-4543-be8a-f27e8a05967a",
   "metadata": {},
   "outputs": [
    {
     "data": {
      "text/html": [
       "<style>#sk-container-id-5 {color: black;background-color: white;}#sk-container-id-5 pre{padding: 0;}#sk-container-id-5 div.sk-toggleable {background-color: white;}#sk-container-id-5 label.sk-toggleable__label {cursor: pointer;display: block;width: 100%;margin-bottom: 0;padding: 0.3em;box-sizing: border-box;text-align: center;}#sk-container-id-5 label.sk-toggleable__label-arrow:before {content: \"▸\";float: left;margin-right: 0.25em;color: #696969;}#sk-container-id-5 label.sk-toggleable__label-arrow:hover:before {color: black;}#sk-container-id-5 div.sk-estimator:hover label.sk-toggleable__label-arrow:before {color: black;}#sk-container-id-5 div.sk-toggleable__content {max-height: 0;max-width: 0;overflow: hidden;text-align: left;background-color: #f0f8ff;}#sk-container-id-5 div.sk-toggleable__content pre {margin: 0.2em;color: black;border-radius: 0.25em;background-color: #f0f8ff;}#sk-container-id-5 input.sk-toggleable__control:checked~div.sk-toggleable__content {max-height: 200px;max-width: 100%;overflow: auto;}#sk-container-id-5 input.sk-toggleable__control:checked~label.sk-toggleable__label-arrow:before {content: \"▾\";}#sk-container-id-5 div.sk-estimator input.sk-toggleable__control:checked~label.sk-toggleable__label {background-color: #d4ebff;}#sk-container-id-5 div.sk-label input.sk-toggleable__control:checked~label.sk-toggleable__label {background-color: #d4ebff;}#sk-container-id-5 input.sk-hidden--visually {border: 0;clip: rect(1px 1px 1px 1px);clip: rect(1px, 1px, 1px, 1px);height: 1px;margin: -1px;overflow: hidden;padding: 0;position: absolute;width: 1px;}#sk-container-id-5 div.sk-estimator {font-family: monospace;background-color: #f0f8ff;border: 1px dotted black;border-radius: 0.25em;box-sizing: border-box;margin-bottom: 0.5em;}#sk-container-id-5 div.sk-estimator:hover {background-color: #d4ebff;}#sk-container-id-5 div.sk-parallel-item::after {content: \"\";width: 100%;border-bottom: 1px solid gray;flex-grow: 1;}#sk-container-id-5 div.sk-label:hover label.sk-toggleable__label {background-color: #d4ebff;}#sk-container-id-5 div.sk-serial::before {content: \"\";position: absolute;border-left: 1px solid gray;box-sizing: border-box;top: 0;bottom: 0;left: 50%;z-index: 0;}#sk-container-id-5 div.sk-serial {display: flex;flex-direction: column;align-items: center;background-color: white;padding-right: 0.2em;padding-left: 0.2em;position: relative;}#sk-container-id-5 div.sk-item {position: relative;z-index: 1;}#sk-container-id-5 div.sk-parallel {display: flex;align-items: stretch;justify-content: center;background-color: white;position: relative;}#sk-container-id-5 div.sk-item::before, #sk-container-id-5 div.sk-parallel-item::before {content: \"\";position: absolute;border-left: 1px solid gray;box-sizing: border-box;top: 0;bottom: 0;left: 50%;z-index: -1;}#sk-container-id-5 div.sk-parallel-item {display: flex;flex-direction: column;z-index: 1;position: relative;background-color: white;}#sk-container-id-5 div.sk-parallel-item:first-child::after {align-self: flex-end;width: 50%;}#sk-container-id-5 div.sk-parallel-item:last-child::after {align-self: flex-start;width: 50%;}#sk-container-id-5 div.sk-parallel-item:only-child::after {width: 0;}#sk-container-id-5 div.sk-dashed-wrapped {border: 1px dashed gray;margin: 0 0.4em 0.5em 0.4em;box-sizing: border-box;padding-bottom: 0.4em;background-color: white;}#sk-container-id-5 div.sk-label label {font-family: monospace;font-weight: bold;display: inline-block;line-height: 1.2em;}#sk-container-id-5 div.sk-label-container {text-align: center;}#sk-container-id-5 div.sk-container {/* jupyter's `normalize.less` sets `[hidden] { display: none; }` but bootstrap.min.css set `[hidden] { display: none !important; }` so we also need the `!important` here to be able to override the default hidden behavior on the sphinx rendered scikit-learn.org. See: https://github.com/scikit-learn/scikit-learn/issues/21755 */display: inline-block !important;position: relative;}#sk-container-id-5 div.sk-text-repr-fallback {display: none;}</style><div id=\"sk-container-id-5\" class=\"sk-top-container\"><div class=\"sk-text-repr-fallback\"><pre>ElasticNet(alpha=0.31499999999999995)</pre><b>In a Jupyter environment, please rerun this cell to show the HTML representation or trust the notebook. <br />On GitHub, the HTML representation is unable to render, please try loading this page with nbviewer.org.</b></div><div class=\"sk-container\" hidden><div class=\"sk-item\"><div class=\"sk-estimator sk-toggleable\"><input class=\"sk-toggleable__control sk-hidden--visually\" id=\"sk-estimator-id-5\" type=\"checkbox\" checked><label for=\"sk-estimator-id-5\" class=\"sk-toggleable__label sk-toggleable__label-arrow\">ElasticNet</label><div class=\"sk-toggleable__content\"><pre>ElasticNet(alpha=0.31499999999999995)</pre></div></div></div></div></div>"
      ],
      "text/plain": [
       "ElasticNet(alpha=0.31499999999999995)"
      ]
     },
     "execution_count": 56,
     "metadata": {},
     "output_type": "execute_result"
    }
   ],
   "source": [
    "# Create new enet model with optimal alpha and fit to training data\n",
    "\n",
    "enet1 = ElasticNet(alpha=enet_optimal_alpha_1)\n",
    "enet1.fit(X_train_sc1, y_train_1)"
   ]
  },
  {
   "cell_type": "code",
   "execution_count": 57,
   "id": "b20c9899-0299-465b-84f4-ec46309a1389",
   "metadata": {},
   "outputs": [
    {
     "data": {
      "text/plain": [
       "0.8201331074263749"
      ]
     },
     "execution_count": 57,
     "metadata": {},
     "output_type": "execute_result"
    }
   ],
   "source": [
    "# new cross val scores \n",
    "\n",
    "enet_cv_scores1 = cross_val_score(enet1,X_train_sc1,y_train_1,cv=5)\n",
    "enet_cv_scores1.mean()"
   ]
  },
  {
   "cell_type": "code",
   "execution_count": 58,
   "id": "d8c62b93-f7d9-4816-b2ac-d4819a98a5b2",
   "metadata": {},
   "outputs": [
    {
     "data": {
      "text/plain": [
       "33383.235939774415"
      ]
     },
     "execution_count": 58,
     "metadata": {},
     "output_type": "execute_result"
    }
   ],
   "source": [
    "enet_cv_mse_scores1 = -cross_val_score(enet1,X_train_sc1,y_train_1,cv=5, scoring ='neg_mean_squared_error')\n",
    "np.sqrt(enet_cv_mse_scores1.mean())"
   ]
  },
  {
   "cell_type": "code",
   "execution_count": 59,
   "id": "221344d5-89fb-4f4a-86a5-b4390109aa9e",
   "metadata": {},
   "outputs": [
    {
     "name": "stdout",
     "output_type": "stream",
     "text": [
      "Training R2(ElasticNet): 0.847316401846411\n",
      "Testing R2(ElasticNet): 0.8809485442564251\n",
      "Estimate of Testing R2(ElasticNet):  0.8201331074263749\n"
     ]
    }
   ],
   "source": [
    "# check the R^2 on the training and testing sets, and the cv score from above\n",
    "\n",
    "print('Training R2(ElasticNet):', enet1.score(X_train_sc1,y_train_1))\n",
    "print('Testing R2(ElasticNet):', enet1.score(X_test_sc1,y_test_1))\n",
    "print('Estimate of Testing R2(ElasticNet): ', enet_cv_scores1.mean())"
   ]
  },
  {
   "cell_type": "code",
   "execution_count": 60,
   "id": "3cc0af4f-d583-4a63-bed7-26a3e6c396e8",
   "metadata": {},
   "outputs": [
    {
     "name": "stdout",
     "output_type": "stream",
     "text": [
      "Training MSE(ElasticNet): 31169.572430993885\n",
      "Testing MSE(ElasticNet): 26595.978434110682\n",
      "Estimate of Testing RMSE(ElasticNet): 33383.235939774415\n"
     ]
    }
   ],
   "source": [
    "# check the MSE on the training and testing sets\n",
    "\n",
    "print('Training MSE(ElasticNet):', np.sqrt(mean_squared_error(y_train_1, enet.predict(X_train_sc1))))\n",
    "print('Testing MSE(ElasticNet):', np.sqrt(mean_squared_error(y_test_1, enet.predict(X_test_sc1))))\n",
    "print('Estimate of Testing RMSE(ElasticNet):', np.sqrt(enet_cv_mse_scores1.mean()))"
   ]
  }
 ],
 "metadata": {
  "kernelspec": {
   "display_name": "Python 3 (ipykernel)",
   "language": "python",
   "name": "python3"
  },
  "language_info": {
   "codemirror_mode": {
    "name": "ipython",
    "version": 3
   },
   "file_extension": ".py",
   "mimetype": "text/x-python",
   "name": "python",
   "nbconvert_exporter": "python",
   "pygments_lexer": "ipython3",
   "version": "3.8.13"
  }
 },
 "nbformat": 4,
 "nbformat_minor": 5
}
