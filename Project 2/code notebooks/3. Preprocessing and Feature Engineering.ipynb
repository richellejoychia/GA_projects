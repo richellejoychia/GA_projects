{
 "cells": [
  {
   "cell_type": "markdown",
   "id": "18df8e69-b5ff-4857-a5d2-e1b6506b62dd",
   "metadata": {},
   "source": [
    "# Project 2: Helping realtors to predict sale prices in Ames \n",
    "\n",
    "Done by: Richelle-Joy Chia, data scientist and realtor at MyProperty\n",
    "\n",
    "Problem statement: How can we help realtors effectively and efficiently predict the market value of houses in Ames, Iowa?"
   ]
  },
  {
   "cell_type": "markdown",
   "id": "9937e6cb-f4e0-4e83-857e-a74ca8dbcde4",
   "metadata": {},
   "source": [
    "## Part 3: Preprocessing and Feature Engineering"
   ]
  },
  {
   "cell_type": "code",
   "execution_count": 1,
   "id": "96ad6201-0415-410a-945e-93a280f6dbdc",
   "metadata": {},
   "outputs": [],
   "source": [
    "# import relevant libraries \n",
    "\n",
    "import pandas as pd\n",
    "import numpy as np\n",
    "import scipy.stats as stats\n",
    "from itertools import combinations\n",
    "from sklearn.linear_model import Ridge, Lasso, ElasticNet, LinearRegression, RidgeCV, LassoCV, ElasticNetCV\n",
    "from sklearn.metrics import mean_squared_error\n",
    "from sklearn.model_selection import cross_val_score, cross_val_predict, train_test_split, GridSearchCV, RandomizedSearchCV\n",
    "from sklearn.pipeline import Pipeline\n",
    "from sklearn.preprocessing import PolynomialFeatures, StandardScaler\n",
    "from sklearn.feature_selection import chi2\n",
    "from sklearn.model_selection import train_test_split\n",
    "from math import sqrt # alternative to (variable)**0.5\n",
    "from sklearn import metrics\n",
    "\n",
    "import matplotlib\n",
    "import matplotlib.pyplot as plt\n",
    "import seaborn as sns\n",
    "plt.style.use('seaborn')\n",
    "sns.set(style=\"white\", color_codes=True)\n",
    "colors_palette = sns.color_palette(\"GnBu_d\")\n",
    "sns.set_palette(colors_palette)\n"
   ]
  },
  {
   "cell_type": "code",
   "execution_count": 2,
   "id": "47085c44-7075-4519-b111-feba2d2533e5",
   "metadata": {},
   "outputs": [],
   "source": [
    "# import datasets\n",
    "\n",
    "train_data = pd.read_csv('./data_clean_final.csv')\n",
    "test_data = pd.read_csv('./test_clean_final.csv')"
   ]
  },
  {
   "cell_type": "code",
   "execution_count": 3,
   "id": "f1da10ef-6e7d-4712-9988-59f72a19a719",
   "metadata": {},
   "outputs": [
    {
     "name": "stdout",
     "output_type": "stream",
     "text": [
      "(2051, 133)\n",
      "(878, 128)\n"
     ]
    }
   ],
   "source": [
    "# examine the shape of the datasets\n",
    "\n",
    "print(train_data.shape)\n",
    "print(test_data.shape)"
   ]
  },
  {
   "cell_type": "markdown",
   "id": "5bc122e8-10d6-435c-a550-a817826e2d91",
   "metadata": {},
   "source": [
    "### Examine the correlation between features"
   ]
  },
  {
   "cell_type": "code",
   "execution_count": 4,
   "id": "faa8a501-e97d-409b-a0d4-ef86de79c4f2",
   "metadata": {},
   "outputs": [
    {
     "name": "stderr",
     "output_type": "stream",
     "text": [
      "/var/folders/_h/y5c9n2xs6qj32b1f_mr0b0ch0000gn/T/ipykernel_7064/1019392453.py:6: DeprecationWarning: `np.bool` is a deprecated alias for the builtin `bool`. To silence this warning, use `bool` by itself. Doing this will not modify any behavior and is safe. If you specifically wanted the numpy scalar type, use `np.bool_` here.\n",
      "Deprecated in NumPy 1.20; for more details and guidance: https://numpy.org/devdocs/release/1.20.0-notes.html#deprecations\n",
      "  .astype(np.bool))\n"
     ]
    }
   ],
   "source": [
    "# create matrix of all feature correlations\n",
    "\n",
    "corr_matrix = train_data.corr().abs()\n",
    "\n",
    "sol = (corr_matrix.where(np.triu(np.ones(corr_matrix.shape), k=1)\n",
    "                  .astype(np.bool))\n",
    "                  .stack()\n",
    "                  .sort_values(ascending=False))\n",
    "\n",
    "# convert to dataframe and reset multi-level index\n",
    "corr_df = pd.DataFrame(sol.head(20)).reset_index()\n",
    "\n",
    "# rename columns\n",
    "corr_df.columns = 'v1', 'v2', 'pair_corr'"
   ]
  },
  {
   "cell_type": "code",
   "execution_count": 5,
   "id": "6c21e5e9-9ff7-4576-8061-610866cff711",
   "metadata": {},
   "outputs": [],
   "source": [
    "# function to facilitate in the correlation matrix \n",
    "def corr_target(row):\n",
    "    row['v1_y_corr'] = train_data.corr()['SalePrice'][row['v1']]\n",
    "    row['v2_y_corr'] = train_data.corr()['SalePrice'][row['v2']]\n",
    "    return row"
   ]
  },
  {
   "cell_type": "code",
   "execution_count": 6,
   "id": "8f166a0d-0cfb-49ee-8ff3-3bfcb8a45b7b",
   "metadata": {},
   "outputs": [],
   "source": [
    "# Create df with pairwise correlation and correlation to target\n",
    "corr_df = corr_df.apply(corr_target, axis=1)"
   ]
  },
  {
   "cell_type": "code",
   "execution_count": 7,
   "id": "502b60e1-afa8-492f-8f3c-3307972f2b87",
   "metadata": {},
   "outputs": [
    {
     "data": {
      "text/html": [
       "<div>\n",
       "<style scoped>\n",
       "    .dataframe tbody tr th:only-of-type {\n",
       "        vertical-align: middle;\n",
       "    }\n",
       "\n",
       "    .dataframe tbody tr th {\n",
       "        vertical-align: top;\n",
       "    }\n",
       "\n",
       "    .dataframe thead th {\n",
       "        text-align: right;\n",
       "    }\n",
       "</style>\n",
       "<table border=\"1\" class=\"dataframe\">\n",
       "  <thead>\n",
       "    <tr style=\"text-align: right;\">\n",
       "      <th></th>\n",
       "      <th>v1</th>\n",
       "      <th>v2</th>\n",
       "      <th>pair_corr</th>\n",
       "      <th>v1_y_corr</th>\n",
       "      <th>v2_y_corr</th>\n",
       "    </tr>\n",
       "  </thead>\n",
       "  <tbody>\n",
       "    <tr>\n",
       "      <th>0</th>\n",
       "      <td>Exterior 1st_CemntBd</td>\n",
       "      <td>Exterior 2nd_CmentBd</td>\n",
       "      <td>0.988379</td>\n",
       "      <td>0.167513</td>\n",
       "      <td>0.156999</td>\n",
       "    </tr>\n",
       "    <tr>\n",
       "      <th>1</th>\n",
       "      <td>Exterior 1st_VinylSd</td>\n",
       "      <td>Exterior 2nd_VinylSd</td>\n",
       "      <td>0.977569</td>\n",
       "      <td>0.342146</td>\n",
       "      <td>0.337563</td>\n",
       "    </tr>\n",
       "    <tr>\n",
       "      <th>2</th>\n",
       "      <td>Exterior 1st_MetalSd</td>\n",
       "      <td>Exterior 2nd_MetalSd</td>\n",
       "      <td>0.976461</td>\n",
       "      <td>-0.149851</td>\n",
       "      <td>-0.139339</td>\n",
       "    </tr>\n",
       "    <tr>\n",
       "      <th>3</th>\n",
       "      <td>Exterior 1st_HdBoard</td>\n",
       "      <td>Exterior 2nd_HdBoard</td>\n",
       "      <td>0.885877</td>\n",
       "      <td>-0.114332</td>\n",
       "      <td>-0.102462</td>\n",
       "    </tr>\n",
       "    <tr>\n",
       "      <th>4</th>\n",
       "      <td>MS Zoning_FV</td>\n",
       "      <td>Neighborhood_Somerst</td>\n",
       "      <td>0.874854</td>\n",
       "      <td>0.106695</td>\n",
       "      <td>0.150078</td>\n",
       "    </tr>\n",
       "    <tr>\n",
       "      <th>5</th>\n",
       "      <td>Gr Liv Area</td>\n",
       "      <td>TotalSqFeet</td>\n",
       "      <td>0.863761</td>\n",
       "      <td>0.697038</td>\n",
       "      <td>0.783108</td>\n",
       "    </tr>\n",
       "    <tr>\n",
       "      <th>6</th>\n",
       "      <td>Fireplaces</td>\n",
       "      <td>Fireplace Qu</td>\n",
       "      <td>0.859734</td>\n",
       "      <td>0.471093</td>\n",
       "      <td>0.538925</td>\n",
       "    </tr>\n",
       "    <tr>\n",
       "      <th>7</th>\n",
       "      <td>Exterior 1st_Wd Sdng</td>\n",
       "      <td>Exterior 2nd_Wd Sdng</td>\n",
       "      <td>0.859205</td>\n",
       "      <td>-0.191734</td>\n",
       "      <td>-0.172971</td>\n",
       "    </tr>\n",
       "    <tr>\n",
       "      <th>8</th>\n",
       "      <td>Neighborhood_NPkVill</td>\n",
       "      <td>Exterior 2nd_Brk Cmn</td>\n",
       "      <td>0.822054</td>\n",
       "      <td>-0.047296</td>\n",
       "      <td>-0.047893</td>\n",
       "    </tr>\n",
       "    <tr>\n",
       "      <th>9</th>\n",
       "      <td>Exterior 1st_AsbShng</td>\n",
       "      <td>Exterior 2nd_AsbShng</td>\n",
       "      <td>0.819811</td>\n",
       "      <td>-0.126340</td>\n",
       "      <td>-0.110404</td>\n",
       "    </tr>\n",
       "    <tr>\n",
       "      <th>10</th>\n",
       "      <td>MS Zoning_RL</td>\n",
       "      <td>MS Zoning_RM</td>\n",
       "      <td>0.801555</td>\n",
       "      <td>0.231468</td>\n",
       "      <td>-0.281951</td>\n",
       "    </tr>\n",
       "    <tr>\n",
       "      <th>11</th>\n",
       "      <td>Overall Qual</td>\n",
       "      <td>SalePrice</td>\n",
       "      <td>0.800207</td>\n",
       "      <td>0.800207</td>\n",
       "      <td>1.000000</td>\n",
       "    </tr>\n",
       "    <tr>\n",
       "      <th>12</th>\n",
       "      <td>SalePrice</td>\n",
       "      <td>TotalSqFeet</td>\n",
       "      <td>0.783108</td>\n",
       "      <td>1.000000</td>\n",
       "      <td>0.783108</td>\n",
       "    </tr>\n",
       "    <tr>\n",
       "      <th>13</th>\n",
       "      <td>Foundation_CBlock</td>\n",
       "      <td>Foundation_PConc</td>\n",
       "      <td>0.773262</td>\n",
       "      <td>-0.355535</td>\n",
       "      <td>0.529047</td>\n",
       "    </tr>\n",
       "    <tr>\n",
       "      <th>14</th>\n",
       "      <td>Kitchen AbvGr</td>\n",
       "      <td>MS SubClass_90</td>\n",
       "      <td>0.752788</td>\n",
       "      <td>-0.125444</td>\n",
       "      <td>-0.103689</td>\n",
       "    </tr>\n",
       "    <tr>\n",
       "      <th>15</th>\n",
       "      <td>Overall Qual</td>\n",
       "      <td>Exter Qual</td>\n",
       "      <td>0.740257</td>\n",
       "      <td>0.800207</td>\n",
       "      <td>0.712146</td>\n",
       "    </tr>\n",
       "    <tr>\n",
       "      <th>16</th>\n",
       "      <td>Bsmt Qual</td>\n",
       "      <td>AgeofHouse</td>\n",
       "      <td>0.724728</td>\n",
       "      <td>0.693944</td>\n",
       "      <td>-0.571881</td>\n",
       "    </tr>\n",
       "    <tr>\n",
       "      <th>17</th>\n",
       "      <td>Exter Qual</td>\n",
       "      <td>Kitchen Qual</td>\n",
       "      <td>0.722906</td>\n",
       "      <td>0.712146</td>\n",
       "      <td>0.706175</td>\n",
       "    </tr>\n",
       "    <tr>\n",
       "      <th>18</th>\n",
       "      <td>Exterior 1st_Plywood</td>\n",
       "      <td>Exterior 2nd_Plywood</td>\n",
       "      <td>0.716596</td>\n",
       "      <td>-0.039125</td>\n",
       "      <td>-0.059541</td>\n",
       "    </tr>\n",
       "    <tr>\n",
       "      <th>19</th>\n",
       "      <td>Garage Type_Attchd</td>\n",
       "      <td>Garage Type_Detchd</td>\n",
       "      <td>0.715623</td>\n",
       "      <td>0.357879</td>\n",
       "      <td>-0.370344</td>\n",
       "    </tr>\n",
       "  </tbody>\n",
       "</table>\n",
       "</div>"
      ],
      "text/plain": [
       "                      v1                    v2  pair_corr  v1_y_corr  \\\n",
       "0   Exterior 1st_CemntBd  Exterior 2nd_CmentBd   0.988379   0.167513   \n",
       "1   Exterior 1st_VinylSd  Exterior 2nd_VinylSd   0.977569   0.342146   \n",
       "2   Exterior 1st_MetalSd  Exterior 2nd_MetalSd   0.976461  -0.149851   \n",
       "3   Exterior 1st_HdBoard  Exterior 2nd_HdBoard   0.885877  -0.114332   \n",
       "4           MS Zoning_FV  Neighborhood_Somerst   0.874854   0.106695   \n",
       "5            Gr Liv Area           TotalSqFeet   0.863761   0.697038   \n",
       "6             Fireplaces          Fireplace Qu   0.859734   0.471093   \n",
       "7   Exterior 1st_Wd Sdng  Exterior 2nd_Wd Sdng   0.859205  -0.191734   \n",
       "8   Neighborhood_NPkVill  Exterior 2nd_Brk Cmn   0.822054  -0.047296   \n",
       "9   Exterior 1st_AsbShng  Exterior 2nd_AsbShng   0.819811  -0.126340   \n",
       "10          MS Zoning_RL          MS Zoning_RM   0.801555   0.231468   \n",
       "11          Overall Qual             SalePrice   0.800207   0.800207   \n",
       "12             SalePrice           TotalSqFeet   0.783108   1.000000   \n",
       "13     Foundation_CBlock      Foundation_PConc   0.773262  -0.355535   \n",
       "14         Kitchen AbvGr        MS SubClass_90   0.752788  -0.125444   \n",
       "15          Overall Qual            Exter Qual   0.740257   0.800207   \n",
       "16             Bsmt Qual            AgeofHouse   0.724728   0.693944   \n",
       "17            Exter Qual          Kitchen Qual   0.722906   0.712146   \n",
       "18  Exterior 1st_Plywood  Exterior 2nd_Plywood   0.716596  -0.039125   \n",
       "19    Garage Type_Attchd    Garage Type_Detchd   0.715623   0.357879   \n",
       "\n",
       "    v2_y_corr  \n",
       "0    0.156999  \n",
       "1    0.337563  \n",
       "2   -0.139339  \n",
       "3   -0.102462  \n",
       "4    0.150078  \n",
       "5    0.783108  \n",
       "6    0.538925  \n",
       "7   -0.172971  \n",
       "8   -0.047893  \n",
       "9   -0.110404  \n",
       "10  -0.281951  \n",
       "11   1.000000  \n",
       "12   0.783108  \n",
       "13   0.529047  \n",
       "14  -0.103689  \n",
       "15   0.712146  \n",
       "16  -0.571881  \n",
       "17   0.706175  \n",
       "18  -0.059541  \n",
       "19  -0.370344  "
      ]
     },
     "execution_count": 7,
     "metadata": {},
     "output_type": "execute_result"
    }
   ],
   "source": [
    "corr_df.head(20)"
   ]
  },
  {
   "cell_type": "markdown",
   "id": "617481e7-22b7-4125-b413-7720932cf942",
   "metadata": {},
   "source": [
    "- Given the results above, I will be dropping the following features that either have a high correlation with another feature or the predictor variable."
   ]
  },
  {
   "cell_type": "code",
   "execution_count": 8,
   "id": "00e7852f-b0f0-4a82-8834-81d78bbaff53",
   "metadata": {},
   "outputs": [],
   "source": [
    "# drop features with high correlation to one another/the predictor variable\n",
    "\n",
    "train_data = train_data.drop(['Exterior 2nd_CmentBd'], axis=1)\n",
    "train_data = train_data.drop(['Exterior 2nd_MetalSd'], axis=1)\n",
    "train_data = train_data.drop(['Exterior 2nd_VinylSd'], axis=1)\n",
    "train_data = train_data.drop(['Fireplaces'], axis=1)\n",
    "train_data = train_data.drop(['Exterior 2nd_Wd Sdng'], axis=1)\n",
    "train_data = train_data.drop(['Neighborhood_NPkVill'], axis=1)\n",
    "train_data = train_data.drop(['Exterior 2nd_AsbShng'], axis=1)\n",
    "train_data = train_data.drop(['MS Zoning_RL'], axis=1)\n",
    "train_data = train_data.drop(['Overall Qual'], axis=1)\n",
    "train_data = train_data.drop(['TotalSqFeet'], axis=1)\n",
    "train_data = train_data.drop(['Foundation_CBlock'], axis=1)\n",
    "train_data = train_data.drop(['MS SubClass_90'], axis=1)\n",
    "train_data = train_data.drop(['Exter Qual'], axis=1)\n",
    "train_data = train_data.drop(['AgeofHouse'], axis=1)\n",
    "train_data = train_data.drop(['Kitchen Qual'], axis=1)\n",
    "train_data = train_data.drop(['Exterior 1st_Plywood'], axis=1)\n",
    "train_data = train_data.drop(['Garage Type_Attchd'], axis=1)"
   ]
  },
  {
   "cell_type": "code",
   "execution_count": 9,
   "id": "4d347156-a760-49cd-8f1b-bc108ff74d07",
   "metadata": {},
   "outputs": [],
   "source": [
    "# adjusting the variance to see how many features are included - plan to drop 25% of features with low variance \n",
    "\n",
    "low_var_list = train_data.var().sort_values(ascending=False)\n",
    "low_var_list = low_var_list[low_var_list.values < 0.010]"
   ]
  },
  {
   "cell_type": "code",
   "execution_count": 10,
   "id": "28fb8362-0581-4517-86c9-cd203f026c49",
   "metadata": {},
   "outputs": [
    {
     "data": {
      "text/plain": [
       "Neighborhood_BrDale     0.009182\n",
       "Garage Type_2Types      0.009182\n",
       "MS Zoning_C (all)       0.009182\n",
       "Exterior 2nd_Brk Cmn    0.008224\n",
       "Neighborhood_Veenker    0.008224\n",
       "MS SubClass_75          0.007744\n",
       "MS Zoning_RH            0.006783\n",
       "Mas Vnr Type_BrkCmn     0.006301\n",
       "MS SubClass_180         0.005337\n",
       "Exterior 2nd_ImStucc    0.005337\n",
       "Garage Type_CarPort     0.005337\n",
       "MS SubClass_45          0.005337\n",
       "Neighborhood_Blueste    0.002918\n",
       "Exterior 2nd_Stone      0.002918\n",
       "Foundation_Stone        0.002433\n",
       "MS SubClass_40          0.001947\n",
       "Exterior 1st_BrkComm    0.001461\n",
       "Exterior 2nd_AsphShn    0.001461\n",
       "Neighborhood_Greens     0.001461\n",
       "Exterior 1st_Stone      0.000975\n",
       "MS Zoning_A (agr)       0.000975\n",
       "Exterior 1st_CBlock     0.000975\n",
       "Neighborhood_GrnHill    0.000975\n",
       "Foundation_Wood         0.000975\n",
       "Exterior 2nd_CBlock     0.000975\n",
       "MS SubClass_150         0.000488\n",
       "Neighborhood_Landmrk    0.000488\n",
       "MS Zoning_I (all)       0.000488\n",
       "Exterior 1st_ImStucc    0.000488\n",
       "Exterior 1st_AsphShn    0.000488\n",
       "dtype: float64"
      ]
     },
     "execution_count": 10,
     "metadata": {},
     "output_type": "execute_result"
    }
   ],
   "source": [
    "# list of features with low variance\n",
    "\n",
    "low_var_list"
   ]
  },
  {
   "cell_type": "code",
   "execution_count": 11,
   "id": "7385e839-5068-4a1d-a103-293ef6b34dd0",
   "metadata": {},
   "outputs": [],
   "source": [
    "# drop features with low variance (<0.010)\n",
    "\n",
    "low_var_drop_list = [item for item in low_var_list.index]\n",
    "train_data = train_data.drop(low_var_drop_list, axis=1)"
   ]
  },
  {
   "cell_type": "markdown",
   "id": "0db8e34b-93cc-4706-ae4a-226bb2d9023a",
   "metadata": {},
   "source": [
    "### Apply changes to test set"
   ]
  },
  {
   "cell_type": "code",
   "execution_count": 12,
   "id": "99018c83-2e69-4a0c-b214-84a9ad6e157a",
   "metadata": {},
   "outputs": [],
   "source": [
    "# drop features with high correlation to one another/the predictor variable\n",
    "\n",
    "test_data = test_data.drop(['Exterior 2nd_CmentBd'], axis=1)\n",
    "test_data = test_data.drop(['Exterior 2nd_MetalSd'], axis=1)\n",
    "test_data = test_data.drop(['Exterior 2nd_VinylSd'], axis=1)\n",
    "test_data = test_data.drop(['Fireplaces'], axis=1)\n",
    "test_data = test_data.drop(['Exterior 2nd_Wd Sdng'], axis=1)\n",
    "test_data = test_data.drop(['Neighborhood_NPkVill'], axis=1)\n",
    "test_data = test_data.drop(['Exterior 2nd_AsbShng'], axis=1)\n",
    "test_data = test_data.drop(['MS Zoning_RL'], axis=1)\n",
    "test_data = test_data.drop(['Overall Qual'], axis=1)\n",
    "test_data = test_data.drop(['TotalSqFeet'], axis=1)\n",
    "test_data = test_data.drop(['Foundation_CBlock'], axis=1)\n",
    "test_data = test_data.drop(['MS SubClass_90'], axis=1)\n",
    "test_data = test_data.drop(['Exter Qual'], axis=1)\n",
    "test_data = test_data.drop(['AgeofHouse'], axis=1)\n",
    "test_data = test_data.drop(['Kitchen Qual'], axis=1)\n",
    "test_data = test_data.drop(['Exterior 1st_Plywood'], axis=1)\n",
    "test_data = test_data.drop(['Garage Type_Attchd'], axis=1)"
   ]
  },
  {
   "cell_type": "code",
   "execution_count": 1,
   "id": "12690986-1614-4aa9-9fb7-008efa61c35d",
   "metadata": {},
   "outputs": [],
   "source": [
    "# function to apply changes to the test dataset\n",
    "\n",
    "def apply_changes(df):\n",
    "    # Dropping features with low variance\n",
    "    low_var_drop_list = [item for item in low_var_list.index]\n",
    "    df = df.drop(low_var_drop_list, axis=1, errors='ignore')\n",
    "    return df"
   ]
  },
  {
   "cell_type": "code",
   "execution_count": 14,
   "id": "7d52c7ef-c824-4fbf-b7dd-270007eff074",
   "metadata": {},
   "outputs": [],
   "source": [
    "# execute the function from above\n",
    "\n",
    "test_data = apply_changes(test_data)"
   ]
  },
  {
   "cell_type": "code",
   "execution_count": 15,
   "id": "0b046414-2a12-4e28-a250-efebe6624d8a",
   "metadata": {},
   "outputs": [
    {
     "data": {
      "text/plain": [
       "['Mas Vnr Type_CBlock',\n",
       " 'Exterior 1st_PreCast',\n",
       " 'Exterior 2nd_Other',\n",
       " 'Exterior 2nd_PreCast']"
      ]
     },
     "execution_count": 15,
     "metadata": {},
     "output_type": "execute_result"
    }
   ],
   "source": [
    "# check for features in test dataset but not in train dataset\n",
    "\n",
    "[x for x in test_data if x not in train_data]"
   ]
  },
  {
   "cell_type": "code",
   "execution_count": 16,
   "id": "1da6ad2b-f98f-4b02-94e3-7acfba68393b",
   "metadata": {},
   "outputs": [],
   "source": [
    "# drop features that are not in the train dataset \n",
    "\n",
    "test_data = test_data.drop(['Mas Vnr Type_CBlock', 'Exterior 1st_PreCast',\n",
    "                  'Exterior 2nd_PreCast', 'Exterior 2nd_Other'], axis=1)"
   ]
  },
  {
   "cell_type": "markdown",
   "id": "5d5537f2-d098-46f7-b50c-80b70be5ecd2",
   "metadata": {},
   "source": [
    "### Time to export the final datasets for the final notebook that contains the modeling and some insights!"
   ]
  },
  {
   "cell_type": "code",
   "execution_count": 17,
   "id": "59ccdaab-cb3f-4a83-912d-d903e633d6a9",
   "metadata": {},
   "outputs": [],
   "source": [
    "train_data.to_csv('./datasets/train_data_final.csv', index=False)"
   ]
  },
  {
   "cell_type": "code",
   "execution_count": 18,
   "id": "9c88f7ba-36ac-4ce4-8fcc-f85450997e70",
   "metadata": {},
   "outputs": [],
   "source": [
    "test_data.to_csv('./datasets/test_data_final.csv', index=False)"
   ]
  }
 ],
 "metadata": {
  "kernelspec": {
   "display_name": "Python 3 (ipykernel)",
   "language": "python",
   "name": "python3"
  },
  "language_info": {
   "codemirror_mode": {
    "name": "ipython",
    "version": 3
   },
   "file_extension": ".py",
   "mimetype": "text/x-python",
   "name": "python",
   "nbconvert_exporter": "python",
   "pygments_lexer": "ipython3",
   "version": "3.8.13"
  }
 },
 "nbformat": 4,
 "nbformat_minor": 5
}
